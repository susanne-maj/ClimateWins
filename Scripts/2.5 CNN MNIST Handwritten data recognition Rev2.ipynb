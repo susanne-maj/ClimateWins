{
 "cells": [
  {
   "cell_type": "markdown",
   "id": "9d56731a-5118-42a3-816a-46dd73f37726",
   "metadata": {},
   "source": [
    "# CNN HANDWRITTEN DATA RECOGNITION"
   ]
  },
  {
   "cell_type": "markdown",
   "id": "c48e6907-a0e3-45eb-b736-39f25daa71da",
   "metadata": {},
   "source": [
    "## TABLE OF CONTENTS:\n",
    "1. Import libraries\n",
    "2. Train the model on the MNIST data set\n",
    "3. Load and pre-process handwritten data\n",
    "4. Test with Real Data"
   ]
  },
  {
   "cell_type": "markdown",
   "id": "e4feedad-fc15-4ac0-991c-daebf598e62a",
   "metadata": {},
   "source": [
    "### 1. Import libraries"
   ]
  },
  {
   "cell_type": "code",
   "execution_count": 141,
   "id": "a11aa508",
   "metadata": {},
   "outputs": [],
   "source": [
    "import pandas as pd\n",
    "import numpy as np\n",
    "import seaborn as sns\n",
    "import os\n",
    "import operator\n",
    "import matplotlib.pyplot as plt\n",
    "from sklearn.preprocessing import LabelEncoder\n",
    "from sklearn.metrics import confusion_matrix\n",
    "import tensorflow as tf\n",
    "from numpy import unique\n",
    "from numpy import reshape\n",
    "from keras.models import Sequential\n",
    "from keras.layers import Conv1D, Conv2D, Dense, BatchNormalization, Flatten, MaxPooling2D, Activation\n",
    "from tensorflow.keras.layers import Dense, Dropout, Activation\n",
    "from tensorflow.keras.utils import to_categorical\n",
    "from keras.datasets import mnist\n",
    "from numpy import argmax\n",
    "from PIL import Image\n",
    "from numpy import asarray\n",
    "\n",
    "#!pip install opencv-python"
   ]
  },
  {
   "cell_type": "markdown",
   "id": "e3dadddb-f57e-4c25-9679-4879d25debb4",
   "metadata": {},
   "source": [
    "### 2. Train the model on the MNIST data set"
   ]
  },
  {
   "cell_type": "code",
   "execution_count": 142,
   "id": "e719b5f0",
   "metadata": {},
   "outputs": [],
   "source": [
    "tf.random.set_seed(42)"
   ]
  },
  {
   "cell_type": "code",
   "execution_count": 143,
   "id": "392dad74",
   "metadata": {},
   "outputs": [],
   "source": [
    "hand = mnist.load_data()"
   ]
  },
  {
   "cell_type": "code",
   "execution_count": 144,
   "id": "4a6e3087",
   "metadata": {},
   "outputs": [
    {
     "data": {
      "text/plain": [
       "(array([[[0, 0, 0, ..., 0, 0, 0],\n",
       "         [0, 0, 0, ..., 0, 0, 0],\n",
       "         [0, 0, 0, ..., 0, 0, 0],\n",
       "         ...,\n",
       "         [0, 0, 0, ..., 0, 0, 0],\n",
       "         [0, 0, 0, ..., 0, 0, 0],\n",
       "         [0, 0, 0, ..., 0, 0, 0]],\n",
       " \n",
       "        [[0, 0, 0, ..., 0, 0, 0],\n",
       "         [0, 0, 0, ..., 0, 0, 0],\n",
       "         [0, 0, 0, ..., 0, 0, 0],\n",
       "         ...,\n",
       "         [0, 0, 0, ..., 0, 0, 0],\n",
       "         [0, 0, 0, ..., 0, 0, 0],\n",
       "         [0, 0, 0, ..., 0, 0, 0]],\n",
       " \n",
       "        [[0, 0, 0, ..., 0, 0, 0],\n",
       "         [0, 0, 0, ..., 0, 0, 0],\n",
       "         [0, 0, 0, ..., 0, 0, 0],\n",
       "         ...,\n",
       "         [0, 0, 0, ..., 0, 0, 0],\n",
       "         [0, 0, 0, ..., 0, 0, 0],\n",
       "         [0, 0, 0, ..., 0, 0, 0]],\n",
       " \n",
       "        ...,\n",
       " \n",
       "        [[0, 0, 0, ..., 0, 0, 0],\n",
       "         [0, 0, 0, ..., 0, 0, 0],\n",
       "         [0, 0, 0, ..., 0, 0, 0],\n",
       "         ...,\n",
       "         [0, 0, 0, ..., 0, 0, 0],\n",
       "         [0, 0, 0, ..., 0, 0, 0],\n",
       "         [0, 0, 0, ..., 0, 0, 0]],\n",
       " \n",
       "        [[0, 0, 0, ..., 0, 0, 0],\n",
       "         [0, 0, 0, ..., 0, 0, 0],\n",
       "         [0, 0, 0, ..., 0, 0, 0],\n",
       "         ...,\n",
       "         [0, 0, 0, ..., 0, 0, 0],\n",
       "         [0, 0, 0, ..., 0, 0, 0],\n",
       "         [0, 0, 0, ..., 0, 0, 0]],\n",
       " \n",
       "        [[0, 0, 0, ..., 0, 0, 0],\n",
       "         [0, 0, 0, ..., 0, 0, 0],\n",
       "         [0, 0, 0, ..., 0, 0, 0],\n",
       "         ...,\n",
       "         [0, 0, 0, ..., 0, 0, 0],\n",
       "         [0, 0, 0, ..., 0, 0, 0],\n",
       "         [0, 0, 0, ..., 0, 0, 0]]], dtype=uint8),\n",
       " array([5, 0, 4, ..., 5, 6, 8], dtype=uint8))"
      ]
     },
     "execution_count": 144,
     "metadata": {},
     "output_type": "execute_result"
    }
   ],
   "source": [
    "hand[0]"
   ]
  },
  {
   "cell_type": "code",
   "execution_count": 145,
   "id": "840f36fb",
   "metadata": {},
   "outputs": [],
   "source": [
    "(X_train, y_train), (X_test, y_test) = hand"
   ]
  },
  {
   "cell_type": "code",
   "execution_count": 146,
   "id": "f8b21abf",
   "metadata": {},
   "outputs": [],
   "source": [
    "np.set_printoptions(edgeitems=3)\n",
    "np.core.arrayprint._line_width = 180000"
   ]
  },
  {
   "cell_type": "code",
   "execution_count": 147,
   "id": "02642982",
   "metadata": {},
   "outputs": [
    {
     "data": {
      "text/plain": [
       "array([[  0,   0,   0,   0,   0,   0,   0,   0,   0,   0,   0,   0,   0,\n",
       "          0,   0,   0,   0,   0,   0,   0,   0,   0,   0,   0,   0,   0,\n",
       "          0,   0],\n",
       "       [  0,   0,   0,   0,   0,   0,   0,   0,   0,   0,   0,   0,   0,\n",
       "          0,   0,   0,   0,   0,   0,   0,   0,   0,   0,   0,   0,   0,\n",
       "          0,   0],\n",
       "       [  0,   0,   0,   0,   0,   0,   0,   0,   0,   0,   0,   0,   0,\n",
       "          0,   0,   0,   0,   0,   0,   0,   0,   0,   0,   0,   0,   0,\n",
       "          0,   0],\n",
       "       [  0,   0,   0,   0,   0,   0,   0,   0,   0,   0,   0,   0,   0,\n",
       "          0,   0,   0,   0,   0,   0,   0,   0,   0,   0,   0,   0,   0,\n",
       "          0,   0],\n",
       "       [  0,   0,   0,   0,   0,   0,   0,   0,   0,   0,   0,   0,   0,\n",
       "          0,   0,   0,   0,   0,   0,   0,   0,   0,   0,   0,   0,   0,\n",
       "          0,   0],\n",
       "       [  0,   0,   0,   0,   0,   0,   0,   0,   0,   0,   0,   0,   3,\n",
       "         18,  18,  18, 126, 136, 175,  26, 166, 255, 247, 127,   0,   0,\n",
       "          0,   0],\n",
       "       [  0,   0,   0,   0,   0,   0,   0,   0,  30,  36,  94, 154, 170,\n",
       "        253, 253, 253, 253, 253, 225, 172, 253, 242, 195,  64,   0,   0,\n",
       "          0,   0],\n",
       "       [  0,   0,   0,   0,   0,   0,   0,  49, 238, 253, 253, 253, 253,\n",
       "        253, 253, 253, 253, 251,  93,  82,  82,  56,  39,   0,   0,   0,\n",
       "          0,   0],\n",
       "       [  0,   0,   0,   0,   0,   0,   0,  18, 219, 253, 253, 253, 253,\n",
       "        253, 198, 182, 247, 241,   0,   0,   0,   0,   0,   0,   0,   0,\n",
       "          0,   0],\n",
       "       [  0,   0,   0,   0,   0,   0,   0,   0,  80, 156, 107, 253, 253,\n",
       "        205,  11,   0,  43, 154,   0,   0,   0,   0,   0,   0,   0,   0,\n",
       "          0,   0],\n",
       "       [  0,   0,   0,   0,   0,   0,   0,   0,   0,  14,   1, 154, 253,\n",
       "         90,   0,   0,   0,   0,   0,   0,   0,   0,   0,   0,   0,   0,\n",
       "          0,   0],\n",
       "       [  0,   0,   0,   0,   0,   0,   0,   0,   0,   0,   0, 139, 253,\n",
       "        190,   2,   0,   0,   0,   0,   0,   0,   0,   0,   0,   0,   0,\n",
       "          0,   0],\n",
       "       [  0,   0,   0,   0,   0,   0,   0,   0,   0,   0,   0,  11, 190,\n",
       "        253,  70,   0,   0,   0,   0,   0,   0,   0,   0,   0,   0,   0,\n",
       "          0,   0],\n",
       "       [  0,   0,   0,   0,   0,   0,   0,   0,   0,   0,   0,   0,  35,\n",
       "        241, 225, 160, 108,   1,   0,   0,   0,   0,   0,   0,   0,   0,\n",
       "          0,   0],\n",
       "       [  0,   0,   0,   0,   0,   0,   0,   0,   0,   0,   0,   0,   0,\n",
       "         81, 240, 253, 253, 119,  25,   0,   0,   0,   0,   0,   0,   0,\n",
       "          0,   0],\n",
       "       [  0,   0,   0,   0,   0,   0,   0,   0,   0,   0,   0,   0,   0,\n",
       "          0,  45, 186, 253, 253, 150,  27,   0,   0,   0,   0,   0,   0,\n",
       "          0,   0],\n",
       "       [  0,   0,   0,   0,   0,   0,   0,   0,   0,   0,   0,   0,   0,\n",
       "          0,   0,  16,  93, 252, 253, 187,   0,   0,   0,   0,   0,   0,\n",
       "          0,   0],\n",
       "       [  0,   0,   0,   0,   0,   0,   0,   0,   0,   0,   0,   0,   0,\n",
       "          0,   0,   0,   0, 249, 253, 249,  64,   0,   0,   0,   0,   0,\n",
       "          0,   0],\n",
       "       [  0,   0,   0,   0,   0,   0,   0,   0,   0,   0,   0,   0,   0,\n",
       "          0,  46, 130, 183, 253, 253, 207,   2,   0,   0,   0,   0,   0,\n",
       "          0,   0],\n",
       "       [  0,   0,   0,   0,   0,   0,   0,   0,   0,   0,   0,   0,  39,\n",
       "        148, 229, 253, 253, 253, 250, 182,   0,   0,   0,   0,   0,   0,\n",
       "          0,   0],\n",
       "       [  0,   0,   0,   0,   0,   0,   0,   0,   0,   0,  24, 114, 221,\n",
       "        253, 253, 253, 253, 201,  78,   0,   0,   0,   0,   0,   0,   0,\n",
       "          0,   0],\n",
       "       [  0,   0,   0,   0,   0,   0,   0,   0,  23,  66, 213, 253, 253,\n",
       "        253, 253, 198,  81,   2,   0,   0,   0,   0,   0,   0,   0,   0,\n",
       "          0,   0],\n",
       "       [  0,   0,   0,   0,   0,   0,  18, 171, 219, 253, 253, 253, 253,\n",
       "        195,  80,   9,   0,   0,   0,   0,   0,   0,   0,   0,   0,   0,\n",
       "          0,   0],\n",
       "       [  0,   0,   0,   0,  55, 172, 226, 253, 253, 253, 253, 244, 133,\n",
       "         11,   0,   0,   0,   0,   0,   0,   0,   0,   0,   0,   0,   0,\n",
       "          0,   0],\n",
       "       [  0,   0,   0,   0, 136, 253, 253, 253, 212, 135, 132,  16,   0,\n",
       "          0,   0,   0,   0,   0,   0,   0,   0,   0,   0,   0,   0,   0,\n",
       "          0,   0],\n",
       "       [  0,   0,   0,   0,   0,   0,   0,   0,   0,   0,   0,   0,   0,\n",
       "          0,   0,   0,   0,   0,   0,   0,   0,   0,   0,   0,   0,   0,\n",
       "          0,   0],\n",
       "       [  0,   0,   0,   0,   0,   0,   0,   0,   0,   0,   0,   0,   0,\n",
       "          0,   0,   0,   0,   0,   0,   0,   0,   0,   0,   0,   0,   0,\n",
       "          0,   0],\n",
       "       [  0,   0,   0,   0,   0,   0,   0,   0,   0,   0,   0,   0,   0,\n",
       "          0,   0,   0,   0,   0,   0,   0,   0,   0,   0,   0,   0,   0,\n",
       "          0,   0]], dtype=uint8)"
      ]
     },
     "execution_count": 147,
     "metadata": {},
     "output_type": "execute_result"
    }
   ],
   "source": [
    "X_train[0]"
   ]
  },
  {
   "cell_type": "code",
   "execution_count": 148,
   "id": "c4acdad4",
   "metadata": {},
   "outputs": [
    {
     "name": "stdout",
     "output_type": "stream",
     "text": [
      "(60000, 28, 28) (60000,)\n",
      "(10000, 28, 28) (10000,)\n"
     ]
    }
   ],
   "source": [
    "print(X_train.shape, y_train.shape)\n",
    "print(X_test.shape, y_test.shape)"
   ]
  },
  {
   "cell_type": "code",
   "execution_count": 149,
   "id": "182875ff",
   "metadata": {},
   "outputs": [
    {
     "data": {
      "text/plain": [
       "array([5, 0, 4, ..., 5, 6, 8], dtype=uint8)"
      ]
     },
     "execution_count": 149,
     "metadata": {},
     "output_type": "execute_result"
    }
   ],
   "source": [
    "y_train"
   ]
  },
  {
   "cell_type": "code",
   "execution_count": 150,
   "id": "6fe30756",
   "metadata": {},
   "outputs": [
    {
     "data": {
      "text/plain": [
       "<matplotlib.image.AxesImage at 0x224a66f63c0>"
      ]
     },
     "execution_count": 150,
     "metadata": {},
     "output_type": "execute_result"
    },
    {
     "data": {
      "image/png": "[encoded data removed]",
      "text/plain": [
       "<Figure size 640x480 with 1 Axes>"
      ]
     },
     "metadata": {},
     "output_type": "display_data"
    }
   ],
   "source": [
    "plt.imshow(X_train[0])"
   ]
  },
  {
   "cell_type": "code",
   "execution_count": 151,
   "id": "e389ad84",
   "metadata": {},
   "outputs": [
    {
     "data": {
      "image/png": "[encoded data removed]",
      "text/plain": [
       "<Figure size 750x1000 with 25 Axes>"
      ]
     },
     "metadata": {},
     "output_type": "display_data"
    }
   ],
   "source": [
    "num = 25\n",
    "images = X_train[:num]\n",
    "labels = y_train[:num]\n",
    "\n",
    "num_row = 5\n",
    "num_col = 5\n",
    "# plot images\n",
    "fig, axes = plt.subplots(num_row, num_col, figsize=(1.5*num_col,2*num_row))\n",
    "for i in range(num):\n",
    "    ax = axes[i//num_col, i%num_col]\n",
    "    ax.imshow(images[i])#, cmap='gray')\n",
    "    ax.set_title('Label: {}'.format(labels[i]))\n",
    "plt.tight_layout()\n",
    "plt.show()"
   ]
  },
  {
   "cell_type": "code",
   "execution_count": 152,
   "id": "58f14800",
   "metadata": {},
   "outputs": [],
   "source": [
    "# 5. Preprocess input data\n",
    "X_train = X_train.reshape(X_train.shape[0], 28, 28, 1)\n",
    "X_test = X_test.reshape(X_test.shape[0], 28, 28, 1)"
   ]
  },
  {
   "cell_type": "code",
   "execution_count": 153,
   "id": "aa74a1b0",
   "metadata": {},
   "outputs": [],
   "source": [
    "X_train = X_train.astype('float32')\n",
    "X_test = X_test.astype('float32')"
   ]
  },
  {
   "cell_type": "code",
   "execution_count": 154,
   "id": "822b914e",
   "metadata": {},
   "outputs": [],
   "source": [
    "X_train /= 255\n",
    "X_test /= 255"
   ]
  },
  {
   "cell_type": "code",
   "execution_count": 155,
   "id": "7d94a1e2",
   "metadata": {},
   "outputs": [],
   "source": [
    "# 6. Preprocess class labels\n",
    "Y_train = to_categorical(y_train, 10)\n",
    "Y_test = to_categorical(y_test, 10)"
   ]
  },
  {
   "cell_type": "code",
   "execution_count": 156,
   "id": "95187f02",
   "metadata": {},
   "outputs": [
    {
     "data": {
      "text/plain": [
       "array([[0., 0., 0., ..., 0., 0., 0.],\n",
       "       [1., 0., 0., ..., 0., 0., 0.],\n",
       "       [0., 0., 0., ..., 0., 0., 0.],\n",
       "       ...,\n",
       "       [0., 0., 0., ..., 0., 0., 0.],\n",
       "       [0., 0., 0., ..., 0., 0., 0.],\n",
       "       [0., 0., 0., ..., 0., 1., 0.]])"
      ]
     },
     "execution_count": 156,
     "metadata": {},
     "output_type": "execute_result"
    }
   ],
   "source": [
    "Y_train"
   ]
  },
  {
   "cell_type": "code",
   "execution_count": 157,
   "id": "ab8b0b26",
   "metadata": {},
   "outputs": [
    {
     "name": "stdout",
     "output_type": "stream",
     "text": [
      "label:  0  in one-hot representation:  [0 0 0 0 0 1 0 0 0 0]\n",
      "label:  1  in one-hot representation:  [1 0 0 0 0 0 0 0 0 0]\n",
      "label:  2  in one-hot representation:  [0 0 0 0 1 0 0 0 0 0]\n",
      "label:  3  in one-hot representation:  [0 1 0 0 0 0 0 0 0 0]\n",
      "label:  4  in one-hot representation:  [0 0 0 0 0 0 0 0 0 1]\n",
      "label:  5  in one-hot representation:  [0 0 1 0 0 0 0 0 0 0]\n",
      "label:  6  in one-hot representation:  [0 1 0 0 0 0 0 0 0 0]\n",
      "label:  7  in one-hot representation:  [0 0 0 1 0 0 0 0 0 0]\n",
      "label:  8  in one-hot representation:  [0 1 0 0 0 0 0 0 0 0]\n",
      "label:  9  in one-hot representation:  [0 0 0 0 1 0 0 0 0 0]\n"
     ]
    }
   ],
   "source": [
    "for label in range(10):\n",
    "    one_hot = (Y_train[label]).astype(np.int32)\n",
    "    print(\"label: \", label, \" in one-hot representation: \", one_hot)"
   ]
  },
  {
   "cell_type": "code",
   "execution_count": 158,
   "id": "ca844f9e",
   "metadata": {},
   "outputs": [
    {
     "name": "stderr",
     "output_type": "stream",
     "text": [
      "C:\\Users\\Administrator\\anaconda3\\Lib\\site-packages\\keras\\src\\layers\\convolutional\\base_conv.py:113: UserWarning: Do not pass an `input_shape`/`input_dim` argument to a layer. When using Sequential models, prefer using an `Input(shape)` object as the first layer in the model instead.\n",
      "  super().__init__(activity_regularizer=activity_regularizer, **kwargs)\n"
     ]
    }
   ],
   "source": [
    "epochs = 30\n",
    "batch_size = 16\n",
    "n_hidden = 32\n",
    "\n",
    "#timesteps = len(X_train[0])\n",
    "#input_dim = len(X_train[0][0])\n",
    "#n_classes = _count_classes(Y_train)\n",
    "\n",
    "# 7. Define model architecture\n",
    "model = Sequential()\n",
    " \n",
    "model.add(Conv2D(32, (3,3), activation='relu', input_shape=(28,28,1)))\n",
    "model.add(Conv2D(32, (3,3), activation='relu'))\n",
    "model.add(MaxPooling2D(pool_size=(2,2)))\n",
    "model.add(Dropout(0.25))\n",
    " \n",
    "model.add(Flatten())\n",
    "model.add(Dense(128, activation='relu'))\n",
    "model.add(Dropout(0.5))\n",
    "model.add(Dense(10, activation='softmax'))\n",
    " \n",
    "# 8. Compile model\n",
    "model.compile(loss='categorical_crossentropy', optimizer='adam', metrics=['accuracy'])"
   ]
  },
  {
   "cell_type": "code",
   "execution_count": 159,
   "id": "3a790644",
   "metadata": {},
   "outputs": [
    {
     "name": "stdout",
     "output_type": "stream",
     "text": [
      "Epoch 1/10\n",
      "\u001b[1m1875/1875\u001b[0m \u001b[32m━━━━━━━━━━━━━━━━━━━━\u001b[0m\u001b[37m\u001b[0m \u001b[1m19s\u001b[0m 10ms/step - accuracy: 0.9366 - loss: 0.2085\n",
      "Epoch 2/10\n",
      "\u001b[1m1875/1875\u001b[0m \u001b[32m━━━━━━━━━━━━━━━━━━━━\u001b[0m\u001b[37m\u001b[0m \u001b[1m18s\u001b[0m 9ms/step - accuracy: 0.9740 - loss: 0.0864\n",
      "Epoch 3/10\n",
      "\u001b[1m1875/1875\u001b[0m \u001b[32m━━━━━━━━━━━━━━━━━━━━\u001b[0m\u001b[37m\u001b[0m \u001b[1m18s\u001b[0m 9ms/step - accuracy: 0.9801 - loss: 0.0667\n",
      "Epoch 4/10\n",
      "\u001b[1m1875/1875\u001b[0m \u001b[32m━━━━━━━━━━━━━━━━━━━━\u001b[0m\u001b[37m\u001b[0m \u001b[1m18s\u001b[0m 9ms/step - accuracy: 0.9829 - loss: 0.0557\n",
      "Epoch 5/10\n",
      "\u001b[1m1875/1875\u001b[0m \u001b[32m━━━━━━━━━━━━━━━━━━━━\u001b[0m\u001b[37m\u001b[0m \u001b[1m18s\u001b[0m 9ms/step - accuracy: 0.9850 - loss: 0.0493\n",
      "Epoch 6/10\n",
      "\u001b[1m1875/1875\u001b[0m \u001b[32m━━━━━━━━━━━━━━━━━━━━\u001b[0m\u001b[37m\u001b[0m \u001b[1m18s\u001b[0m 9ms/step - accuracy: 0.9855 - loss: 0.0444\n",
      "Epoch 7/10\n",
      "\u001b[1m1875/1875\u001b[0m \u001b[32m━━━━━━━━━━━━━━━━━━━━\u001b[0m\u001b[37m\u001b[0m \u001b[1m18s\u001b[0m 9ms/step - accuracy: 0.9882 - loss: 0.0383\n",
      "Epoch 8/10\n",
      "\u001b[1m1875/1875\u001b[0m \u001b[32m━━━━━━━━━━━━━━━━━━━━\u001b[0m\u001b[37m\u001b[0m \u001b[1m18s\u001b[0m 9ms/step - accuracy: 0.9887 - loss: 0.0355\n",
      "Epoch 9/10\n",
      "\u001b[1m1875/1875\u001b[0m \u001b[32m━━━━━━━━━━━━━━━━━━━━\u001b[0m\u001b[37m\u001b[0m \u001b[1m18s\u001b[0m 9ms/step - accuracy: 0.9901 - loss: 0.0310\n",
      "Epoch 10/10\n",
      "\u001b[1m1875/1875\u001b[0m \u001b[32m━━━━━━━━━━━━━━━━━━━━\u001b[0m\u001b[37m\u001b[0m \u001b[1m17s\u001b[0m 9ms/step - accuracy: 0.9911 - loss: 0.0283\n"
     ]
    },
    {
     "data": {
      "text/plain": [
       "<keras.src.callbacks.history.History at 0x2248f72fa70>"
      ]
     },
     "execution_count": 159,
     "metadata": {},
     "output_type": "execute_result"
    }
   ],
   "source": [
    "# 9. Fit model on training data\n",
    "model.fit(X_train, Y_train, batch_size=32, epochs=10, verbose=1)"
   ]
  },
  {
   "cell_type": "code",
   "execution_count": 160,
   "id": "ff5d4f99",
   "metadata": {
    "scrolled": true
   },
   "outputs": [
    {
     "name": "stdout",
     "output_type": "stream",
     "text": [
      "313/313 - 1s - 3ms/step - accuracy: 0.9924 - loss: 0.0278\n"
     ]
    }
   ],
   "source": [
    "# 10. Evaluate model on test data\n",
    "score = model.evaluate(X_test, Y_test, verbose=2)"
   ]
  },
  {
   "cell_type": "code",
   "execution_count": 161,
   "id": "6aaaabad",
   "metadata": {},
   "outputs": [
    {
     "name": "stdout",
     "output_type": "stream",
     "text": [
      "\u001b[1m1/1\u001b[0m \u001b[32m━━━━━━━━━━━━━━━━━━━━\u001b[0m\u001b[37m\u001b[0m \u001b[1m0s\u001b[0m 64ms/step\n"
     ]
    },
    {
     "data": {
      "text/plain": [
       "array([[8.33217755e-15, 3.27158550e-10, 2.73555123e-10, 3.07139274e-08,\n",
       "        1.32519294e-13, 3.36937069e-14, 2.56853070e-20, 1.00000000e+00,\n",
       "        6.16414200e-14, 9.48528145e-10],\n",
       "       [1.33684245e-14, 9.40503717e-11, 1.00000000e+00, 2.96765595e-15,\n",
       "        2.35832295e-18, 5.78719493e-19, 7.97279831e-13, 1.26655480e-17,\n",
       "        6.25930311e-14, 2.41947486e-19],\n",
       "       [6.74354626e-12, 9.99999762e-01, 1.12633458e-08, 6.07254386e-11,\n",
       "        2.09281019e-08, 7.24313320e-09, 1.84644069e-08, 7.87760257e-08,\n",
       "        1.17874599e-08, 9.14481213e-10],\n",
       "       [9.99813020e-01, 4.76751154e-08, 4.68498520e-08, 2.07597370e-08,\n",
       "        1.03164277e-08, 7.31876426e-09, 1.86115562e-04, 2.33202982e-07,\n",
       "        4.84307691e-07, 1.33603324e-08]], dtype=float32)"
      ]
     },
     "execution_count": 161,
     "metadata": {},
     "output_type": "execute_result"
    }
   ],
   "source": [
    "#predict first 4 images in the test set\n",
    "model.predict(X_test[:4])"
   ]
  },
  {
   "cell_type": "code",
   "execution_count": 162,
   "id": "19a7d0c6",
   "metadata": {},
   "outputs": [
    {
     "name": "stdout",
     "output_type": "stream",
     "text": [
      "\u001b[1m1/1\u001b[0m \u001b[32m━━━━━━━━━━━━━━━━━━━━\u001b[0m\u001b[37m\u001b[0m \u001b[1m0s\u001b[0m 30ms/step\n"
     ]
    },
    {
     "data": {
      "text/plain": [
       "array([1.       , 1.       , 0.9999999, 1.       ], dtype=float32)"
      ]
     },
     "execution_count": 162,
     "metadata": {},
     "output_type": "execute_result"
    }
   ],
   "source": [
    "sumarray = np.sum(model.predict(X_test[:4]), axis=1)\n",
    "sumarray"
   ]
  },
  {
   "cell_type": "code",
   "execution_count": 163,
   "id": "1fc6f5f2",
   "metadata": {},
   "outputs": [
    {
     "data": {
      "text/plain": [
       "array([7, 2, 1, 0], dtype=uint8)"
      ]
     },
     "execution_count": 163,
     "metadata": {},
     "output_type": "execute_result"
    }
   ],
   "source": [
    "#actual results for first 4 images in test set\n",
    "y_test[:4]"
   ]
  },
  {
   "cell_type": "code",
   "execution_count": 164,
   "id": "a060e9ca",
   "metadata": {},
   "outputs": [
    {
     "name": "stdout",
     "output_type": "stream",
     "text": [
      "\u001b[1m313/313\u001b[0m \u001b[32m━━━━━━━━━━━━━━━━━━━━\u001b[0m\u001b[37m\u001b[0m \u001b[1m1s\u001b[0m 3ms/step\n",
      "[[ 975    0    0    1    0    0    2    0    2    0]\n",
      " [   0 1130    1    1    0    1    2    0    0    0]\n",
      " [   2    0 1027    0    0    0    0    3    0    0]\n",
      " [   0    0    1 1007    0    1    0    0    1    0]\n",
      " [   0    0    1    0  978    0    0    0    0    3]\n",
      " [   1    0    0    6    0  884    1    0    0    0]\n",
      " [   3    2    0    0    2    4  945    0    2    0]\n",
      " [   0    0    6    1    0    0    0 1019    1    1]\n",
      " [   1    0    2    1    0    0    0    1  968    1]\n",
      " [   1    0    0    1    2    4    0    5    5  991]]\n"
     ]
    }
   ],
   "source": [
    "test_predictions = model.predict(X_test)\n",
    "cm = confusion_matrix(y_test, np.argmax(test_predictions,axis=1))\n",
    "print(cm)"
   ]
  },
  {
   "cell_type": "markdown",
   "id": "381c7376-ed09-4571-b279-e525225b6f81",
   "metadata": {},
   "source": [
    "### 3. Loading and preprocessing handwritten data "
   ]
  },
  {
   "cell_type": "code",
   "execution_count": 165,
   "id": "d7a4d433",
   "metadata": {},
   "outputs": [
    {
     "data": {
      "text/plain": [
       "'C:\\\\Users\\\\Administrator\\\\Documents\\\\data analytics\\\\Machine Learning\\\\ClimateWins\\\\Pictures\\\\digits'"
      ]
     },
     "execution_count": 165,
     "metadata": {},
     "output_type": "execute_result"
    }
   ],
   "source": [
    "path = r'C:\\Users\\Administrator\\Documents\\data analytics\\Machine Learning\\ClimateWins\\Pictures\\digits'\n",
    "path"
   ]
  },
  {
   "cell_type": "code",
   "execution_count": 166,
   "id": "e05440ca",
   "metadata": {
    "scrolled": true
   },
   "outputs": [
    {
     "name": "stdout",
     "output_type": "stream",
     "text": [
      "PNG\n",
      "(28, 28)\n",
      "L\n"
     ]
    }
   ],
   "source": [
    "img0 = Image.open(os.path.join(path, '0.png')) #<--FILL IN THIS VALUE!\n",
    "print(img0.format)\n",
    "print(img0.size)\n",
    "print(img0.mode)"
   ]
  },
  {
   "cell_type": "code",
   "execution_count": 167,
   "id": "ba10d962-674e-4310-951f-7a90783838a5",
   "metadata": {},
   "outputs": [
    {
     "name": "stdout",
     "output_type": "stream",
     "text": [
      "(28, 28)\n",
      "\u001b[1m1/1\u001b[0m \u001b[32m━━━━━━━━━━━━━━━━━━━━\u001b[0m\u001b[37m\u001b[0m \u001b[1m0s\u001b[0m 66ms/step\n",
      "8\n"
     ]
    }
   ],
   "source": [
    "# Shape into new size\n",
    "newsize = (28,28)\n",
    "img0 = img0.resize(newsize)\n",
    "img0\n",
    "\n",
    "# test array\n",
    "testimg = asarray(img0)\n",
    "\n",
    "print(testimg.shape)\n",
    "\n",
    "testimg = testimg.reshape(1, 28, 28, 1)\n",
    "\n",
    "# predict the class\n",
    "predict_value = model.predict(testimg)\n",
    "digit = argmax(predict_value)\n",
    "print(digit)"
   ]
  },
  {
   "cell_type": "code",
   "execution_count": 168,
   "id": "bee92402-9126-44e8-8a21-43e9e83f4201",
   "metadata": {},
   "outputs": [
    {
     "name": "stdout",
     "output_type": "stream",
     "text": [
      "PNG\n",
      "(28, 28)\n",
      "L\n",
      "(28, 28)\n",
      "\u001b[1m1/1\u001b[0m \u001b[32m━━━━━━━━━━━━━━━━━━━━\u001b[0m\u001b[37m\u001b[0m \u001b[1m0s\u001b[0m 31ms/step\n",
      "8\n"
     ]
    }
   ],
   "source": [
    "# Next image, same as above\n",
    "img1 = Image.open(os.path.join(path, '1.png')) #<--FILL IN THIS VALUE!\n",
    "print(img1.format)\n",
    "print(img1.size)\n",
    "print(img1.mode)\n",
    "\n",
    "# Shape into new size\n",
    "newsize = (28,28)\n",
    "img1 = img1.resize(newsize)\n",
    "img1\n",
    "\n",
    "# test array\n",
    "testimg = asarray(img1)\n",
    "\n",
    "print(testimg.shape)\n",
    "\n",
    "testimg = testimg.reshape(1, 28, 28, 1)\n",
    "\n",
    "# predict the class\n",
    "predict_value = model.predict(testimg)\n",
    "digit = argmax(predict_value)\n",
    "print(digit)"
   ]
  },
  {
   "cell_type": "code",
   "execution_count": 169,
   "id": "b96be776-a677-4077-b3c7-5b6f3997fb05",
   "metadata": {},
   "outputs": [
    {
     "name": "stdout",
     "output_type": "stream",
     "text": [
      "PNG\n",
      "(28, 28)\n",
      "L\n",
      "(28, 28)\n",
      "\u001b[1m1/1\u001b[0m \u001b[32m━━━━━━━━━━━━━━━━━━━━\u001b[0m\u001b[37m\u001b[0m \u001b[1m0s\u001b[0m 24ms/step\n",
      "8\n"
     ]
    }
   ],
   "source": [
    "# Next image, img2, same as above\n",
    "img2 = Image.open(os.path.join(path, '2.png')) #<--FILL IN THIS VALUE!\n",
    "print(img2.format)\n",
    "print(img2.size)\n",
    "print(img2.mode)\n",
    "\n",
    "# Shape into new size\n",
    "newsize = (28,28)\n",
    "img2 = img2.resize(newsize)\n",
    "img3\n",
    "\n",
    "# test array\n",
    "testimg = asarray(img2)\n",
    "\n",
    "print(testimg.shape)\n",
    "\n",
    "testimg = testimg.reshape(1, 28, 28, 1)\n",
    "\n",
    "# predict the class\n",
    "predict_value = model.predict(testimg)\n",
    "digit = argmax(predict_value)\n",
    "print(digit)"
   ]
  },
  {
   "cell_type": "code",
   "execution_count": 170,
   "id": "22e7b131-5f05-43bf-abf4-bd407f0b0d64",
   "metadata": {},
   "outputs": [
    {
     "name": "stdout",
     "output_type": "stream",
     "text": [
      "PNG\n",
      "(28, 28)\n",
      "L\n",
      "(28, 28)\n",
      "\u001b[1m1/1\u001b[0m \u001b[32m━━━━━━━━━━━━━━━━━━━━\u001b[0m\u001b[37m\u001b[0m \u001b[1m0s\u001b[0m 24ms/step\n",
      "8\n"
     ]
    }
   ],
   "source": [
    "# Next image, img3, same as above\n",
    "img3 = Image.open(os.path.join(path, '3.png')) #<--FILL IN THIS VALUE!\n",
    "print(img3.format)\n",
    "print(img3.size)\n",
    "print(img3.mode)\n",
    "\n",
    "# Shape into new size\n",
    "newsize = (28,28)\n",
    "img3 = img3.resize(newsize)\n",
    "img3\n",
    "\n",
    "# test array\n",
    "testimg = asarray(img3)\n",
    "\n",
    "print(testimg.shape)\n",
    "\n",
    "testimg = testimg.reshape(1, 28, 28, 1)\n",
    "\n",
    "# predict the class\n",
    "predict_value = model.predict(testimg)\n",
    "digit = argmax(predict_value)\n",
    "print(digit)"
   ]
  },
  {
   "cell_type": "code",
   "execution_count": 171,
   "id": "23ad2616-f022-460d-9d3a-9126f6ea83b0",
   "metadata": {},
   "outputs": [
    {
     "name": "stdout",
     "output_type": "stream",
     "text": [
      "PNG\n",
      "(28, 28)\n",
      "L\n",
      "(28, 28)\n",
      "\u001b[1m1/1\u001b[0m \u001b[32m━━━━━━━━━━━━━━━━━━━━\u001b[0m\u001b[37m\u001b[0m \u001b[1m0s\u001b[0m 30ms/step\n",
      "8\n"
     ]
    }
   ],
   "source": [
    "# Next image, img4, same as above\n",
    "img4 = Image.open(os.path.join(path, '4.png')) #<--FILL IN THIS VALUE!\n",
    "print(img4.format)\n",
    "print(img4.size)\n",
    "print(img4.mode)\n",
    "\n",
    "# Shape into new size\n",
    "newsize = (28,28)\n",
    "img4 = img4.resize(newsize)\n",
    "img4\n",
    "\n",
    "# test array\n",
    "testimg = asarray(img4)\n",
    "\n",
    "print(testimg.shape)\n",
    "\n",
    "testimg = testimg.reshape(1, 28, 28, 1)\n",
    "\n",
    "# predict the class\n",
    "predict_value = model.predict(testimg)\n",
    "digit = argmax(predict_value)\n",
    "print(digit)"
   ]
  },
  {
   "cell_type": "code",
   "execution_count": 172,
   "id": "0daad3eb-1039-443f-b803-307ed8734283",
   "metadata": {},
   "outputs": [
    {
     "name": "stdout",
     "output_type": "stream",
     "text": [
      "PNG\n",
      "(28, 28)\n",
      "L\n",
      "(28, 28)\n",
      "\u001b[1m1/1\u001b[0m \u001b[32m━━━━━━━━━━━━━━━━━━━━\u001b[0m\u001b[37m\u001b[0m \u001b[1m0s\u001b[0m 25ms/step\n",
      "8\n"
     ]
    }
   ],
   "source": [
    "# Next image, img5, same as above\n",
    "img5 = Image.open(os.path.join(path, '5.png')) #<--FILL IN THIS VALUE!\n",
    "print(img5.format)\n",
    "print(img5.size)\n",
    "print(img5.mode)\n",
    "\n",
    "# Shape into new size\n",
    "newsize = (28,28)\n",
    "img5 = img5.resize(newsize)\n",
    "img5\n",
    "\n",
    "# test array\n",
    "testimg = asarray(img5)\n",
    "\n",
    "print(testimg.shape)\n",
    "\n",
    "testimg = testimg.reshape(1, 28, 28, 1)\n",
    "\n",
    "# predict the class\n",
    "predict_value = model.predict(testimg)\n",
    "digit = argmax(predict_value)\n",
    "print(digit)"
   ]
  },
  {
   "cell_type": "code",
   "execution_count": 173,
   "id": "299e1e50-0522-4cd4-8c1a-c2aab1a9725b",
   "metadata": {},
   "outputs": [
    {
     "name": "stdout",
     "output_type": "stream",
     "text": [
      "PNG\n",
      "(28, 28)\n",
      "L\n",
      "(28, 28)\n",
      "\u001b[1m1/1\u001b[0m \u001b[32m━━━━━━━━━━━━━━━━━━━━\u001b[0m\u001b[37m\u001b[0m \u001b[1m0s\u001b[0m 25ms/step\n",
      "8\n"
     ]
    }
   ],
   "source": [
    "# Next image, img6, same as above\n",
    "img6 = Image.open(os.path.join(path, '6.png')) #<--FILL IN THIS VALUE!\n",
    "print(img6.format)\n",
    "print(img6.size)\n",
    "print(img6.mode)\n",
    "\n",
    "# Shape into new size\n",
    "newsize = (28,28)\n",
    "img6 = img6.resize(newsize)\n",
    "img6\n",
    "\n",
    "# test array\n",
    "testimg = asarray(img6)\n",
    "\n",
    "print(testimg.shape)\n",
    "\n",
    "testimg = testimg.reshape(1, 28, 28, 1)\n",
    "\n",
    "# predict the class\n",
    "predict_value = model.predict(testimg)\n",
    "digit = argmax(predict_value)\n",
    "print(digit)"
   ]
  },
  {
   "cell_type": "code",
   "execution_count": 174,
   "id": "7266fbb2-54d2-49e1-9d4a-3685e6603b81",
   "metadata": {},
   "outputs": [
    {
     "name": "stdout",
     "output_type": "stream",
     "text": [
      "PNG\n",
      "(28, 28)\n",
      "L\n",
      "(28, 28)\n",
      "\u001b[1m1/1\u001b[0m \u001b[32m━━━━━━━━━━━━━━━━━━━━\u001b[0m\u001b[37m\u001b[0m \u001b[1m0s\u001b[0m 25ms/step\n",
      "8\n"
     ]
    }
   ],
   "source": [
    "# Next image, img7, same as above\n",
    "img7 = Image.open(os.path.join(path, '7.png')) #<--FILL IN THIS VALUE!\n",
    "print(img7.format)\n",
    "print(img7.size)\n",
    "print(img7.mode)\n",
    "\n",
    "# Shape into new size\n",
    "newsize = (28,28)\n",
    "img7 = img7.resize(newsize)\n",
    "img7\n",
    "\n",
    "# test array\n",
    "testimg = asarray(img7)\n",
    "\n",
    "print(testimg.shape)\n",
    "\n",
    "testimg = testimg.reshape(1, 28, 28, 1)\n",
    "\n",
    "# predict the class\n",
    "predict_value = model.predict(testimg)\n",
    "digit = argmax(predict_value)\n",
    "print(digit)"
   ]
  },
  {
   "cell_type": "code",
   "execution_count": 175,
   "id": "692ea849-015b-4f16-beee-33b00ea144a8",
   "metadata": {},
   "outputs": [
    {
     "name": "stdout",
     "output_type": "stream",
     "text": [
      "PNG\n",
      "(28, 28)\n",
      "L\n",
      "(28, 28)\n",
      "\u001b[1m1/1\u001b[0m \u001b[32m━━━━━━━━━━━━━━━━━━━━\u001b[0m\u001b[37m\u001b[0m \u001b[1m0s\u001b[0m 25ms/step\n",
      "8\n"
     ]
    }
   ],
   "source": [
    "# Next image, img8, same as above\n",
    "img8 = Image.open(os.path.join(path, '8.png')) #<--FILL IN THIS VALUE!\n",
    "print(img8.format)\n",
    "print(img8.size)\n",
    "print(img8.mode)\n",
    "\n",
    "# Shape into new size\n",
    "newsize = (28,28)\n",
    "img8 = img8.resize(newsize)\n",
    "img8\n",
    "\n",
    "# test array\n",
    "testimg = asarray(img8)\n",
    "\n",
    "print(testimg.shape)\n",
    "\n",
    "testimg = testimg.reshape(1, 28, 28, 1)\n",
    "\n",
    "# predict the class\n",
    "predict_value = model.predict(testimg)\n",
    "digit = argmax(predict_value)\n",
    "print(digit)"
   ]
  },
  {
   "cell_type": "code",
   "execution_count": 176,
   "id": "6cfdb440-944e-459c-a1fd-6a95aeaf6cbd",
   "metadata": {},
   "outputs": [
    {
     "name": "stdout",
     "output_type": "stream",
     "text": [
      "PNG\n",
      "(28, 28)\n",
      "L\n",
      "(28, 28)\n",
      "\u001b[1m1/1\u001b[0m \u001b[32m━━━━━━━━━━━━━━━━━━━━\u001b[0m\u001b[37m\u001b[0m \u001b[1m0s\u001b[0m 27ms/step\n",
      "2\n"
     ]
    }
   ],
   "source": [
    "# Next image, img9, same as above\n",
    "img9 = Image.open(os.path.join(path, '9.png')) #<--FILL IN THIS VALUE!\n",
    "print(img9.format)\n",
    "print(img9.size)\n",
    "print(img9.mode)\n",
    "\n",
    "# Shape into new size\n",
    "newsize = (28,28)\n",
    "img9 = img9.resize(newsize)\n",
    "img9\n",
    "\n",
    "# test array\n",
    "testimg = asarray(img9)\n",
    "\n",
    "print(testimg.shape)\n",
    "\n",
    "testimg = testimg.reshape(1, 28, 28, 1)\n",
    "\n",
    "# predict the class\n",
    "predict_value = model.predict(testimg)\n",
    "digit = argmax(predict_value)\n",
    "print(digit)"
   ]
  },
  {
   "cell_type": "code",
   "execution_count": 177,
   "id": "27b0c83b-bc70-4090-a20c-3405e37bbf29",
   "metadata": {},
   "outputs": [
    {
     "data": {
      "image/jpeg": "[encoded data removed]",
      "image/png": "[encoded data removed]",
      "text/plain": [
       "<PIL.Image.Image image mode=L size=28x28>"
      ]
     },
     "execution_count": 177,
     "metadata": {},
     "output_type": "execute_result"
    }
   ],
   "source": [
    "img0 = img0.resize(newsize) # Redid these steps to check accuracy. \n",
    "img0"
   ]
  },
  {
   "cell_type": "code",
   "execution_count": 178,
   "id": "d8b0cd22-6da7-405e-ab2a-0b3f7eab99c0",
   "metadata": {},
   "outputs": [
    {
     "data": {
      "image/jpeg": "[encoded data removed]",
      "image/png": "[encoded data removed]",
      "text/plain": [
       "<PIL.Image.Image image mode=L size=28x28>"
      ]
     },
     "execution_count": 178,
     "metadata": {},
     "output_type": "execute_result"
    }
   ],
   "source": [
    "img1 = img1.resize(newsize)\n",
    "img1"
   ]
  },
  {
   "cell_type": "code",
   "execution_count": 179,
   "id": "c671ded0-e05d-41b3-b292-aadd93752072",
   "metadata": {},
   "outputs": [
    {
     "data": {
      "image/jpeg": "[encoded data removed]",
      "image/png": "[encoded data removed]",
      "text/plain": [
       "<PIL.Image.Image image mode=L size=28x28>"
      ]
     },
     "execution_count": 179,
     "metadata": {},
     "output_type": "execute_result"
    }
   ],
   "source": [
    "img2 = img2.resize(newsize)\n",
    "img2"
   ]
  },
  {
   "cell_type": "code",
   "execution_count": 180,
   "id": "b27f5d5a-d307-4aac-8bae-0d1d7ca82e95",
   "metadata": {},
   "outputs": [
    {
     "data": {
      "image/jpeg": "[encoded data removed]",
      "image/png": "[encoded data removed]",
      "text/plain": [
       "<PIL.Image.Image image mode=L size=28x28>"
      ]
     },
     "execution_count": 180,
     "metadata": {},
     "output_type": "execute_result"
    }
   ],
   "source": [
    "img3 = img3.resize(newsize)\n",
    "img3"
   ]
  },
  {
   "cell_type": "code",
   "execution_count": 181,
   "id": "b77bc972-866f-4a86-bbb1-60a2f3754600",
   "metadata": {},
   "outputs": [
    {
     "data": {
      "image/jpeg": "[encoded data removed]",
      "image/png": "[encoded data removed]",
      "text/plain": [
       "<PIL.Image.Image image mode=L size=28x28>"
      ]
     },
     "execution_count": 181,
     "metadata": {},
     "output_type": "execute_result"
    }
   ],
   "source": [
    "img4 = img4.resize(newsize)\n",
    "img4\n"
   ]
  },
  {
   "cell_type": "code",
   "execution_count": 182,
   "id": "00b5c579-304c-4b9d-8351-eeb57274d783",
   "metadata": {},
   "outputs": [
    {
     "data": {
      "image/jpeg": "[encoded data removed]",
      "image/png": "[encoded data removed]",
      "text/plain": [
       "<PIL.Image.Image image mode=L size=28x28>"
      ]
     },
     "execution_count": 182,
     "metadata": {},
     "output_type": "execute_result"
    }
   ],
   "source": [
    "img5 = img5.resize(newsize)\n",
    "img5"
   ]
  },
  {
   "cell_type": "code",
   "execution_count": 183,
   "id": "98063a95-048d-435c-b170-5c499ebef06a",
   "metadata": {},
   "outputs": [
    {
     "data": {
      "image/jpeg": "[encoded data removed]",
      "image/png": "[encoded data removed]",
      "text/plain": [
       "<PIL.Image.Image image mode=L size=28x28>"
      ]
     },
     "execution_count": 183,
     "metadata": {},
     "output_type": "execute_result"
    }
   ],
   "source": [
    "img6 = img6.resize(newsize)\n",
    "img6"
   ]
  },
  {
   "cell_type": "code",
   "execution_count": 184,
   "id": "9645204a-c497-40f0-beb2-ebb4de9e5e4d",
   "metadata": {},
   "outputs": [
    {
     "data": {
      "image/jpeg": "[encoded data removed]",
      "image/png": "[encoded data removed]",
      "text/plain": [
       "<PIL.Image.Image image mode=L size=28x28>"
      ]
     },
     "execution_count": 184,
     "metadata": {},
     "output_type": "execute_result"
    }
   ],
   "source": [
    "img7 = img7.resize(newsize)\n",
    "img7"
   ]
  },
  {
   "cell_type": "code",
   "execution_count": 185,
   "id": "e0b974b9-5457-4609-9cad-b765a039bf56",
   "metadata": {},
   "outputs": [
    {
     "data": {
      "image/jpeg": "[encoded data removed]",
      "image/png": "[encoded data removed]",
      "text/plain": [
       "<PIL.Image.Image image mode=L size=28x28>"
      ]
     },
     "execution_count": 185,
     "metadata": {},
     "output_type": "execute_result"
    }
   ],
   "source": [
    "img8 = img8.resize(newsize)\n",
    "img8"
   ]
  },
  {
   "cell_type": "code",
   "execution_count": 186,
   "id": "cc343f1e-f423-440b-97a9-4d1db23649bf",
   "metadata": {},
   "outputs": [
    {
     "data": {
      "image/jpeg": "[encoded data removed]",
      "image/png": "[encoded data removed]",
      "text/plain": [
       "<PIL.Image.Image image mode=L size=28x28>"
      ]
     },
     "execution_count": 186,
     "metadata": {},
     "output_type": "execute_result"
    }
   ],
   "source": [
    "img9 = img9.resize(newsize)\n",
    "img9"
   ]
  },
  {
   "cell_type": "markdown",
   "id": "02ff3111-c241-4017-9787-621b502a1114",
   "metadata": {},
   "source": [
    "### 4. TESTING WITH REAL DATA"
   ]
  },
  {
   "cell_type": "code",
   "execution_count": 187,
   "id": "263a8f16-aa36-4aad-b8b9-806ff8094671",
   "metadata": {},
   "outputs": [
    {
     "name": "stdout",
     "output_type": "stream",
     "text": [
      "\u001b[1m1/1\u001b[0m \u001b[32m━━━━━━━━━━━━━━━━━━━━\u001b[0m\u001b[37m\u001b[0m \u001b[1m0s\u001b[0m 26ms/step\n",
      "2\n"
     ]
    }
   ],
   "source": [
    "# predict the class\n",
    "predict_value = model.predict(testimg)\n",
    "digit = argmax(predict_value)\n",
    "print(digit)"
   ]
  },
  {
   "cell_type": "code",
   "execution_count": 188,
   "id": "f1149b17",
   "metadata": {},
   "outputs": [
    {
     "data": {
      "text/plain": [
       "[0, 1, 2, 3, 4, 5, 6, 7, 8, 9]"
      ]
     },
     "execution_count": 188,
     "metadata": {},
     "output_type": "execute_result"
    }
   ],
   "source": [
    "labels = list(range(10))\n",
    "labels"
   ]
  },
  {
   "cell_type": "code",
   "execution_count": 189,
   "id": "b04d6347-ac58-4cf4-8939-b6f651e82265",
   "metadata": {},
   "outputs": [],
   "source": [
    "path = r'C:\\Users\\Administrator\\Documents\\data analytics\\Machine Learning\\ClimateWins\\Pictures\\digits'"
   ]
  },
  {
   "cell_type": "code",
   "execution_count": 190,
   "id": "32fe2eda-251b-490c-bb19-34402230a78a",
   "metadata": {},
   "outputs": [
    {
     "data": {
      "text/plain": [
       "'C:\\\\Users\\\\Administrator\\\\Documents\\\\data analytics\\\\Machine Learning\\\\ClimateWins\\\\Pictures\\\\digits\\\\8.JPG'"
      ]
     },
     "execution_count": 190,
     "metadata": {},
     "output_type": "execute_result"
    }
   ],
   "source": [
    "# import os \n",
    "os.path.join(path,'8.JPG')"
   ]
  },
  {
   "cell_type": "code",
   "execution_count": 191,
   "id": "42297925-0ca5-4ed1-9374-3f818f07de48",
   "metadata": {},
   "outputs": [
    {
     "name": "stdout",
     "output_type": "stream",
     "text": [
      "C:\\Users\\Administrator\\Documents\\data analytics\\Machine Learning\\ClimateWins\\Pictures\\digits\\0.PNG\n",
      "C:\\Users\\Administrator\\Documents\\data analytics\\Machine Learning\\ClimateWins\\Pictures\\digits\\1.PNG\n",
      "C:\\Users\\Administrator\\Documents\\data analytics\\Machine Learning\\ClimateWins\\Pictures\\digits\\2.PNG\n",
      "C:\\Users\\Administrator\\Documents\\data analytics\\Machine Learning\\ClimateWins\\Pictures\\digits\\3.PNG\n",
      "C:\\Users\\Administrator\\Documents\\data analytics\\Machine Learning\\ClimateWins\\Pictures\\digits\\4.PNG\n",
      "C:\\Users\\Administrator\\Documents\\data analytics\\Machine Learning\\ClimateWins\\Pictures\\digits\\5.PNG\n",
      "C:\\Users\\Administrator\\Documents\\data analytics\\Machine Learning\\ClimateWins\\Pictures\\digits\\6.PNG\n",
      "C:\\Users\\Administrator\\Documents\\data analytics\\Machine Learning\\ClimateWins\\Pictures\\digits\\7.PNG\n",
      "C:\\Users\\Administrator\\Documents\\data analytics\\Machine Learning\\ClimateWins\\Pictures\\digits\\8.PNG\n",
      "C:\\Users\\Administrator\\Documents\\data analytics\\Machine Learning\\ClimateWins\\Pictures\\digits\\9.PNG\n"
     ]
    }
   ],
   "source": [
    "for label in labels:\n",
    "    img_path = os.path.join(path, f'{label}.PNG')\n",
    "    print(img_path)\n",
    "    img = Image.open(img_path) "
   ]
  },
  {
   "cell_type": "code",
   "execution_count": null,
   "id": "5f6615fc-1b2c-4889-b9dd-96f9b01dcbce",
   "metadata": {},
   "outputs": [],
   "source": []
  },
  {
   "cell_type": "code",
   "execution_count": null,
   "id": "aa150bd8-277e-4d3b-8249-0eef3b889889",
   "metadata": {},
   "outputs": [],
   "source": []
  },
  {
   "cell_type": "code",
   "execution_count": null,
   "id": "780ab055-ae8d-4dfc-9e4c-b121efcedf56",
   "metadata": {},
   "outputs": [],
   "source": [
    "\n"
   ]
  }
 ],
 "metadata": {
  "kernelspec": {
   "display_name": "Python 3 (ipykernel)",
   "language": "python",
   "name": "python3"
  },
  "language_info": {
   "codemirror_mode": {
    "name": "ipython",
    "version": 3
   },
   "file_extension": ".py",
   "mimetype": "text/x-python",
   "name": "python",
   "nbconvert_exporter": "python",
   "pygments_lexer": "ipython3",
   "version": "3.12.3"
  }
 },
 "nbformat": 4,
 "nbformat_minor": 5
}
