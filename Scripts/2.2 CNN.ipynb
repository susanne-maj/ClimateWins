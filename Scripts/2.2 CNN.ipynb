{
 "cells": [
  {
   "cell_type": "markdown",
   "id": "5bfc4561-ca2a-42dd-80fd-c798f03ea505",
   "metadata": {},
   "source": [
    "# KERAS LAYERED MODEL (CNN)"
   ]
  },
  {
   "cell_type": "markdown",
   "id": "364e0829-8be9-41c9-8b7e-5001a6bee002",
   "metadata": {},
   "source": [
    "## CONTENTS:\n",
    "\n",
    "1. Import Libraries and Data¶\n",
    "2. Data Wrangling and Reshaping\n",
    "3. Data Splitting\n",
    "4. Keras Model Creation\n",
    "5. Compiling and Running Model\n",
    "6. Confusion Matrix Creation\n",
    "7. Keras Model Retrials (Until Convergence)"
   ]
  },
  {
   "cell_type": "markdown",
   "id": "b6790ca5-2e2d-4a51-850f-3dba493796e3",
   "metadata": {},
   "source": [
    "### 1. IMPORT LIBRARIES AND DATA"
   ]
  },
  {
   "cell_type": "code",
   "execution_count": 1,
   "id": "602ba683-ac1c-4d5f-8f79-84a20c3f8c51",
   "metadata": {},
   "outputs": [],
   "source": [
    "import pandas as pd\n",
    "import numpy as np\n",
    "import seaborn as sns\n",
    "import os\n",
    "import operator\n",
    "import matplotlib.pyplot as plt\n",
    "import tensorflow as tf\n",
    "from tensorflow import keras\n",
    "from numpy import unique\n",
    "from numpy import reshape\n",
    "from keras.models import Sequential\n",
    "from keras.layers import Conv1D, Conv2D, Dense, BatchNormalization, Flatten, MaxPooling1D, Dropout\n",
    "from keras.utils import to_categorical\n",
    "from sklearn.model_selection import train_test_split\n",
    "from sklearn.preprocessing import LabelEncoder\n",
    "\n",
    "import warnings\n",
    "warnings.filterwarnings(\"ignore\")"
   ]
  },
  {
   "cell_type": "code",
   "execution_count": 2,
   "id": "d9e97147-3b42-4823-89e9-2719201c623b",
   "metadata": {},
   "outputs": [],
   "source": [
    "# Define path for where data is stored\n",
    "path = r'C:\\Users\\Administrator\\Documents\\data analytics\\Machine Learning\\ClimateWins\\Data Sets'"
   ]
  },
  {
   "cell_type": "code",
   "execution_count": 3,
   "id": "7ddc147d-9cad-4120-9ee6-fd35120acc07",
   "metadata": {},
   "outputs": [],
   "source": [
    "# Import the weather data that was already scaled. \n",
    "climate = pd.read_csv(os.path.join(path, 'data_scaled.csv'))"
   ]
  },
  {
   "cell_type": "code",
   "execution_count": 4,
   "id": "67fd2987-703a-4d8c-a7a5-1c263bd16534",
   "metadata": {},
   "outputs": [
    {
     "data": {
      "text/html": [
       "<div>\n",
       "<style scoped>\n",
       "    .dataframe tbody tr th:only-of-type {\n",
       "        vertical-align: middle;\n",
       "    }\n",
       "\n",
       "    .dataframe tbody tr th {\n",
       "        vertical-align: top;\n",
       "    }\n",
       "\n",
       "    .dataframe thead th {\n",
       "        text-align: right;\n",
       "    }\n",
       "</style>\n",
       "<table border=\"1\" class=\"dataframe\">\n",
       "  <thead>\n",
       "    <tr style=\"text-align: right;\">\n",
       "      <th></th>\n",
       "      <th>Unnamed: 0</th>\n",
       "      <th>MONTH</th>\n",
       "      <th>BASEL_cloud_cover</th>\n",
       "      <th>BASEL_wind_speed</th>\n",
       "      <th>BASEL_humidity</th>\n",
       "      <th>BASEL_pressure</th>\n",
       "      <th>BASEL_global_radiation</th>\n",
       "      <th>BASEL_precipitation</th>\n",
       "      <th>BASEL_snow_depth</th>\n",
       "      <th>BASEL_sunshine</th>\n",
       "      <th>...</th>\n",
       "      <th>VALENTIA_humidity</th>\n",
       "      <th>VALENTIA_pressure</th>\n",
       "      <th>VALENTIA_global_radiation</th>\n",
       "      <th>VALENTIA_precipitation</th>\n",
       "      <th>VALENTIA_snow_depth</th>\n",
       "      <th>VALENTIA_sunshine</th>\n",
       "      <th>VALENTIA_temp_mean</th>\n",
       "      <th>VALENTIA_temp_min</th>\n",
       "      <th>VALENTIA_temp_max</th>\n",
       "      <th>DATE</th>\n",
       "    </tr>\n",
       "  </thead>\n",
       "  <tbody>\n",
       "    <tr>\n",
       "      <th>0</th>\n",
       "      <td>0</td>\n",
       "      <td>-1.599964</td>\n",
       "      <td>0.660514</td>\n",
       "      <td>-0.02793</td>\n",
       "      <td>0.826097</td>\n",
       "      <td>-0.001949</td>\n",
       "      <td>-1.101066</td>\n",
       "      <td>-0.265148</td>\n",
       "      <td>-0.179228</td>\n",
       "      <td>-0.902918</td>\n",
       "      <td>...</td>\n",
       "      <td>0.761754</td>\n",
       "      <td>-1.299744</td>\n",
       "      <td>-0.806427</td>\n",
       "      <td>-0.088407</td>\n",
       "      <td>-0.024706</td>\n",
       "      <td>0.372147</td>\n",
       "      <td>-0.668215</td>\n",
       "      <td>-0.519743</td>\n",
       "      <td>-0.752237</td>\n",
       "      <td>19600101</td>\n",
       "    </tr>\n",
       "    <tr>\n",
       "      <th>1</th>\n",
       "      <td>1</td>\n",
       "      <td>-1.599964</td>\n",
       "      <td>0.244897</td>\n",
       "      <td>-0.02793</td>\n",
       "      <td>0.735760</td>\n",
       "      <td>-0.001949</td>\n",
       "      <td>-1.058108</td>\n",
       "      <td>1.658760</td>\n",
       "      <td>-0.179228</td>\n",
       "      <td>-0.810126</td>\n",
       "      <td>...</td>\n",
       "      <td>1.183580</td>\n",
       "      <td>-1.262455</td>\n",
       "      <td>-1.042055</td>\n",
       "      <td>0.503361</td>\n",
       "      <td>-0.024706</td>\n",
       "      <td>-0.829285</td>\n",
       "      <td>-0.548046</td>\n",
       "      <td>-0.629054</td>\n",
       "      <td>-0.407141</td>\n",
       "      <td>19600102</td>\n",
       "    </tr>\n",
       "    <tr>\n",
       "      <th>2</th>\n",
       "      <td>2</td>\n",
       "      <td>-1.599964</td>\n",
       "      <td>1.076130</td>\n",
       "      <td>-0.02793</td>\n",
       "      <td>1.277781</td>\n",
       "      <td>-0.001949</td>\n",
       "      <td>-1.251420</td>\n",
       "      <td>0.155707</td>\n",
       "      <td>-0.179228</td>\n",
       "      <td>-1.065304</td>\n",
       "      <td>...</td>\n",
       "      <td>1.183580</td>\n",
       "      <td>-0.432779</td>\n",
       "      <td>-1.136306</td>\n",
       "      <td>-0.396127</td>\n",
       "      <td>-0.024706</td>\n",
       "      <td>-1.009500</td>\n",
       "      <td>-0.067372</td>\n",
       "      <td>0.054135</td>\n",
       "      <td>-0.177078</td>\n",
       "      <td>19600103</td>\n",
       "    </tr>\n",
       "  </tbody>\n",
       "</table>\n",
       "<p>3 rows × 171 columns</p>\n",
       "</div>"
      ],
      "text/plain": [
       "   Unnamed: 0     MONTH  BASEL_cloud_cover  BASEL_wind_speed  BASEL_humidity  \\\n",
       "0           0 -1.599964           0.660514          -0.02793        0.826097   \n",
       "1           1 -1.599964           0.244897          -0.02793        0.735760   \n",
       "2           2 -1.599964           1.076130          -0.02793        1.277781   \n",
       "\n",
       "   BASEL_pressure  BASEL_global_radiation  BASEL_precipitation  \\\n",
       "0       -0.001949               -1.101066            -0.265148   \n",
       "1       -0.001949               -1.058108             1.658760   \n",
       "2       -0.001949               -1.251420             0.155707   \n",
       "\n",
       "   BASEL_snow_depth  BASEL_sunshine  ...  VALENTIA_humidity  \\\n",
       "0         -0.179228       -0.902918  ...           0.761754   \n",
       "1         -0.179228       -0.810126  ...           1.183580   \n",
       "2         -0.179228       -1.065304  ...           1.183580   \n",
       "\n",
       "   VALENTIA_pressure  VALENTIA_global_radiation  VALENTIA_precipitation  \\\n",
       "0          -1.299744                  -0.806427               -0.088407   \n",
       "1          -1.262455                  -1.042055                0.503361   \n",
       "2          -0.432779                  -1.136306               -0.396127   \n",
       "\n",
       "   VALENTIA_snow_depth  VALENTIA_sunshine  VALENTIA_temp_mean  \\\n",
       "0            -0.024706           0.372147           -0.668215   \n",
       "1            -0.024706          -0.829285           -0.548046   \n",
       "2            -0.024706          -1.009500           -0.067372   \n",
       "\n",
       "   VALENTIA_temp_min  VALENTIA_temp_max      DATE  \n",
       "0          -0.519743          -0.752237  19600101  \n",
       "1          -0.629054          -0.407141  19600102  \n",
       "2           0.054135          -0.177078  19600103  \n",
       "\n",
       "[3 rows x 171 columns]"
      ]
     },
     "execution_count": 4,
     "metadata": {},
     "output_type": "execute_result"
    }
   ],
   "source": [
    "climate.head(3)"
   ]
  },
  {
   "cell_type": "code",
   "execution_count": 5,
   "id": "92f220cf-a870-4fa4-9471-246fe1038e90",
   "metadata": {},
   "outputs": [],
   "source": [
    "# Drop the unnecessary unnamed column\n",
    "climate= climate.drop('Unnamed: 0', axis = 1)"
   ]
  },
  {
   "cell_type": "code",
   "execution_count": 6,
   "id": "2ad1fbb8-8cfc-4232-ba60-72106cfb8155",
   "metadata": {},
   "outputs": [
    {
     "data": {
      "text/html": [
       "<div>\n",
       "<style scoped>\n",
       "    .dataframe tbody tr th:only-of-type {\n",
       "        vertical-align: middle;\n",
       "    }\n",
       "\n",
       "    .dataframe tbody tr th {\n",
       "        vertical-align: top;\n",
       "    }\n",
       "\n",
       "    .dataframe thead th {\n",
       "        text-align: right;\n",
       "    }\n",
       "</style>\n",
       "<table border=\"1\" class=\"dataframe\">\n",
       "  <thead>\n",
       "    <tr style=\"text-align: right;\">\n",
       "      <th></th>\n",
       "      <th>MONTH</th>\n",
       "      <th>BASEL_cloud_cover</th>\n",
       "      <th>BASEL_wind_speed</th>\n",
       "      <th>BASEL_humidity</th>\n",
       "      <th>BASEL_pressure</th>\n",
       "      <th>BASEL_global_radiation</th>\n",
       "      <th>BASEL_precipitation</th>\n",
       "      <th>BASEL_snow_depth</th>\n",
       "      <th>BASEL_sunshine</th>\n",
       "      <th>BASEL_temp_mean</th>\n",
       "      <th>...</th>\n",
       "      <th>VALENTIA_humidity</th>\n",
       "      <th>VALENTIA_pressure</th>\n",
       "      <th>VALENTIA_global_radiation</th>\n",
       "      <th>VALENTIA_precipitation</th>\n",
       "      <th>VALENTIA_snow_depth</th>\n",
       "      <th>VALENTIA_sunshine</th>\n",
       "      <th>VALENTIA_temp_mean</th>\n",
       "      <th>VALENTIA_temp_min</th>\n",
       "      <th>VALENTIA_temp_max</th>\n",
       "      <th>DATE</th>\n",
       "    </tr>\n",
       "  </thead>\n",
       "  <tbody>\n",
       "    <tr>\n",
       "      <th>0</th>\n",
       "      <td>-1.599964</td>\n",
       "      <td>0.660514</td>\n",
       "      <td>-0.02793</td>\n",
       "      <td>0.826097</td>\n",
       "      <td>-0.001949</td>\n",
       "      <td>-1.101066</td>\n",
       "      <td>-0.265148</td>\n",
       "      <td>-0.179228</td>\n",
       "      <td>-0.902918</td>\n",
       "      <td>-0.528623</td>\n",
       "      <td>...</td>\n",
       "      <td>0.761754</td>\n",
       "      <td>-1.299744</td>\n",
       "      <td>-0.806427</td>\n",
       "      <td>-0.088407</td>\n",
       "      <td>-0.024706</td>\n",
       "      <td>0.372147</td>\n",
       "      <td>-0.668215</td>\n",
       "      <td>-0.519743</td>\n",
       "      <td>-0.752237</td>\n",
       "      <td>19600101</td>\n",
       "    </tr>\n",
       "    <tr>\n",
       "      <th>1</th>\n",
       "      <td>-1.599964</td>\n",
       "      <td>0.244897</td>\n",
       "      <td>-0.02793</td>\n",
       "      <td>0.735760</td>\n",
       "      <td>-0.001949</td>\n",
       "      <td>-1.058108</td>\n",
       "      <td>1.658760</td>\n",
       "      <td>-0.179228</td>\n",
       "      <td>-0.810126</td>\n",
       "      <td>-0.582946</td>\n",
       "      <td>...</td>\n",
       "      <td>1.183580</td>\n",
       "      <td>-1.262455</td>\n",
       "      <td>-1.042055</td>\n",
       "      <td>0.503361</td>\n",
       "      <td>-0.024706</td>\n",
       "      <td>-0.829285</td>\n",
       "      <td>-0.548046</td>\n",
       "      <td>-0.629054</td>\n",
       "      <td>-0.407141</td>\n",
       "      <td>19600102</td>\n",
       "    </tr>\n",
       "    <tr>\n",
       "      <th>2</th>\n",
       "      <td>-1.599964</td>\n",
       "      <td>1.076130</td>\n",
       "      <td>-0.02793</td>\n",
       "      <td>1.277781</td>\n",
       "      <td>-0.001949</td>\n",
       "      <td>-1.251420</td>\n",
       "      <td>0.155707</td>\n",
       "      <td>-0.179228</td>\n",
       "      <td>-1.065304</td>\n",
       "      <td>-0.257010</td>\n",
       "      <td>...</td>\n",
       "      <td>1.183580</td>\n",
       "      <td>-0.432779</td>\n",
       "      <td>-1.136306</td>\n",
       "      <td>-0.396127</td>\n",
       "      <td>-0.024706</td>\n",
       "      <td>-1.009500</td>\n",
       "      <td>-0.067372</td>\n",
       "      <td>0.054135</td>\n",
       "      <td>-0.177078</td>\n",
       "      <td>19600103</td>\n",
       "    </tr>\n",
       "  </tbody>\n",
       "</table>\n",
       "<p>3 rows × 170 columns</p>\n",
       "</div>"
      ],
      "text/plain": [
       "      MONTH  BASEL_cloud_cover  BASEL_wind_speed  BASEL_humidity  \\\n",
       "0 -1.599964           0.660514          -0.02793        0.826097   \n",
       "1 -1.599964           0.244897          -0.02793        0.735760   \n",
       "2 -1.599964           1.076130          -0.02793        1.277781   \n",
       "\n",
       "   BASEL_pressure  BASEL_global_radiation  BASEL_precipitation  \\\n",
       "0       -0.001949               -1.101066            -0.265148   \n",
       "1       -0.001949               -1.058108             1.658760   \n",
       "2       -0.001949               -1.251420             0.155707   \n",
       "\n",
       "   BASEL_snow_depth  BASEL_sunshine  BASEL_temp_mean  ...  VALENTIA_humidity  \\\n",
       "0         -0.179228       -0.902918        -0.528623  ...           0.761754   \n",
       "1         -0.179228       -0.810126        -0.582946  ...           1.183580   \n",
       "2         -0.179228       -1.065304        -0.257010  ...           1.183580   \n",
       "\n",
       "   VALENTIA_pressure  VALENTIA_global_radiation  VALENTIA_precipitation  \\\n",
       "0          -1.299744                  -0.806427               -0.088407   \n",
       "1          -1.262455                  -1.042055                0.503361   \n",
       "2          -0.432779                  -1.136306               -0.396127   \n",
       "\n",
       "   VALENTIA_snow_depth  VALENTIA_sunshine  VALENTIA_temp_mean  \\\n",
       "0            -0.024706           0.372147           -0.668215   \n",
       "1            -0.024706          -0.829285           -0.548046   \n",
       "2            -0.024706          -1.009500           -0.067372   \n",
       "\n",
       "   VALENTIA_temp_min  VALENTIA_temp_max      DATE  \n",
       "0          -0.519743          -0.752237  19600101  \n",
       "1          -0.629054          -0.407141  19600102  \n",
       "2           0.054135          -0.177078  19600103  \n",
       "\n",
       "[3 rows x 170 columns]"
      ]
     },
     "execution_count": 6,
     "metadata": {},
     "output_type": "execute_result"
    }
   ],
   "source": [
    "climate.head(3)"
   ]
  },
  {
   "cell_type": "code",
   "execution_count": 7,
   "id": "1e5ec899-c0e3-446d-9e3a-837eebd4859e",
   "metadata": {},
   "outputs": [
    {
     "data": {
      "text/plain": [
       "(22950, 170)"
      ]
     },
     "execution_count": 7,
     "metadata": {},
     "output_type": "execute_result"
    }
   ],
   "source": [
    "climate.shape"
   ]
  },
  {
   "cell_type": "code",
   "execution_count": 8,
   "id": "8bf55df5-35bb-4f9c-957a-580a19a89b6f",
   "metadata": {},
   "outputs": [],
   "source": [
    "# Read in the Answers data.\n",
    "answers = pd.read_csv(os.path.join(path, 'Dataset-Answers-Weather_Prediction_Pleasant_Weather.csv'))"
   ]
  },
  {
   "cell_type": "code",
   "execution_count": 9,
   "id": "d0db9a3f-258e-4438-b8d8-bf1cdc254ca0",
   "metadata": {},
   "outputs": [
    {
     "data": {
      "text/plain": [
       "(22950, 16)"
      ]
     },
     "execution_count": 9,
     "metadata": {},
     "output_type": "execute_result"
    }
   ],
   "source": [
    "answers.shape"
   ]
  },
  {
   "cell_type": "markdown",
   "id": "a9dc242e-6170-49bc-96a0-d1668922a5f1",
   "metadata": {},
   "source": [
    "### 2. DATA WRANGLING AND RESHAPING"
   ]
  },
  {
   "cell_type": "code",
   "execution_count": 10,
   "id": "b4047bd8-8884-407f-a47c-ec5421b46f0e",
   "metadata": {},
   "outputs": [
    {
     "name": "stdout",
     "output_type": "stream",
     "text": [
      "149\n"
     ]
    }
   ],
   "source": [
    "# Drop Gdansk, Roma and Tours since they are missing from the Answers file. I use a filtering function. \n",
    "\n",
    "# List of city names\n",
    "cities = ['GDANSK', 'ROMA', 'TOURS']\n",
    "\n",
    "# Find columns that include any of the city names\n",
    "cols_to_drop = [col for col in climate.columns if any(city in col for city in cities)]\n",
    "\n",
    "# Drop those columns\n",
    "climatedr = climate.drop(columns=cols_to_drop)\n",
    "\n",
    "# Count nr of columns in climatedr\n",
    "num_columns = climatedr.shape[1]\n",
    "print(num_columns)"
   ]
  },
  {
   "cell_type": "code",
   "execution_count": 11,
   "id": "c2d82309-3aa1-4df0-93b1-41cc74c4b767",
   "metadata": {},
   "outputs": [
    {
     "data": {
      "text/plain": [
       "(22950, 149)"
      ]
     },
     "execution_count": 11,
     "metadata": {},
     "output_type": "execute_result"
    }
   ],
   "source": [
    "climatedr.shape"
   ]
  },
  {
   "cell_type": "code",
   "execution_count": 12,
   "id": "5803deef-7bfe-44d3-a6f3-13257dcbc598",
   "metadata": {},
   "outputs": [
    {
     "data": {
      "text/html": [
       "<div>\n",
       "<style scoped>\n",
       "    .dataframe tbody tr th:only-of-type {\n",
       "        vertical-align: middle;\n",
       "    }\n",
       "\n",
       "    .dataframe tbody tr th {\n",
       "        vertical-align: top;\n",
       "    }\n",
       "\n",
       "    .dataframe thead th {\n",
       "        text-align: right;\n",
       "    }\n",
       "</style>\n",
       "<table border=\"1\" class=\"dataframe\">\n",
       "  <thead>\n",
       "    <tr style=\"text-align: right;\">\n",
       "      <th></th>\n",
       "      <th>MONTH</th>\n",
       "      <th>BASEL_cloud_cover</th>\n",
       "      <th>BASEL_wind_speed</th>\n",
       "      <th>BASEL_humidity</th>\n",
       "      <th>BASEL_pressure</th>\n",
       "      <th>BASEL_global_radiation</th>\n",
       "      <th>BASEL_precipitation</th>\n",
       "      <th>BASEL_snow_depth</th>\n",
       "      <th>BASEL_sunshine</th>\n",
       "      <th>BASEL_temp_mean</th>\n",
       "      <th>...</th>\n",
       "      <th>VALENTIA_humidity</th>\n",
       "      <th>VALENTIA_pressure</th>\n",
       "      <th>VALENTIA_global_radiation</th>\n",
       "      <th>VALENTIA_precipitation</th>\n",
       "      <th>VALENTIA_snow_depth</th>\n",
       "      <th>VALENTIA_sunshine</th>\n",
       "      <th>VALENTIA_temp_mean</th>\n",
       "      <th>VALENTIA_temp_min</th>\n",
       "      <th>VALENTIA_temp_max</th>\n",
       "      <th>DATE</th>\n",
       "    </tr>\n",
       "  </thead>\n",
       "  <tbody>\n",
       "    <tr>\n",
       "      <th>0</th>\n",
       "      <td>-1.599964</td>\n",
       "      <td>0.660514</td>\n",
       "      <td>-0.02793</td>\n",
       "      <td>0.826097</td>\n",
       "      <td>-0.001949</td>\n",
       "      <td>-1.101066</td>\n",
       "      <td>-0.265148</td>\n",
       "      <td>-0.179228</td>\n",
       "      <td>-0.902918</td>\n",
       "      <td>-0.528623</td>\n",
       "      <td>...</td>\n",
       "      <td>0.761754</td>\n",
       "      <td>-1.299744</td>\n",
       "      <td>-0.806427</td>\n",
       "      <td>-0.088407</td>\n",
       "      <td>-0.024706</td>\n",
       "      <td>0.372147</td>\n",
       "      <td>-0.668215</td>\n",
       "      <td>-0.519743</td>\n",
       "      <td>-0.752237</td>\n",
       "      <td>19600101</td>\n",
       "    </tr>\n",
       "    <tr>\n",
       "      <th>1</th>\n",
       "      <td>-1.599964</td>\n",
       "      <td>0.244897</td>\n",
       "      <td>-0.02793</td>\n",
       "      <td>0.735760</td>\n",
       "      <td>-0.001949</td>\n",
       "      <td>-1.058108</td>\n",
       "      <td>1.658760</td>\n",
       "      <td>-0.179228</td>\n",
       "      <td>-0.810126</td>\n",
       "      <td>-0.582946</td>\n",
       "      <td>...</td>\n",
       "      <td>1.183580</td>\n",
       "      <td>-1.262455</td>\n",
       "      <td>-1.042055</td>\n",
       "      <td>0.503361</td>\n",
       "      <td>-0.024706</td>\n",
       "      <td>-0.829285</td>\n",
       "      <td>-0.548046</td>\n",
       "      <td>-0.629054</td>\n",
       "      <td>-0.407141</td>\n",
       "      <td>19600102</td>\n",
       "    </tr>\n",
       "    <tr>\n",
       "      <th>2</th>\n",
       "      <td>-1.599964</td>\n",
       "      <td>1.076130</td>\n",
       "      <td>-0.02793</td>\n",
       "      <td>1.277781</td>\n",
       "      <td>-0.001949</td>\n",
       "      <td>-1.251420</td>\n",
       "      <td>0.155707</td>\n",
       "      <td>-0.179228</td>\n",
       "      <td>-1.065304</td>\n",
       "      <td>-0.257010</td>\n",
       "      <td>...</td>\n",
       "      <td>1.183580</td>\n",
       "      <td>-0.432779</td>\n",
       "      <td>-1.136306</td>\n",
       "      <td>-0.396127</td>\n",
       "      <td>-0.024706</td>\n",
       "      <td>-1.009500</td>\n",
       "      <td>-0.067372</td>\n",
       "      <td>0.054135</td>\n",
       "      <td>-0.177078</td>\n",
       "      <td>19600103</td>\n",
       "    </tr>\n",
       "  </tbody>\n",
       "</table>\n",
       "<p>3 rows × 149 columns</p>\n",
       "</div>"
      ],
      "text/plain": [
       "      MONTH  BASEL_cloud_cover  BASEL_wind_speed  BASEL_humidity  \\\n",
       "0 -1.599964           0.660514          -0.02793        0.826097   \n",
       "1 -1.599964           0.244897          -0.02793        0.735760   \n",
       "2 -1.599964           1.076130          -0.02793        1.277781   \n",
       "\n",
       "   BASEL_pressure  BASEL_global_radiation  BASEL_precipitation  \\\n",
       "0       -0.001949               -1.101066            -0.265148   \n",
       "1       -0.001949               -1.058108             1.658760   \n",
       "2       -0.001949               -1.251420             0.155707   \n",
       "\n",
       "   BASEL_snow_depth  BASEL_sunshine  BASEL_temp_mean  ...  VALENTIA_humidity  \\\n",
       "0         -0.179228       -0.902918        -0.528623  ...           0.761754   \n",
       "1         -0.179228       -0.810126        -0.582946  ...           1.183580   \n",
       "2         -0.179228       -1.065304        -0.257010  ...           1.183580   \n",
       "\n",
       "   VALENTIA_pressure  VALENTIA_global_radiation  VALENTIA_precipitation  \\\n",
       "0          -1.299744                  -0.806427               -0.088407   \n",
       "1          -1.262455                  -1.042055                0.503361   \n",
       "2          -0.432779                  -1.136306               -0.396127   \n",
       "\n",
       "   VALENTIA_snow_depth  VALENTIA_sunshine  VALENTIA_temp_mean  \\\n",
       "0            -0.024706           0.372147           -0.668215   \n",
       "1            -0.024706          -0.829285           -0.548046   \n",
       "2            -0.024706          -1.009500           -0.067372   \n",
       "\n",
       "   VALENTIA_temp_min  VALENTIA_temp_max      DATE  \n",
       "0          -0.519743          -0.752237  19600101  \n",
       "1          -0.629054          -0.407141  19600102  \n",
       "2           0.054135          -0.177078  19600103  \n",
       "\n",
       "[3 rows x 149 columns]"
      ]
     },
     "execution_count": 12,
     "metadata": {},
     "output_type": "execute_result"
    }
   ],
   "source": [
    "climatedr.head(3)"
   ]
  },
  {
   "cell_type": "code",
   "execution_count": 13,
   "id": "40d246e8-bf09-4afb-9e97-df6de169e6d3",
   "metadata": {},
   "outputs": [
    {
     "data": {
      "text/plain": [
       "MONTH                 0\n",
       "BASEL_cloud_cover     0\n",
       "BASEL_wind_speed      0\n",
       "BASEL_humidity        0\n",
       "BASEL_pressure        0\n",
       "                     ..\n",
       "VALENTIA_sunshine     0\n",
       "VALENTIA_temp_mean    0\n",
       "VALENTIA_temp_min     0\n",
       "VALENTIA_temp_max     0\n",
       "DATE                  0\n",
       "Length: 149, dtype: int64"
      ]
     },
     "execution_count": 13,
     "metadata": {},
     "output_type": "execute_result"
    }
   ],
   "source": [
    "climatedr.isnull().sum()"
   ]
  },
  {
   "cell_type": "code",
   "execution_count": 14,
   "id": "562dc7fc-3bed-4ea4-aa96-c76830041744",
   "metadata": {},
   "outputs": [],
   "source": [
    "# Extract the different observation types\n",
    "\n",
    "observation_types = ['cloud_cover', 'wind_speed', 'humidity', 'pressure',\n",
    "                     'global_radiation', 'precipitation', 'snow_depth', \n",
    "                     'sunshine', 'temp_mean', 'temp_min', 'temp_max']"
   ]
  },
  {
   "cell_type": "code",
   "execution_count": 15,
   "id": "a30ebb55-d702-4da0-a141-13a220961cf7",
   "metadata": {},
   "outputs": [
    {
     "name": "stdout",
     "output_type": "stream",
     "text": [
      "Number of stations covered by each observation type:\n",
      "cloud_cover: 14 stations\n",
      "wind_speed: 9 stations\n",
      "humidity: 14 stations\n",
      "pressure: 14 stations\n",
      "global_radiation: 15 stations\n",
      "precipitation: 15 stations\n",
      "snow_depth: 6 stations\n",
      "sunshine: 15 stations\n",
      "temp_mean: 15 stations\n",
      "temp_min: 15 stations\n",
      "temp_max: 15 stations\n"
     ]
    }
   ],
   "source": [
    "# Create a dictionary to store the count of stations for each observation type\n",
    "station_counts = {}\n",
    "\n",
    "for obs in observation_types:\n",
    "    # Select columns related to the current observation type\n",
    "    columns = [col for col in climatedr.columns if col.endswith(obs)]\n",
    "    \n",
    "    # Count the number of stations (i.e., the number of columns) for the current observation type\n",
    "    station_counts[obs] = len(columns)\n",
    "\n",
    "# Print the count of stations for each observation type\n",
    "print(\"Number of stations covered by each observation type:\")\n",
    "for obs, count in station_counts.items():\n",
    "    print(f\"{obs}: {count} stations\")\n"
   ]
  },
  {
   "cell_type": "markdown",
   "id": "7d43a244-6c33-44a6-b1ac-cc2847e8f6c3",
   "metadata": {},
   "source": [
    "Windspeed and snowdepth are missing entries and will be dropped. "
   ]
  },
  {
   "cell_type": "code",
   "execution_count": 16,
   "id": "1867f224-1b90-46e0-8dcd-991707245bcc",
   "metadata": {},
   "outputs": [],
   "source": [
    "# Get a list of columns containing 'wind_speed' or 'snow_depth'\n",
    "cols_to_drop = [col for col in climatedr.columns if '_wind_speed' in col or '_snow_depth' in col]\n",
    "\n",
    "# Drop the columns\n",
    "climate2 = climatedr.drop(cols_to_drop, axis=1)"
   ]
  },
  {
   "cell_type": "code",
   "execution_count": 17,
   "id": "d73dc5b9-ead8-4fd0-b2c6-76ce3924884a",
   "metadata": {},
   "outputs": [
    {
     "data": {
      "text/plain": [
       "(22950, 134)"
      ]
     },
     "execution_count": 17,
     "metadata": {},
     "output_type": "execute_result"
    }
   ],
   "source": [
    "climate2.shape # 15 columns less since they were dropped."
   ]
  },
  {
   "cell_type": "markdown",
   "id": "ca74309c-16f5-44e2-ac4e-6c218b8d169c",
   "metadata": {},
   "source": [
    "One entry missing for cloud humidity, pression and cloud cover. "
   ]
  },
  {
   "cell_type": "code",
   "execution_count": 18,
   "id": "2b15ade2-fb33-457f-9864-95d8aceadd78",
   "metadata": {},
   "outputs": [
    {
     "name": "stdout",
     "output_type": "stream",
     "text": [
      "{'SONNBLICK', 'DUSSELDORF', 'BELGRADE', 'KASSEL', 'STOCKHOLM', 'MAASTRICHT', 'DEBILT', 'BASEL', 'HEATHROW', 'MADRID', 'VALENTIA', 'LJUBLJANA', 'MUNCHENB', 'OSLO', 'BUDAPEST'}\n"
     ]
    }
   ],
   "source": [
    "# Find the stations with the above entries missing\n",
    "# Get all column names\n",
    "all_columns = climate2.columns.tolist()\n",
    "# Exclude 'DATE' and 'MONTH' columns\n",
    "all_columns = [col for col in all_columns if col not in ['DATE', 'MONTH']]  \n",
    "# Extract unique weather station names\n",
    "weather_stations = set()  # Use a set to automatically store only unique values\n",
    "for col in all_columns:\n",
    "    station_name = col.split('_')[0]  # Split the column name at the underscore and take the first part\n",
    "    weather_stations.add(station_name)\n",
    "\n",
    "# Print the list of weather stations\n",
    "print(weather_stations)"
   ]
  },
  {
   "cell_type": "code",
   "execution_count": 19,
   "id": "e1249790-05be-4d12-965d-9484c069c961",
   "metadata": {},
   "outputs": [
    {
     "name": "stdout",
     "output_type": "stream",
     "text": [
      "\n",
      "Stations missing from cloud_cover:\n",
      "KASSEL\n",
      "\n",
      "Stations missing from humidity:\n",
      "STOCKHOLM\n",
      "\n",
      "Stations missing from pressure:\n",
      "MUNCHENB\n"
     ]
    }
   ],
   "source": [
    "# Find stations missing observation types\n",
    "observation_types = ['cloud_cover', 'humidity', 'pressure']\n",
    "\n",
    "missing_stations_by_observation = {}\n",
    "\n",
    "for obs in observation_types:\n",
    "    # Select columns related to the current observation type\n",
    "    columns = [col for col in climate2.columns if col.endswith(obs)]\n",
    "    \n",
    "    # Extract station names by removing the observation type from the column names\n",
    "    station_names = set([col.replace(f'_{obs}', '') for col in columns])\n",
    "    \n",
    "    # Identify stations that are in all_stations but missing from the current observation type\n",
    "    missing_stations = weather_stations - station_names\n",
    "    \n",
    "    # Store the missing station names in the dictionary\n",
    "    missing_stations_by_observation[obs] = missing_stations\n",
    "\n",
    "# Print the missing station names for each observation type\n",
    "for obs, missing_stations in missing_stations_by_observation.items():\n",
    "    print(f\"\\nStations missing from {obs}:\")\n",
    "    if missing_stations:\n",
    "        for station in missing_stations:\n",
    "            print(station)\n",
    "    else:\n",
    "        print(\"None\")"
   ]
  },
  {
   "cell_type": "code",
   "execution_count": 20,
   "id": "69c5ffb0-78fe-489b-912c-7772fcc02a9f",
   "metadata": {},
   "outputs": [
    {
     "data": {
      "text/html": [
       "<div>\n",
       "<style scoped>\n",
       "    .dataframe tbody tr th:only-of-type {\n",
       "        vertical-align: middle;\n",
       "    }\n",
       "\n",
       "    .dataframe tbody tr th {\n",
       "        vertical-align: top;\n",
       "    }\n",
       "\n",
       "    .dataframe thead th {\n",
       "        text-align: right;\n",
       "    }\n",
       "</style>\n",
       "<table border=\"1\" class=\"dataframe\">\n",
       "  <thead>\n",
       "    <tr style=\"text-align: right;\">\n",
       "      <th></th>\n",
       "      <th>MONTH</th>\n",
       "      <th>BASEL_cloud_cover</th>\n",
       "      <th>BASEL_humidity</th>\n",
       "      <th>BASEL_pressure</th>\n",
       "      <th>BASEL_global_radiation</th>\n",
       "      <th>BASEL_precipitation</th>\n",
       "      <th>BASEL_sunshine</th>\n",
       "      <th>BASEL_temp_mean</th>\n",
       "      <th>BASEL_temp_min</th>\n",
       "      <th>BASEL_temp_max</th>\n",
       "      <th>...</th>\n",
       "      <th>VALENTIA_cloud_cover</th>\n",
       "      <th>VALENTIA_humidity</th>\n",
       "      <th>VALENTIA_pressure</th>\n",
       "      <th>VALENTIA_global_radiation</th>\n",
       "      <th>VALENTIA_precipitation</th>\n",
       "      <th>VALENTIA_sunshine</th>\n",
       "      <th>VALENTIA_temp_mean</th>\n",
       "      <th>VALENTIA_temp_min</th>\n",
       "      <th>VALENTIA_temp_max</th>\n",
       "      <th>DATE</th>\n",
       "    </tr>\n",
       "  </thead>\n",
       "  <tbody>\n",
       "    <tr>\n",
       "      <th>0</th>\n",
       "      <td>-1.599964</td>\n",
       "      <td>0.660514</td>\n",
       "      <td>0.826097</td>\n",
       "      <td>-0.001949</td>\n",
       "      <td>-1.101066</td>\n",
       "      <td>-0.265148</td>\n",
       "      <td>-0.902918</td>\n",
       "      <td>-0.528623</td>\n",
       "      <td>-0.845652</td>\n",
       "      <td>-0.478356</td>\n",
       "      <td>...</td>\n",
       "      <td>-0.443701</td>\n",
       "      <td>0.761754</td>\n",
       "      <td>-1.299744</td>\n",
       "      <td>-0.806427</td>\n",
       "      <td>-0.088407</td>\n",
       "      <td>0.372147</td>\n",
       "      <td>-0.668215</td>\n",
       "      <td>-0.519743</td>\n",
       "      <td>-0.752237</td>\n",
       "      <td>19600101</td>\n",
       "    </tr>\n",
       "    <tr>\n",
       "      <th>1</th>\n",
       "      <td>-1.599964</td>\n",
       "      <td>0.244897</td>\n",
       "      <td>0.735760</td>\n",
       "      <td>-0.001949</td>\n",
       "      <td>-1.058108</td>\n",
       "      <td>1.658760</td>\n",
       "      <td>-0.810126</td>\n",
       "      <td>-0.582946</td>\n",
       "      <td>-0.462450</td>\n",
       "      <td>-0.569988</td>\n",
       "      <td>...</td>\n",
       "      <td>0.783085</td>\n",
       "      <td>1.183580</td>\n",
       "      <td>-1.262455</td>\n",
       "      <td>-1.042055</td>\n",
       "      <td>0.503361</td>\n",
       "      <td>-0.829285</td>\n",
       "      <td>-0.548046</td>\n",
       "      <td>-0.629054</td>\n",
       "      <td>-0.407141</td>\n",
       "      <td>19600102</td>\n",
       "    </tr>\n",
       "    <tr>\n",
       "      <th>2</th>\n",
       "      <td>-1.599964</td>\n",
       "      <td>1.076130</td>\n",
       "      <td>1.277781</td>\n",
       "      <td>-0.001949</td>\n",
       "      <td>-1.251420</td>\n",
       "      <td>0.155707</td>\n",
       "      <td>-1.065304</td>\n",
       "      <td>-0.257010</td>\n",
       "      <td>-0.186545</td>\n",
       "      <td>-0.592896</td>\n",
       "      <td>...</td>\n",
       "      <td>0.783085</td>\n",
       "      <td>1.183580</td>\n",
       "      <td>-0.432779</td>\n",
       "      <td>-1.136306</td>\n",
       "      <td>-0.396127</td>\n",
       "      <td>-1.009500</td>\n",
       "      <td>-0.067372</td>\n",
       "      <td>0.054135</td>\n",
       "      <td>-0.177078</td>\n",
       "      <td>19600103</td>\n",
       "    </tr>\n",
       "  </tbody>\n",
       "</table>\n",
       "<p>3 rows × 134 columns</p>\n",
       "</div>"
      ],
      "text/plain": [
       "      MONTH  BASEL_cloud_cover  BASEL_humidity  BASEL_pressure  \\\n",
       "0 -1.599964           0.660514        0.826097       -0.001949   \n",
       "1 -1.599964           0.244897        0.735760       -0.001949   \n",
       "2 -1.599964           1.076130        1.277781       -0.001949   \n",
       "\n",
       "   BASEL_global_radiation  BASEL_precipitation  BASEL_sunshine  \\\n",
       "0               -1.101066            -0.265148       -0.902918   \n",
       "1               -1.058108             1.658760       -0.810126   \n",
       "2               -1.251420             0.155707       -1.065304   \n",
       "\n",
       "   BASEL_temp_mean  BASEL_temp_min  BASEL_temp_max  ...  VALENTIA_cloud_cover  \\\n",
       "0        -0.528623       -0.845652       -0.478356  ...             -0.443701   \n",
       "1        -0.582946       -0.462450       -0.569988  ...              0.783085   \n",
       "2        -0.257010       -0.186545       -0.592896  ...              0.783085   \n",
       "\n",
       "   VALENTIA_humidity  VALENTIA_pressure  VALENTIA_global_radiation  \\\n",
       "0           0.761754          -1.299744                  -0.806427   \n",
       "1           1.183580          -1.262455                  -1.042055   \n",
       "2           1.183580          -0.432779                  -1.136306   \n",
       "\n",
       "   VALENTIA_precipitation  VALENTIA_sunshine  VALENTIA_temp_mean  \\\n",
       "0               -0.088407           0.372147           -0.668215   \n",
       "1                0.503361          -0.829285           -0.548046   \n",
       "2               -0.396127          -1.009500           -0.067372   \n",
       "\n",
       "   VALENTIA_temp_min  VALENTIA_temp_max      DATE  \n",
       "0          -0.519743          -0.752237  19600101  \n",
       "1          -0.629054          -0.407141  19600102  \n",
       "2           0.054135          -0.177078  19600103  \n",
       "\n",
       "[3 rows x 134 columns]"
      ]
     },
     "execution_count": 20,
     "metadata": {},
     "output_type": "execute_result"
    }
   ],
   "source": [
    "climate2.head(3)"
   ]
  },
  {
   "cell_type": "code",
   "execution_count": 21,
   "id": "79b69e6e-6061-42a8-b4be-5fad8ce9d70c",
   "metadata": {},
   "outputs": [
    {
     "data": {
      "text/plain": [
       "54"
      ]
     },
     "execution_count": 21,
     "metadata": {},
     "output_type": "execute_result"
    }
   ],
   "source": [
    "# Cloud cover is the start of a stations data, Kassel is next to Heathrow, find the position of Heathrow_temp_max for the insertion of Kassel_cloud_cover\n",
    "climate2.columns.get_loc('HEATHROW_temp_max')"
   ]
  },
  {
   "cell_type": "code",
   "execution_count": 22,
   "id": "a7a51553-98b0-431b-8a6e-248e4852d409",
   "metadata": {},
   "outputs": [
    {
     "data": {
      "text/plain": [
       "116"
      ]
     },
     "execution_count": 22,
     "metadata": {},
     "output_type": "execute_result"
    }
   ],
   "source": [
    "# Find the position for insertion of Stockholm humidity\n",
    "climate2.columns.get_loc('STOCKHOLM_cloud_cover') #humidity is 1 after cloud cover so (result +1)"
   ]
  },
  {
   "cell_type": "code",
   "execution_count": 23,
   "id": "0556b5d2-8dc6-445b-8349-55dea5e1c325",
   "metadata": {},
   "outputs": [
    {
     "data": {
      "text/plain": [
       "90"
      ]
     },
     "execution_count": 23,
     "metadata": {},
     "output_type": "execute_result"
    }
   ],
   "source": [
    "# Find position for Munchenb pressure\n",
    "climate2.columns.get_loc('MUNCHENB_cloud_cover') # pressure is 2 after cloud cover so (result +2)"
   ]
  },
  {
   "cell_type": "code",
   "execution_count": 24,
   "id": "941dd9d3-fd37-4fe0-9234-239f0dc36414",
   "metadata": {},
   "outputs": [],
   "source": [
    "# Insert new columns into \"unscaled\" at specific positions.\n",
    "# The data for these new columns is taken from weather stations they are close to\n",
    "\n",
    "climate2.insert(56,'KASSEL_cloud_cover', climate2['DUSSELDORF_cloud_cover'])\n",
    "climate2.insert(119, 'STOCKHOLM_humidity', climate2['OSLO_humidity'])\n",
    "climate2.insert(94,'MUNCHENB_pressure',climate2['BASEL_pressure'])"
   ]
  },
  {
   "cell_type": "code",
   "execution_count": 25,
   "id": "e57a2eaf-3305-4471-abcf-d21b63b04abb",
   "metadata": {},
   "outputs": [
    {
     "data": {
      "text/plain": [
       "['MONTH',\n",
       " 'BASEL_cloud_cover',\n",
       " 'BASEL_humidity',\n",
       " 'BASEL_pressure',\n",
       " 'BASEL_global_radiation',\n",
       " 'BASEL_precipitation',\n",
       " 'BASEL_sunshine',\n",
       " 'BASEL_temp_mean',\n",
       " 'BASEL_temp_min',\n",
       " 'BASEL_temp_max',\n",
       " 'BELGRADE_cloud_cover',\n",
       " 'BELGRADE_humidity',\n",
       " 'BELGRADE_pressure',\n",
       " 'BELGRADE_global_radiation',\n",
       " 'BELGRADE_precipitation',\n",
       " 'BELGRADE_sunshine',\n",
       " 'BELGRADE_temp_mean',\n",
       " 'BELGRADE_temp_min',\n",
       " 'BELGRADE_temp_max',\n",
       " 'BUDAPEST_cloud_cover',\n",
       " 'BUDAPEST_humidity',\n",
       " 'BUDAPEST_pressure',\n",
       " 'BUDAPEST_global_radiation',\n",
       " 'BUDAPEST_precipitation',\n",
       " 'BUDAPEST_sunshine',\n",
       " 'BUDAPEST_temp_mean',\n",
       " 'BUDAPEST_temp_min',\n",
       " 'BUDAPEST_temp_max',\n",
       " 'DEBILT_cloud_cover',\n",
       " 'DEBILT_humidity',\n",
       " 'DEBILT_pressure',\n",
       " 'DEBILT_global_radiation',\n",
       " 'DEBILT_precipitation',\n",
       " 'DEBILT_sunshine',\n",
       " 'DEBILT_temp_mean',\n",
       " 'DEBILT_temp_min',\n",
       " 'DEBILT_temp_max',\n",
       " 'DUSSELDORF_cloud_cover',\n",
       " 'DUSSELDORF_humidity',\n",
       " 'DUSSELDORF_pressure',\n",
       " 'DUSSELDORF_global_radiation',\n",
       " 'DUSSELDORF_precipitation',\n",
       " 'DUSSELDORF_sunshine',\n",
       " 'DUSSELDORF_temp_mean',\n",
       " 'DUSSELDORF_temp_min',\n",
       " 'DUSSELDORF_temp_max',\n",
       " 'HEATHROW_cloud_cover',\n",
       " 'HEATHROW_humidity',\n",
       " 'HEATHROW_pressure',\n",
       " 'HEATHROW_global_radiation',\n",
       " 'HEATHROW_precipitation',\n",
       " 'HEATHROW_sunshine',\n",
       " 'HEATHROW_temp_mean',\n",
       " 'HEATHROW_temp_min',\n",
       " 'HEATHROW_temp_max',\n",
       " 'KASSEL_humidity',\n",
       " 'KASSEL_cloud_cover',\n",
       " 'KASSEL_pressure',\n",
       " 'KASSEL_global_radiation',\n",
       " 'KASSEL_precipitation',\n",
       " 'KASSEL_sunshine',\n",
       " 'KASSEL_temp_mean',\n",
       " 'KASSEL_temp_min',\n",
       " 'KASSEL_temp_max',\n",
       " 'LJUBLJANA_cloud_cover',\n",
       " 'LJUBLJANA_humidity',\n",
       " 'LJUBLJANA_pressure',\n",
       " 'LJUBLJANA_global_radiation',\n",
       " 'LJUBLJANA_precipitation',\n",
       " 'LJUBLJANA_sunshine',\n",
       " 'LJUBLJANA_temp_mean',\n",
       " 'LJUBLJANA_temp_min',\n",
       " 'LJUBLJANA_temp_max',\n",
       " 'MAASTRICHT_cloud_cover',\n",
       " 'MAASTRICHT_humidity',\n",
       " 'MAASTRICHT_pressure',\n",
       " 'MAASTRICHT_global_radiation',\n",
       " 'MAASTRICHT_precipitation',\n",
       " 'MAASTRICHT_sunshine',\n",
       " 'MAASTRICHT_temp_mean',\n",
       " 'MAASTRICHT_temp_min',\n",
       " 'MAASTRICHT_temp_max',\n",
       " 'MADRID_cloud_cover',\n",
       " 'MADRID_humidity',\n",
       " 'MADRID_pressure',\n",
       " 'MADRID_global_radiation',\n",
       " 'MADRID_precipitation',\n",
       " 'MADRID_sunshine',\n",
       " 'MADRID_temp_mean',\n",
       " 'MADRID_temp_min',\n",
       " 'MADRID_temp_max',\n",
       " 'MUNCHENB_cloud_cover',\n",
       " 'MUNCHENB_humidity',\n",
       " 'MUNCHENB_global_radiation',\n",
       " 'MUNCHENB_pressure',\n",
       " 'MUNCHENB_precipitation',\n",
       " 'MUNCHENB_sunshine',\n",
       " 'MUNCHENB_temp_mean',\n",
       " 'MUNCHENB_temp_min',\n",
       " 'MUNCHENB_temp_max',\n",
       " 'OSLO_cloud_cover',\n",
       " 'OSLO_humidity',\n",
       " 'OSLO_pressure',\n",
       " 'OSLO_global_radiation',\n",
       " 'OSLO_precipitation',\n",
       " 'OSLO_sunshine',\n",
       " 'OSLO_temp_mean',\n",
       " 'OSLO_temp_min',\n",
       " 'OSLO_temp_max',\n",
       " 'SONNBLICK_cloud_cover',\n",
       " 'SONNBLICK_humidity',\n",
       " 'SONNBLICK_pressure',\n",
       " 'SONNBLICK_global_radiation',\n",
       " 'SONNBLICK_precipitation',\n",
       " 'SONNBLICK_sunshine',\n",
       " 'SONNBLICK_temp_mean',\n",
       " 'SONNBLICK_temp_min',\n",
       " 'SONNBLICK_temp_max',\n",
       " 'STOCKHOLM_cloud_cover',\n",
       " 'STOCKHOLM_pressure',\n",
       " 'STOCKHOLM_humidity',\n",
       " 'STOCKHOLM_global_radiation',\n",
       " 'STOCKHOLM_precipitation',\n",
       " 'STOCKHOLM_sunshine',\n",
       " 'STOCKHOLM_temp_mean',\n",
       " 'STOCKHOLM_temp_min',\n",
       " 'STOCKHOLM_temp_max',\n",
       " 'VALENTIA_cloud_cover',\n",
       " 'VALENTIA_humidity',\n",
       " 'VALENTIA_pressure',\n",
       " 'VALENTIA_global_radiation',\n",
       " 'VALENTIA_precipitation',\n",
       " 'VALENTIA_sunshine',\n",
       " 'VALENTIA_temp_mean',\n",
       " 'VALENTIA_temp_min',\n",
       " 'VALENTIA_temp_max',\n",
       " 'DATE']"
      ]
     },
     "execution_count": 25,
     "metadata": {},
     "output_type": "execute_result"
    }
   ],
   "source": [
    "climate2.columns.tolist()"
   ]
  },
  {
   "cell_type": "code",
   "execution_count": 26,
   "id": "9550c0b8-7f92-4065-92be-1de9e03c784e",
   "metadata": {},
   "outputs": [
    {
     "data": {
      "text/plain": [
       "(22950, 137)"
      ]
     },
     "execution_count": 26,
     "metadata": {},
     "output_type": "execute_result"
    }
   ],
   "source": [
    "climate2.shape"
   ]
  },
  {
   "cell_type": "code",
   "execution_count": 27,
   "id": "146f131e-0597-4366-8e63-ac1cfef323a6",
   "metadata": {},
   "outputs": [],
   "source": [
    "# Drop unnecessary columns\n",
    "climate2.drop(['DATE', 'MONTH'], axis=1, inplace=True)"
   ]
  },
  {
   "cell_type": "code",
   "execution_count": 28,
   "id": "94e64c47-6840-4282-a29a-452481fef245",
   "metadata": {},
   "outputs": [
    {
     "data": {
      "text/plain": [
       "(22950, 135)"
      ]
     },
     "execution_count": 28,
     "metadata": {},
     "output_type": "execute_result"
    }
   ],
   "source": [
    "# confirm drop\n",
    "climate2.shape"
   ]
  },
  {
   "cell_type": "code",
   "execution_count": 29,
   "id": "e0e83cbb-8795-4cc3-9a12-007c554059a9",
   "metadata": {},
   "outputs": [
    {
     "data": {
      "text/html": [
       "<div>\n",
       "<style scoped>\n",
       "    .dataframe tbody tr th:only-of-type {\n",
       "        vertical-align: middle;\n",
       "    }\n",
       "\n",
       "    .dataframe tbody tr th {\n",
       "        vertical-align: top;\n",
       "    }\n",
       "\n",
       "    .dataframe thead th {\n",
       "        text-align: right;\n",
       "    }\n",
       "</style>\n",
       "<table border=\"1\" class=\"dataframe\">\n",
       "  <thead>\n",
       "    <tr style=\"text-align: right;\">\n",
       "      <th></th>\n",
       "      <th>DATE</th>\n",
       "      <th>BASEL_pleasant_weather</th>\n",
       "      <th>BELGRADE_pleasant_weather</th>\n",
       "      <th>BUDAPEST_pleasant_weather</th>\n",
       "      <th>DEBILT_pleasant_weather</th>\n",
       "      <th>DUSSELDORF_pleasant_weather</th>\n",
       "      <th>HEATHROW_pleasant_weather</th>\n",
       "      <th>KASSEL_pleasant_weather</th>\n",
       "      <th>LJUBLJANA_pleasant_weather</th>\n",
       "      <th>MAASTRICHT_pleasant_weather</th>\n",
       "      <th>MADRID_pleasant_weather</th>\n",
       "      <th>MUNCHENB_pleasant_weather</th>\n",
       "      <th>OSLO_pleasant_weather</th>\n",
       "      <th>SONNBLICK_pleasant_weather</th>\n",
       "      <th>STOCKHOLM_pleasant_weather</th>\n",
       "      <th>VALENTIA_pleasant_weather</th>\n",
       "    </tr>\n",
       "  </thead>\n",
       "  <tbody>\n",
       "    <tr>\n",
       "      <th>0</th>\n",
       "      <td>19600101</td>\n",
       "      <td>0</td>\n",
       "      <td>0</td>\n",
       "      <td>0</td>\n",
       "      <td>0</td>\n",
       "      <td>0</td>\n",
       "      <td>0</td>\n",
       "      <td>0</td>\n",
       "      <td>0</td>\n",
       "      <td>0</td>\n",
       "      <td>0</td>\n",
       "      <td>0</td>\n",
       "      <td>0</td>\n",
       "      <td>0</td>\n",
       "      <td>0</td>\n",
       "      <td>0</td>\n",
       "    </tr>\n",
       "    <tr>\n",
       "      <th>1</th>\n",
       "      <td>19600102</td>\n",
       "      <td>0</td>\n",
       "      <td>0</td>\n",
       "      <td>0</td>\n",
       "      <td>0</td>\n",
       "      <td>0</td>\n",
       "      <td>0</td>\n",
       "      <td>0</td>\n",
       "      <td>0</td>\n",
       "      <td>0</td>\n",
       "      <td>0</td>\n",
       "      <td>0</td>\n",
       "      <td>0</td>\n",
       "      <td>0</td>\n",
       "      <td>0</td>\n",
       "      <td>0</td>\n",
       "    </tr>\n",
       "    <tr>\n",
       "      <th>2</th>\n",
       "      <td>19600103</td>\n",
       "      <td>0</td>\n",
       "      <td>0</td>\n",
       "      <td>0</td>\n",
       "      <td>0</td>\n",
       "      <td>0</td>\n",
       "      <td>0</td>\n",
       "      <td>0</td>\n",
       "      <td>0</td>\n",
       "      <td>0</td>\n",
       "      <td>0</td>\n",
       "      <td>0</td>\n",
       "      <td>0</td>\n",
       "      <td>0</td>\n",
       "      <td>0</td>\n",
       "      <td>0</td>\n",
       "    </tr>\n",
       "  </tbody>\n",
       "</table>\n",
       "</div>"
      ],
      "text/plain": [
       "       DATE  BASEL_pleasant_weather  BELGRADE_pleasant_weather  \\\n",
       "0  19600101                       0                          0   \n",
       "1  19600102                       0                          0   \n",
       "2  19600103                       0                          0   \n",
       "\n",
       "   BUDAPEST_pleasant_weather  DEBILT_pleasant_weather  \\\n",
       "0                          0                        0   \n",
       "1                          0                        0   \n",
       "2                          0                        0   \n",
       "\n",
       "   DUSSELDORF_pleasant_weather  HEATHROW_pleasant_weather  \\\n",
       "0                            0                          0   \n",
       "1                            0                          0   \n",
       "2                            0                          0   \n",
       "\n",
       "   KASSEL_pleasant_weather  LJUBLJANA_pleasant_weather  \\\n",
       "0                        0                           0   \n",
       "1                        0                           0   \n",
       "2                        0                           0   \n",
       "\n",
       "   MAASTRICHT_pleasant_weather  MADRID_pleasant_weather  \\\n",
       "0                            0                        0   \n",
       "1                            0                        0   \n",
       "2                            0                        0   \n",
       "\n",
       "   MUNCHENB_pleasant_weather  OSLO_pleasant_weather  \\\n",
       "0                          0                      0   \n",
       "1                          0                      0   \n",
       "2                          0                      0   \n",
       "\n",
       "   SONNBLICK_pleasant_weather  STOCKHOLM_pleasant_weather  \\\n",
       "0                           0                           0   \n",
       "1                           0                           0   \n",
       "2                           0                           0   \n",
       "\n",
       "   VALENTIA_pleasant_weather  \n",
       "0                          0  \n",
       "1                          0  \n",
       "2                          0  "
      ]
     },
     "execution_count": 29,
     "metadata": {},
     "output_type": "execute_result"
    }
   ],
   "source": [
    "answers.head(3)"
   ]
  },
  {
   "cell_type": "code",
   "execution_count": 30,
   "id": "c3d5dab9-ca90-4b20-9836-b125cec8a53a",
   "metadata": {},
   "outputs": [],
   "source": [
    "# drop unneeded column from second dataset\n",
    "answers.drop(columns = 'DATE', inplace = True)"
   ]
  },
  {
   "cell_type": "code",
   "execution_count": 31,
   "id": "b8eee054-00db-49f3-bcd7-45cd7100cb66",
   "metadata": {},
   "outputs": [
    {
     "data": {
      "text/html": [
       "<div>\n",
       "<style scoped>\n",
       "    .dataframe tbody tr th:only-of-type {\n",
       "        vertical-align: middle;\n",
       "    }\n",
       "\n",
       "    .dataframe tbody tr th {\n",
       "        vertical-align: top;\n",
       "    }\n",
       "\n",
       "    .dataframe thead th {\n",
       "        text-align: right;\n",
       "    }\n",
       "</style>\n",
       "<table border=\"1\" class=\"dataframe\">\n",
       "  <thead>\n",
       "    <tr style=\"text-align: right;\">\n",
       "      <th></th>\n",
       "      <th>BASEL_pleasant_weather</th>\n",
       "      <th>BELGRADE_pleasant_weather</th>\n",
       "      <th>BUDAPEST_pleasant_weather</th>\n",
       "      <th>DEBILT_pleasant_weather</th>\n",
       "      <th>DUSSELDORF_pleasant_weather</th>\n",
       "      <th>HEATHROW_pleasant_weather</th>\n",
       "      <th>KASSEL_pleasant_weather</th>\n",
       "      <th>LJUBLJANA_pleasant_weather</th>\n",
       "      <th>MAASTRICHT_pleasant_weather</th>\n",
       "      <th>MADRID_pleasant_weather</th>\n",
       "      <th>MUNCHENB_pleasant_weather</th>\n",
       "      <th>OSLO_pleasant_weather</th>\n",
       "      <th>SONNBLICK_pleasant_weather</th>\n",
       "      <th>STOCKHOLM_pleasant_weather</th>\n",
       "      <th>VALENTIA_pleasant_weather</th>\n",
       "    </tr>\n",
       "  </thead>\n",
       "  <tbody>\n",
       "    <tr>\n",
       "      <th>0</th>\n",
       "      <td>0</td>\n",
       "      <td>0</td>\n",
       "      <td>0</td>\n",
       "      <td>0</td>\n",
       "      <td>0</td>\n",
       "      <td>0</td>\n",
       "      <td>0</td>\n",
       "      <td>0</td>\n",
       "      <td>0</td>\n",
       "      <td>0</td>\n",
       "      <td>0</td>\n",
       "      <td>0</td>\n",
       "      <td>0</td>\n",
       "      <td>0</td>\n",
       "      <td>0</td>\n",
       "    </tr>\n",
       "    <tr>\n",
       "      <th>1</th>\n",
       "      <td>0</td>\n",
       "      <td>0</td>\n",
       "      <td>0</td>\n",
       "      <td>0</td>\n",
       "      <td>0</td>\n",
       "      <td>0</td>\n",
       "      <td>0</td>\n",
       "      <td>0</td>\n",
       "      <td>0</td>\n",
       "      <td>0</td>\n",
       "      <td>0</td>\n",
       "      <td>0</td>\n",
       "      <td>0</td>\n",
       "      <td>0</td>\n",
       "      <td>0</td>\n",
       "    </tr>\n",
       "    <tr>\n",
       "      <th>2</th>\n",
       "      <td>0</td>\n",
       "      <td>0</td>\n",
       "      <td>0</td>\n",
       "      <td>0</td>\n",
       "      <td>0</td>\n",
       "      <td>0</td>\n",
       "      <td>0</td>\n",
       "      <td>0</td>\n",
       "      <td>0</td>\n",
       "      <td>0</td>\n",
       "      <td>0</td>\n",
       "      <td>0</td>\n",
       "      <td>0</td>\n",
       "      <td>0</td>\n",
       "      <td>0</td>\n",
       "    </tr>\n",
       "  </tbody>\n",
       "</table>\n",
       "</div>"
      ],
      "text/plain": [
       "   BASEL_pleasant_weather  BELGRADE_pleasant_weather  \\\n",
       "0                       0                          0   \n",
       "1                       0                          0   \n",
       "2                       0                          0   \n",
       "\n",
       "   BUDAPEST_pleasant_weather  DEBILT_pleasant_weather  \\\n",
       "0                          0                        0   \n",
       "1                          0                        0   \n",
       "2                          0                        0   \n",
       "\n",
       "   DUSSELDORF_pleasant_weather  HEATHROW_pleasant_weather  \\\n",
       "0                            0                          0   \n",
       "1                            0                          0   \n",
       "2                            0                          0   \n",
       "\n",
       "   KASSEL_pleasant_weather  LJUBLJANA_pleasant_weather  \\\n",
       "0                        0                           0   \n",
       "1                        0                           0   \n",
       "2                        0                           0   \n",
       "\n",
       "   MAASTRICHT_pleasant_weather  MADRID_pleasant_weather  \\\n",
       "0                            0                        0   \n",
       "1                            0                        0   \n",
       "2                            0                        0   \n",
       "\n",
       "   MUNCHENB_pleasant_weather  OSLO_pleasant_weather  \\\n",
       "0                          0                      0   \n",
       "1                          0                      0   \n",
       "2                          0                      0   \n",
       "\n",
       "   SONNBLICK_pleasant_weather  STOCKHOLM_pleasant_weather  \\\n",
       "0                           0                           0   \n",
       "1                           0                           0   \n",
       "2                           0                           0   \n",
       "\n",
       "   VALENTIA_pleasant_weather  \n",
       "0                          0  \n",
       "1                          0  \n",
       "2                          0  "
      ]
     },
     "execution_count": 31,
     "metadata": {},
     "output_type": "execute_result"
    }
   ],
   "source": [
    "# check drop\n",
    "answers.head(3)"
   ]
  },
  {
   "cell_type": "code",
   "execution_count": 32,
   "id": "967d0b34-acb6-48ce-a827-d03033880c73",
   "metadata": {},
   "outputs": [
    {
     "data": {
      "text/plain": [
       "(22950, 15)"
      ]
     },
     "execution_count": 32,
     "metadata": {},
     "output_type": "execute_result"
    }
   ],
   "source": [
    "answers.shape"
   ]
  },
  {
   "cell_type": "code",
   "execution_count": 33,
   "id": "d6b73aa8-ab74-4301-9632-2ce73c91cc5c",
   "metadata": {},
   "outputs": [],
   "source": [
    "# Export cleaned dataset\n",
    "climate2.to_csv(os.path.join(path, 'climate_clean.csv'), index=False)"
   ]
  },
  {
   "cell_type": "markdown",
   "id": "627fab95-ab35-4759-a7d2-ecae3edd6a84",
   "metadata": {},
   "source": [
    "2.1 DATA RESHAPING "
   ]
  },
  {
   "cell_type": "code",
   "execution_count": 34,
   "id": "d1b6cf80-ffef-4c7a-aeec-5d449508f5b2",
   "metadata": {},
   "outputs": [],
   "source": [
    "# Create an 'X' matrix by reloading and naming our data 'X'\n",
    "x=pd.read_csv(os.path.join(path, 'climate_clean.csv'), index_col=False)"
   ]
  },
  {
   "cell_type": "code",
   "execution_count": 35,
   "id": "60c3c4bf-9b10-4060-be7f-e9ffe78ef9f6",
   "metadata": {},
   "outputs": [
    {
     "data": {
      "text/html": [
       "<div>\n",
       "<style scoped>\n",
       "    .dataframe tbody tr th:only-of-type {\n",
       "        vertical-align: middle;\n",
       "    }\n",
       "\n",
       "    .dataframe tbody tr th {\n",
       "        vertical-align: top;\n",
       "    }\n",
       "\n",
       "    .dataframe thead th {\n",
       "        text-align: right;\n",
       "    }\n",
       "</style>\n",
       "<table border=\"1\" class=\"dataframe\">\n",
       "  <thead>\n",
       "    <tr style=\"text-align: right;\">\n",
       "      <th></th>\n",
       "      <th>BASEL_cloud_cover</th>\n",
       "      <th>BASEL_humidity</th>\n",
       "      <th>BASEL_pressure</th>\n",
       "      <th>BASEL_global_radiation</th>\n",
       "      <th>BASEL_precipitation</th>\n",
       "      <th>BASEL_sunshine</th>\n",
       "      <th>BASEL_temp_mean</th>\n",
       "      <th>BASEL_temp_min</th>\n",
       "      <th>BASEL_temp_max</th>\n",
       "      <th>BELGRADE_cloud_cover</th>\n",
       "      <th>...</th>\n",
       "      <th>STOCKHOLM_temp_max</th>\n",
       "      <th>VALENTIA_cloud_cover</th>\n",
       "      <th>VALENTIA_humidity</th>\n",
       "      <th>VALENTIA_pressure</th>\n",
       "      <th>VALENTIA_global_radiation</th>\n",
       "      <th>VALENTIA_precipitation</th>\n",
       "      <th>VALENTIA_sunshine</th>\n",
       "      <th>VALENTIA_temp_mean</th>\n",
       "      <th>VALENTIA_temp_min</th>\n",
       "      <th>VALENTIA_temp_max</th>\n",
       "    </tr>\n",
       "  </thead>\n",
       "  <tbody>\n",
       "    <tr>\n",
       "      <th>0</th>\n",
       "      <td>0.660514</td>\n",
       "      <td>0.826097</td>\n",
       "      <td>-0.001949</td>\n",
       "      <td>-1.101066</td>\n",
       "      <td>-0.265148</td>\n",
       "      <td>-0.902918</td>\n",
       "      <td>-0.528623</td>\n",
       "      <td>-0.845652</td>\n",
       "      <td>-0.478356</td>\n",
       "      <td>-1.206433</td>\n",
       "      <td>...</td>\n",
       "      <td>-0.639538</td>\n",
       "      <td>-0.443701</td>\n",
       "      <td>0.761754</td>\n",
       "      <td>-1.299744</td>\n",
       "      <td>-0.806427</td>\n",
       "      <td>-0.088407</td>\n",
       "      <td>0.372147</td>\n",
       "      <td>-0.668215</td>\n",
       "      <td>-0.519743</td>\n",
       "      <td>-0.752237</td>\n",
       "    </tr>\n",
       "    <tr>\n",
       "      <th>1</th>\n",
       "      <td>0.244897</td>\n",
       "      <td>0.735760</td>\n",
       "      <td>-0.001949</td>\n",
       "      <td>-1.058108</td>\n",
       "      <td>1.658760</td>\n",
       "      <td>-0.810126</td>\n",
       "      <td>-0.582946</td>\n",
       "      <td>-0.462450</td>\n",
       "      <td>-0.569988</td>\n",
       "      <td>0.652846</td>\n",
       "      <td>...</td>\n",
       "      <td>-0.628550</td>\n",
       "      <td>0.783085</td>\n",
       "      <td>1.183580</td>\n",
       "      <td>-1.262455</td>\n",
       "      <td>-1.042055</td>\n",
       "      <td>0.503361</td>\n",
       "      <td>-0.829285</td>\n",
       "      <td>-0.548046</td>\n",
       "      <td>-0.629054</td>\n",
       "      <td>-0.407141</td>\n",
       "    </tr>\n",
       "    <tr>\n",
       "      <th>2</th>\n",
       "      <td>1.076130</td>\n",
       "      <td>1.277781</td>\n",
       "      <td>-0.001949</td>\n",
       "      <td>-1.251420</td>\n",
       "      <td>0.155707</td>\n",
       "      <td>-1.065304</td>\n",
       "      <td>-0.257010</td>\n",
       "      <td>-0.186545</td>\n",
       "      <td>-0.592896</td>\n",
       "      <td>0.652846</td>\n",
       "      <td>...</td>\n",
       "      <td>-0.727444</td>\n",
       "      <td>0.783085</td>\n",
       "      <td>1.183580</td>\n",
       "      <td>-0.432779</td>\n",
       "      <td>-1.136306</td>\n",
       "      <td>-0.396127</td>\n",
       "      <td>-1.009500</td>\n",
       "      <td>-0.067372</td>\n",
       "      <td>0.054135</td>\n",
       "      <td>-0.177078</td>\n",
       "    </tr>\n",
       "  </tbody>\n",
       "</table>\n",
       "<p>3 rows × 135 columns</p>\n",
       "</div>"
      ],
      "text/plain": [
       "   BASEL_cloud_cover  BASEL_humidity  BASEL_pressure  BASEL_global_radiation  \\\n",
       "0           0.660514        0.826097       -0.001949               -1.101066   \n",
       "1           0.244897        0.735760       -0.001949               -1.058108   \n",
       "2           1.076130        1.277781       -0.001949               -1.251420   \n",
       "\n",
       "   BASEL_precipitation  BASEL_sunshine  BASEL_temp_mean  BASEL_temp_min  \\\n",
       "0            -0.265148       -0.902918        -0.528623       -0.845652   \n",
       "1             1.658760       -0.810126        -0.582946       -0.462450   \n",
       "2             0.155707       -1.065304        -0.257010       -0.186545   \n",
       "\n",
       "   BASEL_temp_max  BELGRADE_cloud_cover  ...  STOCKHOLM_temp_max  \\\n",
       "0       -0.478356             -1.206433  ...           -0.639538   \n",
       "1       -0.569988              0.652846  ...           -0.628550   \n",
       "2       -0.592896              0.652846  ...           -0.727444   \n",
       "\n",
       "   VALENTIA_cloud_cover  VALENTIA_humidity  VALENTIA_pressure  \\\n",
       "0             -0.443701           0.761754          -1.299744   \n",
       "1              0.783085           1.183580          -1.262455   \n",
       "2              0.783085           1.183580          -0.432779   \n",
       "\n",
       "   VALENTIA_global_radiation  VALENTIA_precipitation  VALENTIA_sunshine  \\\n",
       "0                  -0.806427               -0.088407           0.372147   \n",
       "1                  -1.042055                0.503361          -0.829285   \n",
       "2                  -1.136306               -0.396127          -1.009500   \n",
       "\n",
       "   VALENTIA_temp_mean  VALENTIA_temp_min  VALENTIA_temp_max  \n",
       "0           -0.668215          -0.519743          -0.752237  \n",
       "1           -0.548046          -0.629054          -0.407141  \n",
       "2           -0.067372           0.054135          -0.177078  \n",
       "\n",
       "[3 rows x 135 columns]"
      ]
     },
     "execution_count": 35,
     "metadata": {},
     "output_type": "execute_result"
    }
   ],
   "source": [
    "x.head(3)"
   ]
  },
  {
   "cell_type": "code",
   "execution_count": 36,
   "id": "7f0c0196-3139-4034-a387-75425ca387cd",
   "metadata": {},
   "outputs": [],
   "source": [
    "y = answers"
   ]
  },
  {
   "cell_type": "code",
   "execution_count": 37,
   "id": "a5b70104-2260-4883-a7d6-4502b53e7d80",
   "metadata": {},
   "outputs": [
    {
     "data": {
      "text/plain": [
       "(22950, 135)"
      ]
     },
     "execution_count": 37,
     "metadata": {},
     "output_type": "execute_result"
    }
   ],
   "source": [
    "x.shape"
   ]
  },
  {
   "cell_type": "code",
   "execution_count": 43,
   "id": "70c64948-0fe1-48fd-b17c-6c660541be91",
   "metadata": {},
   "outputs": [
    {
     "data": {
      "text/plain": [
       "array([[ 6.60513663e-01,  8.26096599e-01, -1.94863388e-03, ...,\n",
       "        -6.68214979e-01, -5.19743407e-01, -7.52236990e-01],\n",
       "       [ 2.44896945e-01,  7.35759689e-01, -1.94863388e-03, ...,\n",
       "        -5.48046319e-01, -6.29053523e-01, -4.07141387e-01],\n",
       "       [ 1.07613038e+00,  1.27778115e+00, -1.94863388e-03, ...,\n",
       "        -6.73716818e-02,  5.41347039e-02, -1.77077651e-01],\n",
       "       ...,\n",
       "       [-5.86336492e-01,  1.30644098e-02,  7.16401992e-01, ...,\n",
       "        -7.28735214e-03, -5.20354258e-04, -4.52984969e-03],\n",
       "       [-1.70719774e-01,  3.74412049e-01,  4.87141154e-01, ...,\n",
       "        -7.28735214e-03, -5.20354258e-04, -4.52984969e-03],\n",
       "       [-1.70719774e-01,  7.35759689e-01,  1.96744092e-01, ...,\n",
       "        -7.28735214e-03, -5.20354258e-04, -4.52984969e-03]])"
      ]
     },
     "execution_count": 43,
     "metadata": {},
     "output_type": "execute_result"
    }
   ],
   "source": [
    "# Turn X and y into arrays\n",
    "x = np.array(x)\n",
    "y = np.array(y)\n",
    "x"
   ]
  },
  {
   "cell_type": "code",
   "execution_count": 44,
   "id": "a1bb1226-2eff-4fed-a431-4bc71c1eb8d0",
   "metadata": {},
   "outputs": [],
   "source": [
    "x = x.reshape(-1,15,9)"
   ]
  },
  {
   "cell_type": "code",
   "execution_count": 45,
   "id": "5a525519-37c3-4df2-8b4d-10458677fd90",
   "metadata": {},
   "outputs": [
    {
     "data": {
      "text/plain": [
       "(22950, 15, 9)"
      ]
     },
     "execution_count": 45,
     "metadata": {},
     "output_type": "execute_result"
    }
   ],
   "source": [
    "# Verify Shape\n",
    "x.shape"
   ]
  },
  {
   "cell_type": "code",
   "execution_count": 46,
   "id": "d9fa0b15-0a0f-436d-af01-6c8bdf9e964a",
   "metadata": {},
   "outputs": [
    {
     "data": {
      "text/plain": [
       "(22950, 15)"
      ]
     },
     "execution_count": 46,
     "metadata": {},
     "output_type": "execute_result"
    }
   ],
   "source": [
    "# Verify Shape\n",
    "y.shape"
   ]
  },
  {
   "cell_type": "code",
   "execution_count": 47,
   "id": "9a5a51ed-09d5-42c5-a0f9-d0a13649a2cf",
   "metadata": {},
   "outputs": [
    {
     "data": {
      "text/plain": [
       "array([[[ 6.60513663e-01,  8.26096599e-01, -1.94863388e-03, ...,\n",
       "         -5.28623012e-01, -8.45651922e-01, -4.78356271e-01],\n",
       "        [-1.20643263e+00,  9.05270489e-01,  3.21770762e-01, ...,\n",
       "         -1.01687613e+00, -1.22021042e+00, -9.49202784e-01],\n",
       "        [-2.55240242e-01, -1.00976762e-02, -5.87602906e-03, ...,\n",
       "         -1.09916317e+00, -1.11943125e+00, -1.13683915e+00],\n",
       "        ...,\n",
       "        [-4.28835402e-01, -6.29430381e-01,  9.52340493e-02, ...,\n",
       "         -1.24330511e-01, -1.70125111e-01, -6.33220094e-02],\n",
       "        [-6.01023076e-02, -3.46465175e-03,  1.54402321e+00, ...,\n",
       "         -3.91072163e-01, -2.90438548e-01, -6.39537957e-01],\n",
       "        [-4.43700743e-01,  7.61754381e-01, -1.29974368e+00, ...,\n",
       "         -6.68214979e-01, -5.19743407e-01, -7.52236990e-01]],\n",
       "\n",
       "       [[ 2.44896945e-01,  7.35759689e-01, -1.94863388e-03, ...,\n",
       "         -5.82945633e-01, -4.62450189e-01, -5.69988328e-01],\n",
       "        [ 6.52845676e-01,  1.11911758e+00,  1.68378867e-02, ...,\n",
       "         -1.10766931e+00, -8.18701592e-01, -1.29811882e+00],\n",
       "        [-2.55240242e-01, -1.00976762e-02, -5.87602906e-03, ...,\n",
       "         -1.11092657e+00, -8.78726929e-01, -1.34120429e+00],\n",
       "        ...,\n",
       "        [ 3.50124784e-01,  7.27064520e-01,  6.73187494e-02, ...,\n",
       "         -6.50833918e-01, -4.56455409e-01, -8.39562901e-01],\n",
       "        [-6.01023076e-02, -3.46465175e-03, -7.12373579e-01, ...,\n",
       "         -4.15953321e-01, -1.83609613e-01, -6.28549761e-01],\n",
       "        [ 7.83084638e-01,  1.18357955e+00, -1.26245490e+00, ...,\n",
       "         -5.48046319e-01, -6.29053523e-01, -4.07141387e-01]],\n",
       "\n",
       "       [[ 1.07613038e+00,  1.27778115e+00, -1.94863388e-03, ...,\n",
       "         -2.57009907e-01, -1.86544941e-01, -5.92896342e-01],\n",
       "        [ 6.52845676e-01,  6.20141034e-01,  1.09643544e-01, ...,\n",
       "         -1.08497101e+00, -1.16840283e+00, -1.09873823e+00],\n",
       "        [-2.55240242e-01, -1.00976762e-02, -5.87602906e-03, ...,\n",
       "         -1.06387296e+00, -8.38609542e-01, -1.11640264e+00],\n",
       "        ...,\n",
       "        [ 1.12908497e+00,  5.00982036e-01,  1.32454449e-01, ...,\n",
       "         -6.50833918e-01, -3.84872834e-01, -8.98147119e-01],\n",
       "        [-6.01023076e-02, -3.46465175e-03, -2.73629759e-01, ...,\n",
       "         -6.15002578e-01, -4.10621099e-01, -7.27443533e-01],\n",
       "        [ 7.83084638e-01,  1.18357955e+00, -4.32779415e-01, ...,\n",
       "         -6.73716818e-02,  5.41347039e-02, -1.77077651e-01]],\n",
       "\n",
       "       ...,\n",
       "\n",
       "       [[-5.86336492e-01,  1.30644098e-02,  7.16401992e-01, ...,\n",
       "          8.56603825e-01,  1.03970060e+00,  8.38854551e-01],\n",
       "        [-8.34576965e-01, -2.14002390e-02,  1.42218070e+00, ...,\n",
       "          8.39911037e-02,  1.02198657e-02,  7.76072667e-02],\n",
       "        [-2.55240242e-01, -1.00976762e-02, -5.87602906e-03, ...,\n",
       "         -5.16667121e-03, -9.51688132e-03, -2.61266797e-03],\n",
       "        ...,\n",
       "        [-8.18315494e-01, -7.70355129e-03, -1.43225559e-04, ...,\n",
       "          1.22117820e+00,  1.34742547e+00,  1.06442419e+00],\n",
       "        [-6.01023076e-02, -2.08051884e-01,  7.29213258e-01, ...,\n",
       "          7.16139333e-01,  1.03156952e+00,  4.04340749e-01],\n",
       "        [-4.43700743e-01, -8.18959634e-02, -3.95837927e-03, ...,\n",
       "         -7.28735214e-03, -5.20354258e-04, -4.52984969e-03]],\n",
       "\n",
       "       [[-1.70719774e-01,  3.74412049e-01,  4.87141154e-01, ...,\n",
       "          6.80055307e-01,  8.09779564e-01,  6.89952458e-01],\n",
       "        [-1.20643263e+00, -2.14002390e-02,  8.91862658e-01, ...,\n",
       "          2.65577452e-01,  7.49793545e-02,  3.46771067e-01],\n",
       "        [-2.55240242e-01, -1.00976762e-02, -5.87602906e-03, ...,\n",
       "         -5.16667121e-03, -9.51688132e-03, -2.61266797e-03],\n",
       "        ...,\n",
       "        [-8.18315494e-01, -7.70355129e-03, -1.43225559e-04, ...,\n",
       "          1.23580329e+00,  1.43332455e+00,  1.00583997e+00],\n",
       "        [-6.01023076e-02,  1.67644670e-01,  1.29331245e+00, ...,\n",
       "          1.94669307e-02,  9.68163404e-02,  1.84576811e-01],\n",
       "        [-4.43700743e-01, -8.18959634e-02, -3.95837927e-03, ...,\n",
       "         -7.28735214e-03, -5.20354258e-04, -4.52984969e-03]],\n",
       "\n",
       "       [[-1.70719774e-01,  7.35759689e-01,  1.96744092e-01, ...,\n",
       "          4.22022857e-01,  5.49202386e-01,  4.72326323e-01],\n",
       "        [-9.08656446e-02, -2.14002390e-02,  8.52088805e-01, ...,\n",
       "          1.97482571e-01,  2.43354025e-01,  9.75453259e-02],\n",
       "        [-2.55240242e-01, -1.00976762e-02, -5.87602906e-03, ...,\n",
       "         -5.16667121e-03, -9.51688132e-03, -2.61266797e-03],\n",
       "        ...,\n",
       "        [-4.28835402e-01, -7.70355129e-03, -1.43225559e-04, ...,\n",
       "          9.87176683e-01,  1.14699426e+00,  8.00795209e-01],\n",
       "        [-6.01023076e-02,  1.82523741e-01,  1.48134552e+00, ...,\n",
       "          2.93159660e-01,  8.34627236e-02,  2.06553205e-01],\n",
       "        [-4.43700743e-01, -8.18959634e-02, -3.95837927e-03, ...,\n",
       "         -7.28735214e-03, -5.20354258e-04, -4.52984969e-03]]])"
      ]
     },
     "execution_count": 47,
     "metadata": {},
     "output_type": "execute_result"
    }
   ],
   "source": [
    "x"
   ]
  },
  {
   "cell_type": "markdown",
   "id": "3c3c4400-39d0-4bf4-bb42-c34d6914f0c8",
   "metadata": {},
   "source": [
    "### 3. DATA SPLITTING"
   ]
  },
  {
   "cell_type": "code",
   "execution_count": 48,
   "id": "0bc9aff0-da4a-4b75-b886-3fc1f8f43657",
   "metadata": {},
   "outputs": [],
   "source": [
    "# Split data into train and test sets\n",
    "\n",
    "x_train, x_test, y_train, y_test = train_test_split(x,y,random_state = 42)"
   ]
  },
  {
   "cell_type": "code",
   "execution_count": 49,
   "id": "1cef6d73-4523-4eed-8cd9-315e65328d0b",
   "metadata": {},
   "outputs": [
    {
     "name": "stdout",
     "output_type": "stream",
     "text": [
      "(17212, 15, 9) (17212, 15)\n",
      "(5738, 15, 9) (5738, 15)\n"
     ]
    }
   ],
   "source": [
    "print(x_train.shape, y_train.shape)\n",
    "print(x_test.shape, y_test.shape)"
   ]
  },
  {
   "cell_type": "markdown",
   "id": "fdfee0f7-7c6c-4443-80d8-811cea43330e",
   "metadata": {},
   "source": [
    "### 4. KERAS MODEL CREATION"
   ]
  },
  {
   "cell_type": "code",
   "execution_count": 50,
   "id": "77a6ba80-f0d0-442d-8e4f-8dbfc40a0467",
   "metadata": {},
   "outputs": [],
   "source": [
    "epochs = 30\n",
    "batch_size = 16\n",
    "n_hidden = 32\n",
    "\n",
    "timesteps = len(x_train[0])\n",
    "input_dim = len(x_train[0][0])\n",
    "n_classes = len(y_train[0])\n",
    "\n",
    "model = Sequential()\n",
    "model.add(Conv1D(n_hidden, kernel_size=2, activation='relu', input_shape=(timesteps, input_dim)))\n",
    "model.add(Dense(16, activation='relu'))\n",
    "model.add(MaxPooling1D())\n",
    "model.add(Flatten())\n",
    "model.add(Dense(n_classes, activation='softmax')) # Options: sigmoid, tanh, softmax, relu"
   ]
  },
  {
   "cell_type": "code",
   "execution_count": 51,
   "id": "e9cecf73-8cd9-4ec3-8982-b48f8d9ee725",
   "metadata": {},
   "outputs": [
    {
     "data": {
      "text/html": [
       "<pre style=\"white-space:pre;overflow-x:auto;line-height:normal;font-family:Menlo,'DejaVu Sans Mono',consolas,'Courier New',monospace\"><span style=\"font-weight: bold\">Model: \"sequential\"</span>\n",
       "</pre>\n"
      ],
      "text/plain": [
       "\u001b[1mModel: \"sequential\"\u001b[0m\n"
      ]
     },
     "metadata": {},
     "output_type": "display_data"
    },
    {
     "data": {
      "text/html": [
       "<pre style=\"white-space:pre;overflow-x:auto;line-height:normal;font-family:Menlo,'DejaVu Sans Mono',consolas,'Courier New',monospace\">┏━━━━━━━━━━━━━━━━━━━━━━━━━━━━━━━━━┳━━━━━━━━━━━━━━━━━━━━━━━━┳━━━━━━━━━━━━━━━┓\n",
       "┃<span style=\"font-weight: bold\"> Layer (type)                    </span>┃<span style=\"font-weight: bold\"> Output Shape           </span>┃<span style=\"font-weight: bold\">       Param # </span>┃\n",
       "┡━━━━━━━━━━━━━━━━━━━━━━━━━━━━━━━━━╇━━━━━━━━━━━━━━━━━━━━━━━━╇━━━━━━━━━━━━━━━┩\n",
       "│ conv1d (<span style=\"color: #0087ff; text-decoration-color: #0087ff\">Conv1D</span>)                 │ (<span style=\"color: #00d7ff; text-decoration-color: #00d7ff\">None</span>, <span style=\"color: #00af00; text-decoration-color: #00af00\">14</span>, <span style=\"color: #00af00; text-decoration-color: #00af00\">32</span>)         │           <span style=\"color: #00af00; text-decoration-color: #00af00\">608</span> │\n",
       "├─────────────────────────────────┼────────────────────────┼───────────────┤\n",
       "│ dense (<span style=\"color: #0087ff; text-decoration-color: #0087ff\">Dense</span>)                   │ (<span style=\"color: #00d7ff; text-decoration-color: #00d7ff\">None</span>, <span style=\"color: #00af00; text-decoration-color: #00af00\">14</span>, <span style=\"color: #00af00; text-decoration-color: #00af00\">16</span>)         │           <span style=\"color: #00af00; text-decoration-color: #00af00\">528</span> │\n",
       "├─────────────────────────────────┼────────────────────────┼───────────────┤\n",
       "│ max_pooling1d (<span style=\"color: #0087ff; text-decoration-color: #0087ff\">MaxPooling1D</span>)    │ (<span style=\"color: #00d7ff; text-decoration-color: #00d7ff\">None</span>, <span style=\"color: #00af00; text-decoration-color: #00af00\">7</span>, <span style=\"color: #00af00; text-decoration-color: #00af00\">16</span>)          │             <span style=\"color: #00af00; text-decoration-color: #00af00\">0</span> │\n",
       "├─────────────────────────────────┼────────────────────────┼───────────────┤\n",
       "│ flatten (<span style=\"color: #0087ff; text-decoration-color: #0087ff\">Flatten</span>)               │ (<span style=\"color: #00d7ff; text-decoration-color: #00d7ff\">None</span>, <span style=\"color: #00af00; text-decoration-color: #00af00\">112</span>)            │             <span style=\"color: #00af00; text-decoration-color: #00af00\">0</span> │\n",
       "├─────────────────────────────────┼────────────────────────┼───────────────┤\n",
       "│ dense_1 (<span style=\"color: #0087ff; text-decoration-color: #0087ff\">Dense</span>)                 │ (<span style=\"color: #00d7ff; text-decoration-color: #00d7ff\">None</span>, <span style=\"color: #00af00; text-decoration-color: #00af00\">15</span>)             │         <span style=\"color: #00af00; text-decoration-color: #00af00\">1,695</span> │\n",
       "└─────────────────────────────────┴────────────────────────┴───────────────┘\n",
       "</pre>\n"
      ],
      "text/plain": [
       "┏━━━━━━━━━━━━━━━━━━━━━━━━━━━━━━━━━┳━━━━━━━━━━━━━━━━━━━━━━━━┳━━━━━━━━━━━━━━━┓\n",
       "┃\u001b[1m \u001b[0m\u001b[1mLayer (type)                   \u001b[0m\u001b[1m \u001b[0m┃\u001b[1m \u001b[0m\u001b[1mOutput Shape          \u001b[0m\u001b[1m \u001b[0m┃\u001b[1m \u001b[0m\u001b[1m      Param #\u001b[0m\u001b[1m \u001b[0m┃\n",
       "┡━━━━━━━━━━━━━━━━━━━━━━━━━━━━━━━━━╇━━━━━━━━━━━━━━━━━━━━━━━━╇━━━━━━━━━━━━━━━┩\n",
       "│ conv1d (\u001b[38;5;33mConv1D\u001b[0m)                 │ (\u001b[38;5;45mNone\u001b[0m, \u001b[38;5;34m14\u001b[0m, \u001b[38;5;34m32\u001b[0m)         │           \u001b[38;5;34m608\u001b[0m │\n",
       "├─────────────────────────────────┼────────────────────────┼───────────────┤\n",
       "│ dense (\u001b[38;5;33mDense\u001b[0m)                   │ (\u001b[38;5;45mNone\u001b[0m, \u001b[38;5;34m14\u001b[0m, \u001b[38;5;34m16\u001b[0m)         │           \u001b[38;5;34m528\u001b[0m │\n",
       "├─────────────────────────────────┼────────────────────────┼───────────────┤\n",
       "│ max_pooling1d (\u001b[38;5;33mMaxPooling1D\u001b[0m)    │ (\u001b[38;5;45mNone\u001b[0m, \u001b[38;5;34m7\u001b[0m, \u001b[38;5;34m16\u001b[0m)          │             \u001b[38;5;34m0\u001b[0m │\n",
       "├─────────────────────────────────┼────────────────────────┼───────────────┤\n",
       "│ flatten (\u001b[38;5;33mFlatten\u001b[0m)               │ (\u001b[38;5;45mNone\u001b[0m, \u001b[38;5;34m112\u001b[0m)            │             \u001b[38;5;34m0\u001b[0m │\n",
       "├─────────────────────────────────┼────────────────────────┼───────────────┤\n",
       "│ dense_1 (\u001b[38;5;33mDense\u001b[0m)                 │ (\u001b[38;5;45mNone\u001b[0m, \u001b[38;5;34m15\u001b[0m)             │         \u001b[38;5;34m1,695\u001b[0m │\n",
       "└─────────────────────────────────┴────────────────────────┴───────────────┘\n"
      ]
     },
     "metadata": {},
     "output_type": "display_data"
    },
    {
     "data": {
      "text/html": [
       "<pre style=\"white-space:pre;overflow-x:auto;line-height:normal;font-family:Menlo,'DejaVu Sans Mono',consolas,'Courier New',monospace\"><span style=\"font-weight: bold\"> Total params: </span><span style=\"color: #00af00; text-decoration-color: #00af00\">2,831</span> (11.06 KB)\n",
       "</pre>\n"
      ],
      "text/plain": [
       "\u001b[1m Total params: \u001b[0m\u001b[38;5;34m2,831\u001b[0m (11.06 KB)\n"
      ]
     },
     "metadata": {},
     "output_type": "display_data"
    },
    {
     "data": {
      "text/html": [
       "<pre style=\"white-space:pre;overflow-x:auto;line-height:normal;font-family:Menlo,'DejaVu Sans Mono',consolas,'Courier New',monospace\"><span style=\"font-weight: bold\"> Trainable params: </span><span style=\"color: #00af00; text-decoration-color: #00af00\">2,831</span> (11.06 KB)\n",
       "</pre>\n"
      ],
      "text/plain": [
       "\u001b[1m Trainable params: \u001b[0m\u001b[38;5;34m2,831\u001b[0m (11.06 KB)\n"
      ]
     },
     "metadata": {},
     "output_type": "display_data"
    },
    {
     "data": {
      "text/html": [
       "<pre style=\"white-space:pre;overflow-x:auto;line-height:normal;font-family:Menlo,'DejaVu Sans Mono',consolas,'Courier New',monospace\"><span style=\"font-weight: bold\"> Non-trainable params: </span><span style=\"color: #00af00; text-decoration-color: #00af00\">0</span> (0.00 B)\n",
       "</pre>\n"
      ],
      "text/plain": [
       "\u001b[1m Non-trainable params: \u001b[0m\u001b[38;5;34m0\u001b[0m (0.00 B)\n"
      ]
     },
     "metadata": {},
     "output_type": "display_data"
    }
   ],
   "source": [
    "model.summary()"
   ]
  },
  {
   "cell_type": "markdown",
   "id": "4369b5a2-1495-44ff-b409-be53de062e2f",
   "metadata": {},
   "source": [
    "### 5. COMPILING AND RUNNING MODEL"
   ]
  },
  {
   "cell_type": "code",
   "execution_count": 52,
   "id": "5692084d-abba-4faa-a774-3bf98b0773b5",
   "metadata": {},
   "outputs": [],
   "source": [
    "model.compile(loss='categorical_crossentropy', optimizer='adam', metrics=['accuracy'])"
   ]
  },
  {
   "cell_type": "code",
   "execution_count": 53,
   "id": "18e570be-de22-4da1-b85e-3ffec219510c",
   "metadata": {},
   "outputs": [
    {
     "name": "stdout",
     "output_type": "stream",
     "text": [
      "Epoch 1/30\n",
      "1076/1076 - 2s - 2ms/step - accuracy: 0.1334 - loss: 1904.4594\n",
      "Epoch 2/30\n",
      "1076/1076 - 1s - 1ms/step - accuracy: 0.1470 - loss: 19126.7090\n",
      "Epoch 3/30\n",
      "1076/1076 - 2s - 2ms/step - accuracy: 0.1574 - loss: 64848.9922\n",
      "Epoch 4/30\n",
      "1076/1076 - 2s - 1ms/step - accuracy: 0.1561 - loss: 144413.9219\n",
      "Epoch 5/30\n",
      "1076/1076 - 2s - 1ms/step - accuracy: 0.1503 - loss: 234221.6719\n",
      "Epoch 6/30\n",
      "1076/1076 - 2s - 1ms/step - accuracy: 0.1508 - loss: 367186.4688\n",
      "Epoch 7/30\n",
      "1076/1076 - 2s - 1ms/step - accuracy: 0.1464 - loss: 547163.0625\n",
      "Epoch 8/30\n",
      "1076/1076 - 2s - 1ms/step - accuracy: 0.1523 - loss: 742340.5625\n",
      "Epoch 9/30\n",
      "1076/1076 - 2s - 1ms/step - accuracy: 0.1495 - loss: 976095.1250\n",
      "Epoch 10/30\n",
      "1076/1076 - 2s - 2ms/step - accuracy: 0.1513 - loss: 1252263.8750\n",
      "Epoch 11/30\n",
      "1076/1076 - 2s - 1ms/step - accuracy: 0.1479 - loss: 1597304.7500\n",
      "Epoch 12/30\n",
      "1076/1076 - 2s - 1ms/step - accuracy: 0.1515 - loss: 1970624.8750\n",
      "Epoch 13/30\n",
      "1076/1076 - 2s - 2ms/step - accuracy: 0.1534 - loss: 2422371.0000\n",
      "Epoch 14/30\n",
      "1076/1076 - 1s - 1ms/step - accuracy: 0.1531 - loss: 2953036.5000\n",
      "Epoch 15/30\n",
      "1076/1076 - 2s - 2ms/step - accuracy: 0.1540 - loss: 3473833.7500\n",
      "Epoch 16/30\n",
      "1076/1076 - 2s - 1ms/step - accuracy: 0.1557 - loss: 4083036.7500\n",
      "Epoch 17/30\n",
      "1076/1076 - 2s - 1ms/step - accuracy: 0.1544 - loss: 4784897.0000\n",
      "Epoch 18/30\n",
      "1076/1076 - 2s - 1ms/step - accuracy: 0.1519 - loss: 5569165.0000\n",
      "Epoch 19/30\n",
      "1076/1076 - 2s - 1ms/step - accuracy: 0.1544 - loss: 6389672.5000\n",
      "Epoch 20/30\n",
      "1076/1076 - 1s - 1ms/step - accuracy: 0.1528 - loss: 7335379.0000\n",
      "Epoch 21/30\n",
      "1076/1076 - 1s - 1ms/step - accuracy: 0.1526 - loss: 8333169.5000\n",
      "Epoch 22/30\n",
      "1076/1076 - 1s - 1ms/step - accuracy: 0.1498 - loss: 9410257.0000\n",
      "Epoch 23/30\n",
      "1076/1076 - 2s - 2ms/step - accuracy: 0.1516 - loss: 10573284.0000\n",
      "Epoch 24/30\n",
      "1076/1076 - 2s - 2ms/step - accuracy: 0.1550 - loss: 11817394.0000\n",
      "Epoch 25/30\n",
      "1076/1076 - 2s - 2ms/step - accuracy: 0.1577 - loss: 13172850.0000\n",
      "Epoch 26/30\n",
      "1076/1076 - 2s - 1ms/step - accuracy: 0.1530 - loss: 14633272.0000\n",
      "Epoch 27/30\n",
      "1076/1076 - 1s - 1ms/step - accuracy: 0.1538 - loss: 16165129.0000\n",
      "Epoch 28/30\n",
      "1076/1076 - 1s - 1ms/step - accuracy: 0.1504 - loss: 17770338.0000\n",
      "Epoch 29/30\n",
      "1076/1076 - 2s - 1ms/step - accuracy: 0.1557 - loss: 19554082.0000\n",
      "Epoch 30/30\n",
      "1076/1076 - 1s - 1ms/step - accuracy: 0.1554 - loss: 21390926.0000\n"
     ]
    },
    {
     "data": {
      "text/plain": [
       "<keras.src.callbacks.history.History at 0x198d6ceb140>"
      ]
     },
     "execution_count": 53,
     "metadata": {},
     "output_type": "execute_result"
    }
   ],
   "source": [
    "model.fit(x_train, y_train, batch_size=batch_size, epochs=epochs, verbose=2)"
   ]
  },
  {
   "cell_type": "markdown",
   "id": "305d6b67-6918-4aa6-8732-e1d667725182",
   "metadata": {},
   "source": [
    "### 6.CONFUSION MATRIX CREATION"
   ]
  },
  {
   "cell_type": "code",
   "execution_count": 54,
   "id": "269c1378-3ad4-46f6-8712-4aff644dd756",
   "metadata": {},
   "outputs": [],
   "source": [
    "# Define list of stations names\n",
    "\n",
    "stations = {\n",
    "0: 'BASEL',\n",
    "1: 'BELGRADE',\n",
    "2: 'BUDAPEST',\n",
    "3: 'DEBILT',\n",
    "4: 'DUSSELDORF',\n",
    "5: 'HEATHROW',\n",
    "6: 'KASSEL',\n",
    "7: 'LJUBLJANA',\n",
    "8: 'MAASTRICHT',\n",
    "9: 'MADRID',\n",
    "10: 'MUNCHENB',\n",
    "11: 'OSLO',\n",
    "12: 'SONNBLICK',\n",
    "13: 'STOCKHOLM',\n",
    "14: 'VALENTIA'\n",
    "\n",
    "}"
   ]
  },
  {
   "cell_type": "code",
   "execution_count": 55,
   "id": "19a7be92-e431-49a8-80ba-10230a95de33",
   "metadata": {},
   "outputs": [],
   "source": [
    "def confusion_matrix(y_true, y_pred):\n",
    "    y_true = pd.Series([stations[y] for y in np.argmax(y_true, axis=1)])\n",
    "    y_pred = pd.Series([stations[y] for y in np.argmax(y_pred, axis=1)])\n",
    "\n",
    "    return pd.crosstab(y_true, y_pred, rownames=['True'], colnames=['Pred'])"
   ]
  },
  {
   "cell_type": "code",
   "execution_count": 56,
   "id": "5abad6bb-bdff-429c-8b8e-ec3246c893fd",
   "metadata": {},
   "outputs": [
    {
     "name": "stdout",
     "output_type": "stream",
     "text": [
      "\u001b[1m180/180\u001b[0m \u001b[32m━━━━━━━━━━━━━━━━━━━━\u001b[0m\u001b[37m\u001b[0m \u001b[1m0s\u001b[0m 1ms/step  \n",
      "Pred        BASEL  BELGRADE  BUDAPEST  DEBILT  DUSSELDORF  HEATHROW  KASSEL  \\\n",
      "True                                                                          \n",
      "BASEL         107        20       966     102         939        46     195   \n",
      "BELGRADE        0         8       792       9         240         5       6   \n",
      "BUDAPEST        0         1        90       6          95         1       5   \n",
      "DEBILT          0         0         8       1          68         0       4   \n",
      "DUSSELDORF      0         0         3       3          21         0       0   \n",
      "HEATHROW        0         0        15       3          42         3       4   \n",
      "KASSEL          0         0         3       0           8         0       0   \n",
      "LJUBLJANA       1         0        18       0          13         0       4   \n",
      "MAASTRICHT      0         0         1       2           6         0       0   \n",
      "MADRID          0         2       108      10          75         7      22   \n",
      "MUNCHENB        1         0         2       0           1         0       1   \n",
      "OSLO            0         1         1       0           2         0       0   \n",
      "STOCKHOLM       0         0         4       0           0         0       0   \n",
      "VALENTIA        0         0         0       0           0         0       1   \n",
      "\n",
      "Pred        LJUBLJANA  MAASTRICHT  MADRID  MUNCHENB  OSLO  SONNBLICK  \\\n",
      "True                                                                   \n",
      "BASEL             162         365     231       134   132         63   \n",
      "BELGRADE            9           0      17         0     5          0   \n",
      "BUDAPEST            5           4       6         1     0          0   \n",
      "DEBILT              0           0       1         0     0          0   \n",
      "DUSSELDORF          0           0       2         0     0          0   \n",
      "HEATHROW            0           1      11         0     3          0   \n",
      "KASSEL              0           0       0         0     0          0   \n",
      "LJUBLJANA           3           7      15         0     0          0   \n",
      "MAASTRICHT          0           0       0         0     0          0   \n",
      "MADRID              9          16     183         0    24          2   \n",
      "MUNCHENB            0           0       2         0     1          0   \n",
      "OSLO                1           0       0         0     0          0   \n",
      "STOCKHOLM           0           0       0         0     0          0   \n",
      "VALENTIA            0           0       0         0     0          0   \n",
      "\n",
      "Pred        STOCKHOLM  VALENTIA  \n",
      "True                             \n",
      "BASEL             138        82  \n",
      "BELGRADE            1         0  \n",
      "BUDAPEST            0         0  \n",
      "DEBILT              0         0  \n",
      "DUSSELDORF          0         0  \n",
      "HEATHROW            0         0  \n",
      "KASSEL              0         0  \n",
      "LJUBLJANA           0         0  \n",
      "MAASTRICHT          0         0  \n",
      "MADRID              0         0  \n",
      "MUNCHENB            0         0  \n",
      "OSLO                0         0  \n",
      "STOCKHOLM           0         0  \n",
      "VALENTIA            0         0  \n"
     ]
    }
   ],
   "source": [
    "# Evaluate\n",
    "print(confusion_matrix(y_test, model.predict(x_test)))"
   ]
  },
  {
   "cell_type": "code",
   "execution_count": null,
   "id": "397952eb-d30c-4e26-aece-c50dd9c3446d",
   "metadata": {},
   "outputs": [],
   "source": [
    "7. KERAS MODEL RETRIALS"
   ]
  },
  {
   "cell_type": "code",
   "execution_count": 58,
   "id": "54987eb1-f951-499f-b4ab-d66a92f0ac3d",
   "metadata": {},
   "outputs": [],
   "source": [
    "epochs = 60\n",
    "batch_size = 16\n",
    "n_hidden = 32\n",
    "\n",
    "timesteps = len(x_train[0])\n",
    "input_dim = len(x_train[0][0])\n",
    "n_classes = len(y_train[0])\n",
    "\n",
    "model = Sequential()\n",
    "model.add(Conv1D(n_hidden, kernel_size=2, activation='relu', input_shape=(timesteps, input_dim)))\n",
    "model.add(Dense(16, activation='relu'))\n",
    "model.add(MaxPooling1D())\n",
    "model.add(Flatten())\n",
    "model.add(Dense(n_classes, activation='softmax')) # Options: sigmoid, tanh, softmax, relu"
   ]
  },
  {
   "cell_type": "code",
   "execution_count": 59,
   "id": "e21a9622-9515-4091-9c60-4ca1763899d6",
   "metadata": {},
   "outputs": [],
   "source": [
    "model.compile(loss='categorical_crossentropy', optimizer='adam', metrics=['accuracy'])"
   ]
  },
  {
   "cell_type": "code",
   "execution_count": 60,
   "id": "1549b0d3-49a6-4505-b28b-957e22d5b05f",
   "metadata": {},
   "outputs": [
    {
     "name": "stdout",
     "output_type": "stream",
     "text": [
      "Epoch 1/60\n",
      "1076/1076 - 2s - 2ms/step - accuracy: 0.1235 - loss: 1410.6365\n",
      "Epoch 2/60\n",
      "1076/1076 - 1s - 1ms/step - accuracy: 0.1608 - loss: 13877.4824\n",
      "Epoch 3/60\n",
      "1076/1076 - 1s - 1ms/step - accuracy: 0.1646 - loss: 44752.8359\n",
      "Epoch 4/60\n",
      "1076/1076 - 1s - 1ms/step - accuracy: 0.1627 - loss: 96246.7891\n",
      "Epoch 5/60\n",
      "1076/1076 - 2s - 2ms/step - accuracy: 0.1592 - loss: 174258.3281\n",
      "Epoch 6/60\n",
      "1076/1076 - 1s - 1ms/step - accuracy: 0.1580 - loss: 278343.1875\n",
      "Epoch 7/60\n",
      "1076/1076 - 1s - 1ms/step - accuracy: 0.1552 - loss: 404655.9062\n",
      "Epoch 8/60\n",
      "1076/1076 - 2s - 2ms/step - accuracy: 0.1534 - loss: 570737.1875\n",
      "Epoch 9/60\n",
      "1076/1076 - 2s - 2ms/step - accuracy: 0.1559 - loss: 765739.9375\n",
      "Epoch 10/60\n",
      "1076/1076 - 1s - 1ms/step - accuracy: 0.1531 - loss: 989759.6250\n",
      "Epoch 11/60\n",
      "1076/1076 - 1s - 1ms/step - accuracy: 0.1534 - loss: 1261195.7500\n",
      "Epoch 12/60\n",
      "1076/1076 - 1s - 1ms/step - accuracy: 0.1500 - loss: 1571485.2500\n",
      "Epoch 13/60\n",
      "1076/1076 - 1s - 1ms/step - accuracy: 0.1505 - loss: 1927498.5000\n",
      "Epoch 14/60\n",
      "1076/1076 - 1s - 1ms/step - accuracy: 0.1507 - loss: 2306561.0000\n",
      "Epoch 15/60\n",
      "1076/1076 - 1s - 1ms/step - accuracy: 0.1537 - loss: 2745256.2500\n",
      "Epoch 16/60\n",
      "1076/1076 - 1s - 1ms/step - accuracy: 0.1564 - loss: 3217074.0000\n",
      "Epoch 17/60\n",
      "1076/1076 - 1s - 1ms/step - accuracy: 0.1535 - loss: 3749396.7500\n",
      "Epoch 18/60\n",
      "1076/1076 - 1s - 1ms/step - accuracy: 0.1537 - loss: 4355248.5000\n",
      "Epoch 19/60\n",
      "1076/1076 - 2s - 2ms/step - accuracy: 0.1547 - loss: 4963306.5000\n",
      "Epoch 20/60\n",
      "1076/1076 - 2s - 1ms/step - accuracy: 0.1541 - loss: 5717098.0000\n",
      "Epoch 21/60\n",
      "1076/1076 - 1s - 1ms/step - accuracy: 0.1537 - loss: 6478017.0000\n",
      "Epoch 22/60\n",
      "1076/1076 - 1s - 1ms/step - accuracy: 0.1541 - loss: 7314148.0000\n",
      "Epoch 23/60\n",
      "1076/1076 - 1s - 1ms/step - accuracy: 0.1508 - loss: 8255787.5000\n",
      "Epoch 24/60\n",
      "1076/1076 - 1s - 1ms/step - accuracy: 0.1525 - loss: 9239918.0000\n",
      "Epoch 25/60\n",
      "1076/1076 - 1s - 1ms/step - accuracy: 0.1512 - loss: 10202209.0000\n",
      "Epoch 26/60\n",
      "1076/1076 - 1s - 1ms/step - accuracy: 0.1524 - loss: 11396693.0000\n",
      "Epoch 27/60\n",
      "1076/1076 - 1s - 1ms/step - accuracy: 0.1533 - loss: 12619529.0000\n",
      "Epoch 28/60\n",
      "1076/1076 - 1s - 1ms/step - accuracy: 0.1547 - loss: 13844231.0000\n",
      "Epoch 29/60\n",
      "1076/1076 - 1s - 1ms/step - accuracy: 0.1516 - loss: 15263281.0000\n",
      "Epoch 30/60\n",
      "1076/1076 - 2s - 2ms/step - accuracy: 0.1551 - loss: 16673892.0000\n",
      "Epoch 31/60\n",
      "1076/1076 - 2s - 1ms/step - accuracy: 0.1577 - loss: 18186706.0000\n",
      "Epoch 32/60\n",
      "1076/1076 - 1s - 1ms/step - accuracy: 0.1537 - loss: 19811002.0000\n",
      "Epoch 33/60\n",
      "1076/1076 - 1s - 1ms/step - accuracy: 0.1576 - loss: 21451858.0000\n",
      "Epoch 34/60\n",
      "1076/1076 - 1s - 1ms/step - accuracy: 0.1547 - loss: 23386574.0000\n",
      "Epoch 35/60\n",
      "1076/1076 - 1s - 1ms/step - accuracy: 0.1574 - loss: 25265436.0000\n",
      "Epoch 36/60\n",
      "1076/1076 - 1s - 1ms/step - accuracy: 0.1558 - loss: 27307068.0000\n",
      "Epoch 37/60\n",
      "1076/1076 - 1s - 1ms/step - accuracy: 0.1543 - loss: 29414142.0000\n",
      "Epoch 38/60\n",
      "1076/1076 - 1s - 1ms/step - accuracy: 0.1537 - loss: 31620456.0000\n",
      "Epoch 39/60\n",
      "1076/1076 - 1s - 1ms/step - accuracy: 0.1530 - loss: 34171516.0000\n",
      "Epoch 40/60\n",
      "1076/1076 - 1s - 1ms/step - accuracy: 0.1526 - loss: 36355156.0000\n",
      "Epoch 41/60\n",
      "1076/1076 - 2s - 2ms/step - accuracy: 0.1536 - loss: 39076996.0000\n",
      "Epoch 42/60\n",
      "1076/1076 - 2s - 1ms/step - accuracy: 0.1544 - loss: 41681584.0000\n",
      "Epoch 43/60\n",
      "1076/1076 - 2s - 1ms/step - accuracy: 0.1529 - loss: 44176864.0000\n",
      "Epoch 44/60\n",
      "1076/1076 - 1s - 1ms/step - accuracy: 0.1514 - loss: 47328680.0000\n",
      "Epoch 45/60\n",
      "1076/1076 - 1s - 1ms/step - accuracy: 0.1541 - loss: 50112748.0000\n",
      "Epoch 46/60\n",
      "1076/1076 - 1s - 1ms/step - accuracy: 0.1543 - loss: 53188520.0000\n",
      "Epoch 47/60\n",
      "1076/1076 - 1s - 1ms/step - accuracy: 0.1526 - loss: 56381140.0000\n",
      "Epoch 48/60\n",
      "1076/1076 - 1s - 1ms/step - accuracy: 0.1531 - loss: 59627512.0000\n",
      "Epoch 49/60\n",
      "1076/1076 - 1s - 1ms/step - accuracy: 0.1519 - loss: 63146128.0000\n",
      "Epoch 50/60\n",
      "1076/1076 - 1s - 1ms/step - accuracy: 0.1533 - loss: 66505468.0000\n",
      "Epoch 51/60\n",
      "1076/1076 - 1s - 1ms/step - accuracy: 0.1541 - loss: 70415128.0000\n",
      "Epoch 52/60\n",
      "1076/1076 - 2s - 2ms/step - accuracy: 0.1504 - loss: 74062584.0000\n",
      "Epoch 53/60\n",
      "1076/1076 - 2s - 1ms/step - accuracy: 0.1526 - loss: 77921304.0000\n",
      "Epoch 54/60\n",
      "1076/1076 - 1s - 1ms/step - accuracy: 0.1544 - loss: 82241688.0000\n",
      "Epoch 55/60\n",
      "1076/1076 - 1s - 1ms/step - accuracy: 0.1579 - loss: 86731432.0000\n",
      "Epoch 56/60\n",
      "1076/1076 - 1s - 1ms/step - accuracy: 0.1509 - loss: 90744816.0000\n",
      "Epoch 57/60\n",
      "1076/1076 - 1s - 1ms/step - accuracy: 0.1560 - loss: 95652688.0000\n",
      "Epoch 58/60\n",
      "1076/1076 - 1s - 1ms/step - accuracy: 0.1574 - loss: 100489128.0000\n",
      "Epoch 59/60\n",
      "1076/1076 - 1s - 1ms/step - accuracy: 0.1565 - loss: 105508416.0000\n",
      "Epoch 60/60\n",
      "1076/1076 - 1s - 1ms/step - accuracy: 0.1539 - loss: 110409280.0000\n"
     ]
    },
    {
     "data": {
      "text/plain": [
       "<keras.src.callbacks.history.History at 0x198dab06540>"
      ]
     },
     "execution_count": 60,
     "metadata": {},
     "output_type": "execute_result"
    }
   ],
   "source": [
    "model.fit(x_train, y_train, batch_size=batch_size, epochs=epochs, verbose=2)"
   ]
  },
  {
   "cell_type": "code",
   "execution_count": 61,
   "id": "9ea4b843-08ea-46a0-b612-bb4e1be50fd4",
   "metadata": {},
   "outputs": [],
   "source": [
    "def confusion_matrix(y_true, y_pred):\n",
    "    y_true = pd.Series([stations[y] for y in np.argmax(y_true, axis=1)])\n",
    "    y_pred = pd.Series([stations[y] for y in np.argmax(y_pred, axis=1)])\n",
    "\n",
    "    return pd.crosstab(y_true, y_pred, rownames=['True'], colnames=['Pred'])"
   ]
  },
  {
   "cell_type": "code",
   "execution_count": 62,
   "id": "310f0180-7e37-41d3-82fa-4fd329f97241",
   "metadata": {},
   "outputs": [
    {
     "name": "stdout",
     "output_type": "stream",
     "text": [
      "\u001b[1m180/180\u001b[0m \u001b[32m━━━━━━━━━━━━━━━━━━━━\u001b[0m\u001b[37m\u001b[0m \u001b[1m0s\u001b[0m 969us/step\n",
      "Pred        BASEL  BELGRADE  BUDAPEST  DEBILT  DUSSELDORF  HEATHROW  KASSEL  \\\n",
      "True                                                                          \n",
      "BASEL         165       435       652     110         620       347      40   \n",
      "BELGRADE        0       205       418       5         131        71       3   \n",
      "BUDAPEST        1        18        44      10          29        31       1   \n",
      "DEBILT          0         1         6       3          24        27       3   \n",
      "DUSSELDORF      0         0         6       2           6        10       0   \n",
      "HEATHROW        0         2         2       4          11        31       0   \n",
      "KASSEL          0         0         4       0           5         1       0   \n",
      "LJUBLJANA       3         4        10       0           4         4       1   \n",
      "MAASTRICHT      0         0         2       1           3         0       0   \n",
      "MADRID          9        30        23       7          14        51       3   \n",
      "MUNCHENB        3         2         0       0           0         0       0   \n",
      "OSLO            0         0         1       1           0         0       0   \n",
      "STOCKHOLM       0         0         3       0           0         0       0   \n",
      "VALENTIA        0         0         0       0           0         0       1   \n",
      "\n",
      "Pred        LJUBLJANA  MAASTRICHT  MADRID  MUNCHENB  OSLO  SONNBLICK  \\\n",
      "True                                                                   \n",
      "BASEL             239         237     340        40   103         64   \n",
      "BELGRADE           14           3     117        23     2          1   \n",
      "BUDAPEST            1           1      23         5     0          0   \n",
      "DEBILT              0           0       6         0     0          0   \n",
      "DUSSELDORF          0           0       1         0     0          0   \n",
      "HEATHROW            1           0      13         0     2          0   \n",
      "KASSEL              0           0       0         0     0          0   \n",
      "LJUBLJANA           9           0      12         6     0          0   \n",
      "MAASTRICHT          0           0       0         0     0          0   \n",
      "MADRID              8           4     195         6    16         11   \n",
      "MUNCHENB            0           0       1         0     0          0   \n",
      "OSLO                0           0       0         0     0          0   \n",
      "STOCKHOLM           0           0       0         0     0          0   \n",
      "VALENTIA            0           0       0         0     0          0   \n",
      "\n",
      "Pred        STOCKHOLM  VALENTIA  \n",
      "True                             \n",
      "BASEL             168       122  \n",
      "BELGRADE           99         0  \n",
      "BUDAPEST           50         0  \n",
      "DEBILT             12         0  \n",
      "DUSSELDORF          4         0  \n",
      "HEATHROW           16         0  \n",
      "KASSEL              1         0  \n",
      "LJUBLJANA           8         0  \n",
      "MAASTRICHT          3         0  \n",
      "MADRID             79         2  \n",
      "MUNCHENB            2         0  \n",
      "OSLO                3         0  \n",
      "STOCKHOLM           1         0  \n",
      "VALENTIA            0         0  \n"
     ]
    }
   ],
   "source": [
    "# Evaluate\n",
    "print(confusion_matrix(y_test, model.predict(x_test)))"
   ]
  },
  {
   "cell_type": "markdown",
   "id": "c76425e5-7ad1-4286-825b-f4e49ba3163e",
   "metadata": {},
   "source": [
    "Softmax is not producing good results. Trials with tanh, relu and sigmoid."
   ]
  },
  {
   "cell_type": "code",
   "execution_count": 63,
   "id": "b971ecd2-bc64-40ca-bc14-eabb4345e520",
   "metadata": {},
   "outputs": [],
   "source": [
    "epochs = 30\n",
    "batch_size = 16\n",
    "n_hidden = 128\n",
    "\n",
    "timesteps = len(x_train[0])\n",
    "input_dim = len(x_train[0][0])\n",
    "n_classes = len(y_train[0])\n",
    "\n",
    "model = Sequential()\n",
    "model.add(Conv1D(n_hidden, kernel_size=2, activation='relu', input_shape=(timesteps, input_dim)))\n",
    "model.add(Dense(16, activation='relu'))\n",
    "model.add(MaxPooling1D())\n",
    "model.add(Flatten())\n",
    "model.add(Dense(n_classes, activation='tanh')) # Options: sigmoid, tanh, softmax, relu"
   ]
  },
  {
   "cell_type": "code",
   "execution_count": 64,
   "id": "8e99cfa0-97f4-4a32-91f6-e5bec6427831",
   "metadata": {},
   "outputs": [
    {
     "data": {
      "text/html": [
       "<pre style=\"white-space:pre;overflow-x:auto;line-height:normal;font-family:Menlo,'DejaVu Sans Mono',consolas,'Courier New',monospace\"><span style=\"font-weight: bold\">Model: \"sequential_3\"</span>\n",
       "</pre>\n"
      ],
      "text/plain": [
       "\u001b[1mModel: \"sequential_3\"\u001b[0m\n"
      ]
     },
     "metadata": {},
     "output_type": "display_data"
    },
    {
     "data": {
      "text/html": [
       "<pre style=\"white-space:pre;overflow-x:auto;line-height:normal;font-family:Menlo,'DejaVu Sans Mono',consolas,'Courier New',monospace\">┏━━━━━━━━━━━━━━━━━━━━━━━━━━━━━━━━━┳━━━━━━━━━━━━━━━━━━━━━━━━┳━━━━━━━━━━━━━━━┓\n",
       "┃<span style=\"font-weight: bold\"> Layer (type)                    </span>┃<span style=\"font-weight: bold\"> Output Shape           </span>┃<span style=\"font-weight: bold\">       Param # </span>┃\n",
       "┡━━━━━━━━━━━━━━━━━━━━━━━━━━━━━━━━━╇━━━━━━━━━━━━━━━━━━━━━━━━╇━━━━━━━━━━━━━━━┩\n",
       "│ conv1d_3 (<span style=\"color: #0087ff; text-decoration-color: #0087ff\">Conv1D</span>)               │ (<span style=\"color: #00d7ff; text-decoration-color: #00d7ff\">None</span>, <span style=\"color: #00af00; text-decoration-color: #00af00\">14</span>, <span style=\"color: #00af00; text-decoration-color: #00af00\">128</span>)        │         <span style=\"color: #00af00; text-decoration-color: #00af00\">2,432</span> │\n",
       "├─────────────────────────────────┼────────────────────────┼───────────────┤\n",
       "│ dense_6 (<span style=\"color: #0087ff; text-decoration-color: #0087ff\">Dense</span>)                 │ (<span style=\"color: #00d7ff; text-decoration-color: #00d7ff\">None</span>, <span style=\"color: #00af00; text-decoration-color: #00af00\">14</span>, <span style=\"color: #00af00; text-decoration-color: #00af00\">16</span>)         │         <span style=\"color: #00af00; text-decoration-color: #00af00\">2,064</span> │\n",
       "├─────────────────────────────────┼────────────────────────┼───────────────┤\n",
       "│ max_pooling1d_3 (<span style=\"color: #0087ff; text-decoration-color: #0087ff\">MaxPooling1D</span>)  │ (<span style=\"color: #00d7ff; text-decoration-color: #00d7ff\">None</span>, <span style=\"color: #00af00; text-decoration-color: #00af00\">7</span>, <span style=\"color: #00af00; text-decoration-color: #00af00\">16</span>)          │             <span style=\"color: #00af00; text-decoration-color: #00af00\">0</span> │\n",
       "├─────────────────────────────────┼────────────────────────┼───────────────┤\n",
       "│ flatten_3 (<span style=\"color: #0087ff; text-decoration-color: #0087ff\">Flatten</span>)             │ (<span style=\"color: #00d7ff; text-decoration-color: #00d7ff\">None</span>, <span style=\"color: #00af00; text-decoration-color: #00af00\">112</span>)            │             <span style=\"color: #00af00; text-decoration-color: #00af00\">0</span> │\n",
       "├─────────────────────────────────┼────────────────────────┼───────────────┤\n",
       "│ dense_7 (<span style=\"color: #0087ff; text-decoration-color: #0087ff\">Dense</span>)                 │ (<span style=\"color: #00d7ff; text-decoration-color: #00d7ff\">None</span>, <span style=\"color: #00af00; text-decoration-color: #00af00\">15</span>)             │         <span style=\"color: #00af00; text-decoration-color: #00af00\">1,695</span> │\n",
       "└─────────────────────────────────┴────────────────────────┴───────────────┘\n",
       "</pre>\n"
      ],
      "text/plain": [
       "┏━━━━━━━━━━━━━━━━━━━━━━━━━━━━━━━━━┳━━━━━━━━━━━━━━━━━━━━━━━━┳━━━━━━━━━━━━━━━┓\n",
       "┃\u001b[1m \u001b[0m\u001b[1mLayer (type)                   \u001b[0m\u001b[1m \u001b[0m┃\u001b[1m \u001b[0m\u001b[1mOutput Shape          \u001b[0m\u001b[1m \u001b[0m┃\u001b[1m \u001b[0m\u001b[1m      Param #\u001b[0m\u001b[1m \u001b[0m┃\n",
       "┡━━━━━━━━━━━━━━━━━━━━━━━━━━━━━━━━━╇━━━━━━━━━━━━━━━━━━━━━━━━╇━━━━━━━━━━━━━━━┩\n",
       "│ conv1d_3 (\u001b[38;5;33mConv1D\u001b[0m)               │ (\u001b[38;5;45mNone\u001b[0m, \u001b[38;5;34m14\u001b[0m, \u001b[38;5;34m128\u001b[0m)        │         \u001b[38;5;34m2,432\u001b[0m │\n",
       "├─────────────────────────────────┼────────────────────────┼───────────────┤\n",
       "│ dense_6 (\u001b[38;5;33mDense\u001b[0m)                 │ (\u001b[38;5;45mNone\u001b[0m, \u001b[38;5;34m14\u001b[0m, \u001b[38;5;34m16\u001b[0m)         │         \u001b[38;5;34m2,064\u001b[0m │\n",
       "├─────────────────────────────────┼────────────────────────┼───────────────┤\n",
       "│ max_pooling1d_3 (\u001b[38;5;33mMaxPooling1D\u001b[0m)  │ (\u001b[38;5;45mNone\u001b[0m, \u001b[38;5;34m7\u001b[0m, \u001b[38;5;34m16\u001b[0m)          │             \u001b[38;5;34m0\u001b[0m │\n",
       "├─────────────────────────────────┼────────────────────────┼───────────────┤\n",
       "│ flatten_3 (\u001b[38;5;33mFlatten\u001b[0m)             │ (\u001b[38;5;45mNone\u001b[0m, \u001b[38;5;34m112\u001b[0m)            │             \u001b[38;5;34m0\u001b[0m │\n",
       "├─────────────────────────────────┼────────────────────────┼───────────────┤\n",
       "│ dense_7 (\u001b[38;5;33mDense\u001b[0m)                 │ (\u001b[38;5;45mNone\u001b[0m, \u001b[38;5;34m15\u001b[0m)             │         \u001b[38;5;34m1,695\u001b[0m │\n",
       "└─────────────────────────────────┴────────────────────────┴───────────────┘\n"
      ]
     },
     "metadata": {},
     "output_type": "display_data"
    },
    {
     "data": {
      "text/html": [
       "<pre style=\"white-space:pre;overflow-x:auto;line-height:normal;font-family:Menlo,'DejaVu Sans Mono',consolas,'Courier New',monospace\"><span style=\"font-weight: bold\"> Total params: </span><span style=\"color: #00af00; text-decoration-color: #00af00\">6,191</span> (24.18 KB)\n",
       "</pre>\n"
      ],
      "text/plain": [
       "\u001b[1m Total params: \u001b[0m\u001b[38;5;34m6,191\u001b[0m (24.18 KB)\n"
      ]
     },
     "metadata": {},
     "output_type": "display_data"
    },
    {
     "data": {
      "text/html": [
       "<pre style=\"white-space:pre;overflow-x:auto;line-height:normal;font-family:Menlo,'DejaVu Sans Mono',consolas,'Courier New',monospace\"><span style=\"font-weight: bold\"> Trainable params: </span><span style=\"color: #00af00; text-decoration-color: #00af00\">6,191</span> (24.18 KB)\n",
       "</pre>\n"
      ],
      "text/plain": [
       "\u001b[1m Trainable params: \u001b[0m\u001b[38;5;34m6,191\u001b[0m (24.18 KB)\n"
      ]
     },
     "metadata": {},
     "output_type": "display_data"
    },
    {
     "data": {
      "text/html": [
       "<pre style=\"white-space:pre;overflow-x:auto;line-height:normal;font-family:Menlo,'DejaVu Sans Mono',consolas,'Courier New',monospace\"><span style=\"font-weight: bold\"> Non-trainable params: </span><span style=\"color: #00af00; text-decoration-color: #00af00\">0</span> (0.00 B)\n",
       "</pre>\n"
      ],
      "text/plain": [
       "\u001b[1m Non-trainable params: \u001b[0m\u001b[38;5;34m0\u001b[0m (0.00 B)\n"
      ]
     },
     "metadata": {},
     "output_type": "display_data"
    }
   ],
   "source": [
    "model.summary()"
   ]
  },
  {
   "cell_type": "code",
   "execution_count": 65,
   "id": "df632f7e-ba5f-44f0-9746-1e0a33c059b5",
   "metadata": {},
   "outputs": [],
   "source": [
    "model.compile(loss='categorical_crossentropy', optimizer='adam', metrics=['accuracy'])"
   ]
  },
  {
   "cell_type": "code",
   "execution_count": 67,
   "id": "e9b6c54c-42a5-4c5f-8b56-0f7c75e68998",
   "metadata": {},
   "outputs": [
    {
     "name": "stdout",
     "output_type": "stream",
     "text": [
      "Epoch 1/30\n",
      "1076/1076 - 3s - 2ms/step - accuracy: 0.1016 - loss: 25.0849\n",
      "Epoch 2/30\n",
      "1076/1076 - 2s - 2ms/step - accuracy: 0.0448 - loss: 26.2683\n",
      "Epoch 3/30\n",
      "1076/1076 - 2s - 2ms/step - accuracy: 0.0378 - loss: 26.0808\n",
      "Epoch 4/30\n",
      "1076/1076 - 2s - 2ms/step - accuracy: 0.0296 - loss: 25.9741\n",
      "Epoch 5/30\n",
      "1076/1076 - 2s - 2ms/step - accuracy: 0.0231 - loss: 24.9803\n",
      "Epoch 6/30\n",
      "1076/1076 - 2s - 2ms/step - accuracy: 0.0330 - loss: 25.6493\n",
      "Epoch 7/30\n",
      "1076/1076 - 2s - 2ms/step - accuracy: 0.0325 - loss: 26.1002\n",
      "Epoch 8/30\n",
      "1076/1076 - 2s - 2ms/step - accuracy: 0.0347 - loss: 26.0821\n",
      "Epoch 9/30\n",
      "1076/1076 - 2s - 2ms/step - accuracy: 0.0287 - loss: 24.9244\n",
      "Epoch 10/30\n",
      "1076/1076 - 2s - 2ms/step - accuracy: 0.0240 - loss: 26.3088\n",
      "Epoch 11/30\n",
      "1076/1076 - 2s - 2ms/step - accuracy: 0.0332 - loss: 26.3695\n",
      "Epoch 12/30\n",
      "1076/1076 - 2s - 2ms/step - accuracy: 0.0339 - loss: 26.4490\n",
      "Epoch 13/30\n",
      "1076/1076 - 2s - 2ms/step - accuracy: 0.0332 - loss: 26.4480\n",
      "Epoch 14/30\n",
      "1076/1076 - 2s - 2ms/step - accuracy: 0.0315 - loss: 26.4480\n",
      "Epoch 15/30\n",
      "1076/1076 - 2s - 2ms/step - accuracy: 0.0313 - loss: 26.4480\n",
      "Epoch 16/30\n",
      "1076/1076 - 2s - 2ms/step - accuracy: 0.0284 - loss: 26.4508\n",
      "Epoch 17/30\n",
      "1076/1076 - 2s - 2ms/step - accuracy: 0.0278 - loss: 26.4518\n",
      "Epoch 18/30\n",
      "1076/1076 - 2s - 2ms/step - accuracy: 0.0266 - loss: 26.4770\n",
      "Epoch 19/30\n",
      "1076/1076 - 2s - 2ms/step - accuracy: 0.0289 - loss: 26.5463\n",
      "Epoch 20/30\n",
      "1076/1076 - 2s - 2ms/step - accuracy: 0.0306 - loss: 26.4827\n",
      "Epoch 21/30\n",
      "1076/1076 - 2s - 2ms/step - accuracy: 0.0486 - loss: 26.5155\n",
      "Epoch 22/30\n",
      "1076/1076 - 2s - 1ms/step - accuracy: 0.0435 - loss: 26.4556\n",
      "Epoch 23/30\n",
      "1076/1076 - 2s - 1ms/step - accuracy: 0.0434 - loss: 26.4789\n",
      "Epoch 24/30\n",
      "1076/1076 - 2s - 2ms/step - accuracy: 0.0434 - loss: 26.4789\n",
      "Epoch 25/30\n",
      "1076/1076 - 3s - 2ms/step - accuracy: 0.0435 - loss: 26.4836\n",
      "Epoch 26/30\n",
      "1076/1076 - 2s - 2ms/step - accuracy: 0.0439 - loss: 26.4845\n",
      "Epoch 27/30\n",
      "1076/1076 - 2s - 2ms/step - accuracy: 0.0435 - loss: 24.2024\n",
      "Epoch 28/30\n",
      "1076/1076 - 2s - 2ms/step - accuracy: 0.0417 - loss: 22.3932\n",
      "Epoch 29/30\n",
      "1076/1076 - 2s - 2ms/step - accuracy: 0.0417 - loss: 22.3932\n",
      "Epoch 30/30\n",
      "1076/1076 - 2s - 2ms/step - accuracy: 0.0417 - loss: 22.3932\n"
     ]
    },
    {
     "data": {
      "text/plain": [
       "<keras.src.callbacks.history.History at 0x198dc6f4980>"
      ]
     },
     "execution_count": 67,
     "metadata": {},
     "output_type": "execute_result"
    }
   ],
   "source": [
    "model.fit(x_train, y_train, batch_size=batch_size, epochs=epochs, verbose=2)"
   ]
  },
  {
   "cell_type": "code",
   "execution_count": 68,
   "id": "86a60ed9-df7d-4b7d-bafe-5b71c76ebcb0",
   "metadata": {},
   "outputs": [],
   "source": [
    "def confusion_matrix(y_true, y_pred):\n",
    "    y_true = pd.Series([stations[y] for y in np.argmax(y_true, axis=1)])\n",
    "    y_pred = pd.Series([stations[y] for y in np.argmax(y_pred, axis=1)])\n",
    "\n",
    "    return pd.crosstab(y_true, y_pred, rownames=['True'], colnames=['Pred'])"
   ]
  },
  {
   "cell_type": "code",
   "execution_count": 70,
   "id": "447ed563-7334-497a-9960-4fed5df765dd",
   "metadata": {},
   "outputs": [
    {
     "name": "stdout",
     "output_type": "stream",
     "text": [
      "\u001b[1m180/180\u001b[0m \u001b[32m━━━━━━━━━━━━━━━━━━━━\u001b[0m\u001b[37m\u001b[0m \u001b[1m0s\u001b[0m 989us/step\n",
      "Pred        BUDAPEST  DUSSELDORF  LJUBLJANA  MAASTRICHT  MADRID  MUNCHENB  \\\n",
      "True                                                                        \n",
      "BASEL           3362           6        122           0     189         1   \n",
      "BELGRADE         939           5         54           0      89         0   \n",
      "BUDAPEST         177           0         15           1      21         0   \n",
      "DEBILT            79           0          1           0       2         0   \n",
      "DUSSELDORF        24           0          4           0       1         0   \n",
      "HEATHROW          73           0          2           0       7         0   \n",
      "KASSEL            10           0          0           0       1         0   \n",
      "LJUBLJANA         46           0          1           0      12         0   \n",
      "MAASTRICHT         7           0          0           0       2         0   \n",
      "MADRID           339           7         27           1      82         0   \n",
      "MUNCHENB           5           0          1           0       2         0   \n",
      "OSLO               5           0          0           0       0         0   \n",
      "STOCKHOLM          3           0          1           0       0         0   \n",
      "VALENTIA           1           0          0           0       0         0   \n",
      "\n",
      "Pred        STOCKHOLM  \n",
      "True                   \n",
      "BASEL               2  \n",
      "BELGRADE            5  \n",
      "BUDAPEST            0  \n",
      "DEBILT              0  \n",
      "DUSSELDORF          0  \n",
      "HEATHROW            0  \n",
      "KASSEL              0  \n",
      "LJUBLJANA           2  \n",
      "MAASTRICHT          0  \n",
      "MADRID              2  \n",
      "MUNCHENB            0  \n",
      "OSLO                0  \n",
      "STOCKHOLM           0  \n",
      "VALENTIA            0  \n"
     ]
    }
   ],
   "source": [
    "# Evaluate\n",
    "\n",
    "print(confusion_matrix(y_test, model.predict(x_test)))"
   ]
  },
  {
   "cell_type": "markdown",
   "id": "fe131ea2-7613-4604-8537-2da78e0247ae",
   "metadata": {},
   "source": [
    "Better loss but low accuracy. Try adjust layers."
   ]
  },
  {
   "cell_type": "code",
   "execution_count": 72,
   "id": "377ba33c-251b-4fab-afd5-d09258d012d6",
   "metadata": {},
   "outputs": [],
   "source": [
    "epochs = 30\n",
    "batch_size = 16\n",
    "n_hidden = 64\n",
    "\n",
    "timesteps = len(x_train[0])\n",
    "input_dim = len(x_train[0][0])\n",
    "n_classes = len(y_train[0])\n",
    "\n",
    "model = Sequential()\n",
    "model.add(Conv1D(n_hidden, kernel_size=2, activation='relu', input_shape=(timesteps, input_dim)))\n",
    "model.add(Dense(16, activation='relu'))\n",
    "model.add(MaxPooling1D())\n",
    "model.add(Flatten())\n",
    "model.add(Dense(n_classes, activation='tanh')) # Options: sigmoid, tanh, softmax, relu"
   ]
  },
  {
   "cell_type": "code",
   "execution_count": 73,
   "id": "6e86f142-e3cb-4188-8c21-908f1c4d5eb3",
   "metadata": {},
   "outputs": [
    {
     "data": {
      "text/html": [
       "<pre style=\"white-space:pre;overflow-x:auto;line-height:normal;font-family:Menlo,'DejaVu Sans Mono',consolas,'Courier New',monospace\"><span style=\"font-weight: bold\">Model: \"sequential_4\"</span>\n",
       "</pre>\n"
      ],
      "text/plain": [
       "\u001b[1mModel: \"sequential_4\"\u001b[0m\n"
      ]
     },
     "metadata": {},
     "output_type": "display_data"
    },
    {
     "data": {
      "text/html": [
       "<pre style=\"white-space:pre;overflow-x:auto;line-height:normal;font-family:Menlo,'DejaVu Sans Mono',consolas,'Courier New',monospace\">┏━━━━━━━━━━━━━━━━━━━━━━━━━━━━━━━━━┳━━━━━━━━━━━━━━━━━━━━━━━━┳━━━━━━━━━━━━━━━┓\n",
       "┃<span style=\"font-weight: bold\"> Layer (type)                    </span>┃<span style=\"font-weight: bold\"> Output Shape           </span>┃<span style=\"font-weight: bold\">       Param # </span>┃\n",
       "┡━━━━━━━━━━━━━━━━━━━━━━━━━━━━━━━━━╇━━━━━━━━━━━━━━━━━━━━━━━━╇━━━━━━━━━━━━━━━┩\n",
       "│ conv1d_4 (<span style=\"color: #0087ff; text-decoration-color: #0087ff\">Conv1D</span>)               │ (<span style=\"color: #00d7ff; text-decoration-color: #00d7ff\">None</span>, <span style=\"color: #00af00; text-decoration-color: #00af00\">14</span>, <span style=\"color: #00af00; text-decoration-color: #00af00\">64</span>)         │         <span style=\"color: #00af00; text-decoration-color: #00af00\">1,216</span> │\n",
       "├─────────────────────────────────┼────────────────────────┼───────────────┤\n",
       "│ dense_8 (<span style=\"color: #0087ff; text-decoration-color: #0087ff\">Dense</span>)                 │ (<span style=\"color: #00d7ff; text-decoration-color: #00d7ff\">None</span>, <span style=\"color: #00af00; text-decoration-color: #00af00\">14</span>, <span style=\"color: #00af00; text-decoration-color: #00af00\">16</span>)         │         <span style=\"color: #00af00; text-decoration-color: #00af00\">1,040</span> │\n",
       "├─────────────────────────────────┼────────────────────────┼───────────────┤\n",
       "│ max_pooling1d_4 (<span style=\"color: #0087ff; text-decoration-color: #0087ff\">MaxPooling1D</span>)  │ (<span style=\"color: #00d7ff; text-decoration-color: #00d7ff\">None</span>, <span style=\"color: #00af00; text-decoration-color: #00af00\">7</span>, <span style=\"color: #00af00; text-decoration-color: #00af00\">16</span>)          │             <span style=\"color: #00af00; text-decoration-color: #00af00\">0</span> │\n",
       "├─────────────────────────────────┼────────────────────────┼───────────────┤\n",
       "│ flatten_4 (<span style=\"color: #0087ff; text-decoration-color: #0087ff\">Flatten</span>)             │ (<span style=\"color: #00d7ff; text-decoration-color: #00d7ff\">None</span>, <span style=\"color: #00af00; text-decoration-color: #00af00\">112</span>)            │             <span style=\"color: #00af00; text-decoration-color: #00af00\">0</span> │\n",
       "├─────────────────────────────────┼────────────────────────┼───────────────┤\n",
       "│ dense_9 (<span style=\"color: #0087ff; text-decoration-color: #0087ff\">Dense</span>)                 │ (<span style=\"color: #00d7ff; text-decoration-color: #00d7ff\">None</span>, <span style=\"color: #00af00; text-decoration-color: #00af00\">15</span>)             │         <span style=\"color: #00af00; text-decoration-color: #00af00\">1,695</span> │\n",
       "└─────────────────────────────────┴────────────────────────┴───────────────┘\n",
       "</pre>\n"
      ],
      "text/plain": [
       "┏━━━━━━━━━━━━━━━━━━━━━━━━━━━━━━━━━┳━━━━━━━━━━━━━━━━━━━━━━━━┳━━━━━━━━━━━━━━━┓\n",
       "┃\u001b[1m \u001b[0m\u001b[1mLayer (type)                   \u001b[0m\u001b[1m \u001b[0m┃\u001b[1m \u001b[0m\u001b[1mOutput Shape          \u001b[0m\u001b[1m \u001b[0m┃\u001b[1m \u001b[0m\u001b[1m      Param #\u001b[0m\u001b[1m \u001b[0m┃\n",
       "┡━━━━━━━━━━━━━━━━━━━━━━━━━━━━━━━━━╇━━━━━━━━━━━━━━━━━━━━━━━━╇━━━━━━━━━━━━━━━┩\n",
       "│ conv1d_4 (\u001b[38;5;33mConv1D\u001b[0m)               │ (\u001b[38;5;45mNone\u001b[0m, \u001b[38;5;34m14\u001b[0m, \u001b[38;5;34m64\u001b[0m)         │         \u001b[38;5;34m1,216\u001b[0m │\n",
       "├─────────────────────────────────┼────────────────────────┼───────────────┤\n",
       "│ dense_8 (\u001b[38;5;33mDense\u001b[0m)                 │ (\u001b[38;5;45mNone\u001b[0m, \u001b[38;5;34m14\u001b[0m, \u001b[38;5;34m16\u001b[0m)         │         \u001b[38;5;34m1,040\u001b[0m │\n",
       "├─────────────────────────────────┼────────────────────────┼───────────────┤\n",
       "│ max_pooling1d_4 (\u001b[38;5;33mMaxPooling1D\u001b[0m)  │ (\u001b[38;5;45mNone\u001b[0m, \u001b[38;5;34m7\u001b[0m, \u001b[38;5;34m16\u001b[0m)          │             \u001b[38;5;34m0\u001b[0m │\n",
       "├─────────────────────────────────┼────────────────────────┼───────────────┤\n",
       "│ flatten_4 (\u001b[38;5;33mFlatten\u001b[0m)             │ (\u001b[38;5;45mNone\u001b[0m, \u001b[38;5;34m112\u001b[0m)            │             \u001b[38;5;34m0\u001b[0m │\n",
       "├─────────────────────────────────┼────────────────────────┼───────────────┤\n",
       "│ dense_9 (\u001b[38;5;33mDense\u001b[0m)                 │ (\u001b[38;5;45mNone\u001b[0m, \u001b[38;5;34m15\u001b[0m)             │         \u001b[38;5;34m1,695\u001b[0m │\n",
       "└─────────────────────────────────┴────────────────────────┴───────────────┘\n"
      ]
     },
     "metadata": {},
     "output_type": "display_data"
    },
    {
     "data": {
      "text/html": [
       "<pre style=\"white-space:pre;overflow-x:auto;line-height:normal;font-family:Menlo,'DejaVu Sans Mono',consolas,'Courier New',monospace\"><span style=\"font-weight: bold\"> Total params: </span><span style=\"color: #00af00; text-decoration-color: #00af00\">3,951</span> (15.43 KB)\n",
       "</pre>\n"
      ],
      "text/plain": [
       "\u001b[1m Total params: \u001b[0m\u001b[38;5;34m3,951\u001b[0m (15.43 KB)\n"
      ]
     },
     "metadata": {},
     "output_type": "display_data"
    },
    {
     "data": {
      "text/html": [
       "<pre style=\"white-space:pre;overflow-x:auto;line-height:normal;font-family:Menlo,'DejaVu Sans Mono',consolas,'Courier New',monospace\"><span style=\"font-weight: bold\"> Trainable params: </span><span style=\"color: #00af00; text-decoration-color: #00af00\">3,951</span> (15.43 KB)\n",
       "</pre>\n"
      ],
      "text/plain": [
       "\u001b[1m Trainable params: \u001b[0m\u001b[38;5;34m3,951\u001b[0m (15.43 KB)\n"
      ]
     },
     "metadata": {},
     "output_type": "display_data"
    },
    {
     "data": {
      "text/html": [
       "<pre style=\"white-space:pre;overflow-x:auto;line-height:normal;font-family:Menlo,'DejaVu Sans Mono',consolas,'Courier New',monospace\"><span style=\"font-weight: bold\"> Non-trainable params: </span><span style=\"color: #00af00; text-decoration-color: #00af00\">0</span> (0.00 B)\n",
       "</pre>\n"
      ],
      "text/plain": [
       "\u001b[1m Non-trainable params: \u001b[0m\u001b[38;5;34m0\u001b[0m (0.00 B)\n"
      ]
     },
     "metadata": {},
     "output_type": "display_data"
    }
   ],
   "source": [
    "model.summary()"
   ]
  },
  {
   "cell_type": "code",
   "execution_count": 74,
   "id": "d9c5e7e5-d307-4898-883a-bfdbd6e536a8",
   "metadata": {},
   "outputs": [],
   "source": [
    "model.compile(loss='categorical_crossentropy', optimizer='adam', metrics=['accuracy'])"
   ]
  },
  {
   "cell_type": "code",
   "execution_count": 76,
   "id": "80d473f7-210c-4fe9-9388-8305e2c0d954",
   "metadata": {},
   "outputs": [
    {
     "name": "stdout",
     "output_type": "stream",
     "text": [
      "Epoch 1/30\n",
      "1076/1076 - 3s - 3ms/step - accuracy: 0.0712 - loss: 25.7615\n",
      "Epoch 2/30\n",
      "1076/1076 - 2s - 2ms/step - accuracy: 0.0641 - loss: 25.8067\n",
      "Epoch 3/30\n",
      "1076/1076 - 2s - 2ms/step - accuracy: 0.0546 - loss: 25.5359\n",
      "Epoch 4/30\n",
      "1076/1076 - 2s - 2ms/step - accuracy: 0.0814 - loss: 25.7126\n",
      "Epoch 5/30\n",
      "1076/1076 - 2s - 2ms/step - accuracy: 0.1474 - loss: 26.5583\n",
      "Epoch 6/30\n",
      "1076/1076 - 2s - 2ms/step - accuracy: 0.1363 - loss: 25.0863\n",
      "Epoch 7/30\n",
      "1076/1076 - 2s - 2ms/step - accuracy: 0.1349 - loss: 22.6069\n",
      "Epoch 8/30\n",
      "1076/1076 - 2s - 2ms/step - accuracy: 0.1228 - loss: 23.5117\n",
      "Epoch 9/30\n",
      "1076/1076 - 2s - 2ms/step - accuracy: 0.1027 - loss: 23.9153\n",
      "Epoch 10/30\n",
      "1076/1076 - 2s - 2ms/step - accuracy: 0.0734 - loss: 26.1976\n",
      "Epoch 11/30\n",
      "1076/1076 - 2s - 2ms/step - accuracy: 0.0476 - loss: 25.4148\n",
      "Epoch 12/30\n",
      "1076/1076 - 2s - 2ms/step - accuracy: 0.1035 - loss: 23.6871\n",
      "Epoch 13/30\n",
      "1076/1076 - 2s - 1ms/step - accuracy: 0.0670 - loss: 23.2646\n",
      "Epoch 14/30\n",
      "1076/1076 - 1s - 1ms/step - accuracy: 0.0530 - loss: 22.9208\n",
      "Epoch 15/30\n",
      "1076/1076 - 2s - 1ms/step - accuracy: 0.0561 - loss: 23.2594\n",
      "Epoch 16/30\n",
      "1076/1076 - 2s - 2ms/step - accuracy: 0.0272 - loss: 23.4208\n",
      "Epoch 17/30\n",
      "1076/1076 - 2s - 2ms/step - accuracy: 0.0580 - loss: 23.4115\n",
      "Epoch 18/30\n",
      "1076/1076 - 1s - 1ms/step - accuracy: 0.0834 - loss: 23.3692\n",
      "Epoch 19/30\n",
      "1076/1076 - 2s - 2ms/step - accuracy: 0.0665 - loss: 23.5021\n",
      "Epoch 20/30\n",
      "1076/1076 - 2s - 2ms/step - accuracy: 0.0455 - loss: 23.3693\n",
      "Epoch 21/30\n",
      "1076/1076 - 2s - 2ms/step - accuracy: 0.1289 - loss: 23.8570\n",
      "Epoch 22/30\n",
      "1076/1076 - 2s - 2ms/step - accuracy: 0.1465 - loss: 23.9711\n",
      "Epoch 23/30\n",
      "1076/1076 - 2s - 1ms/step - accuracy: 0.1443 - loss: 24.0657\n",
      "Epoch 24/30\n",
      "1076/1076 - 2s - 2ms/step - accuracy: 0.1301 - loss: 23.8494\n",
      "Epoch 25/30\n",
      "1076/1076 - 2s - 1ms/step - accuracy: 0.1311 - loss: 23.7557\n",
      "Epoch 26/30\n",
      "1076/1076 - 2s - 1ms/step - accuracy: 0.1339 - loss: 23.2726\n",
      "Epoch 27/30\n",
      "1076/1076 - 2s - 1ms/step - accuracy: 0.1398 - loss: 23.2530\n",
      "Epoch 28/30\n",
      "1076/1076 - 2s - 1ms/step - accuracy: 0.1710 - loss: 23.0975\n",
      "Epoch 29/30\n",
      "1076/1076 - 2s - 2ms/step - accuracy: 0.1669 - loss: 23.1292\n",
      "Epoch 30/30\n",
      "1076/1076 - 2s - 2ms/step - accuracy: 0.1602 - loss: 23.1882\n"
     ]
    },
    {
     "data": {
      "text/plain": [
       "<keras.src.callbacks.history.History at 0x198dcc4e930>"
      ]
     },
     "execution_count": 76,
     "metadata": {},
     "output_type": "execute_result"
    }
   ],
   "source": [
    "model.fit(x_train, y_train, batch_size=batch_size, epochs=epochs, verbose=2)"
   ]
  },
  {
   "cell_type": "code",
   "execution_count": 77,
   "id": "d271575d-d9b6-4210-9d11-ccb0d1e0d1fb",
   "metadata": {},
   "outputs": [],
   "source": [
    "def confusion_matrix(y_true, y_pred):\n",
    "    y_true = pd.Series([stations[y] for y in np.argmax(y_true, axis=1)])\n",
    "    y_pred = pd.Series([stations[y] for y in np.argmax(y_pred, axis=1)])\n",
    "\n",
    "    return pd.crosstab(y_true, y_pred, rownames=['True'], colnames=['Pred'])"
   ]
  },
  {
   "cell_type": "code",
   "execution_count": 79,
   "id": "89f703d3-5fa8-4353-8559-99c02ac8d782",
   "metadata": {},
   "outputs": [
    {
     "name": "stdout",
     "output_type": "stream",
     "text": [
      "\u001b[1m180/180\u001b[0m \u001b[32m━━━━━━━━━━━━━━━━━━━━\u001b[0m\u001b[37m\u001b[0m \u001b[1m0s\u001b[0m 980us/step\n",
      "Pred        BELGRADE  BUDAPEST  HEATHROW  LJUBLJANA  MAASTRICHT  OSLO  \\\n",
      "True                                                                    \n",
      "BASEL           3258         1        56         50           6   211   \n",
      "BELGRADE         920         0        19         18           0   109   \n",
      "BUDAPEST         166         0         3          5           0    34   \n",
      "DEBILT            69         0         1          4           0     8   \n",
      "DUSSELDORF        23         0         0          1           0     4   \n",
      "HEATHROW          69         0         0          2           0     9   \n",
      "KASSEL            10         0         0          0           0     1   \n",
      "LJUBLJANA         47         0         1          0           0     7   \n",
      "MAASTRICHT         8         0         0          0           0     1   \n",
      "MADRID           402         0         4          7           2    20   \n",
      "MUNCHENB           8         0         0          0           0     0   \n",
      "OSLO               5         0         0          0           0     0   \n",
      "STOCKHOLM          3         0         0          0           0     1   \n",
      "VALENTIA           1         0         0          0           0     0   \n",
      "\n",
      "Pred        STOCKHOLM  VALENTIA  \n",
      "True                             \n",
      "BASEL              79        21  \n",
      "BELGRADE           15        11  \n",
      "BUDAPEST            4         2  \n",
      "DEBILT              0         0  \n",
      "DUSSELDORF          1         0  \n",
      "HEATHROW            2         0  \n",
      "KASSEL              0         0  \n",
      "LJUBLJANA           5         1  \n",
      "MAASTRICHT          0         0  \n",
      "MADRID             21         2  \n",
      "MUNCHENB            0         0  \n",
      "OSLO                0         0  \n",
      "STOCKHOLM           0         0  \n",
      "VALENTIA            0         0  \n"
     ]
    }
   ],
   "source": [
    "# Evaluate\n",
    "\n",
    "print(confusion_matrix(y_test, model.predict(x_test)))"
   ]
  },
  {
   "cell_type": "markdown",
   "id": "9e03debd-ab60-4a75-9510-883210f05935",
   "metadata": {},
   "source": [
    "Higher accuracy but not stable loss. "
   ]
  },
  {
   "cell_type": "code",
   "execution_count": 80,
   "id": "9dc21838-29ce-4876-9489-f39d82e060de",
   "metadata": {},
   "outputs": [],
   "source": [
    "epochs = 30\n",
    "batch_size = 16\n",
    "n_hidden = 64\n",
    "\n",
    "timesteps = len(x_train[0])\n",
    "input_dim = len(x_train[0][0])\n",
    "n_classes = len(y_train[0])\n",
    "\n",
    "model = Sequential()\n",
    "model.add(Conv1D(n_hidden, kernel_size=2, activation='relu', input_shape=(timesteps, input_dim)))\n",
    "model.add(Dense(16, activation='relu'))\n",
    "model.add(MaxPooling1D())\n",
    "model.add(Flatten())\n",
    "model.add(Dense(n_classes, activation='sigmoid')) # Options: sigmoid, tanh, softmax, relu"
   ]
  },
  {
   "cell_type": "code",
   "execution_count": 81,
   "id": "f4e70abb-343b-4e11-86c3-61488a708adf",
   "metadata": {},
   "outputs": [
    {
     "data": {
      "text/html": [
       "<pre style=\"white-space:pre;overflow-x:auto;line-height:normal;font-family:Menlo,'DejaVu Sans Mono',consolas,'Courier New',monospace\"><span style=\"font-weight: bold\">Model: \"sequential_5\"</span>\n",
       "</pre>\n"
      ],
      "text/plain": [
       "\u001b[1mModel: \"sequential_5\"\u001b[0m\n"
      ]
     },
     "metadata": {},
     "output_type": "display_data"
    },
    {
     "data": {
      "text/html": [
       "<pre style=\"white-space:pre;overflow-x:auto;line-height:normal;font-family:Menlo,'DejaVu Sans Mono',consolas,'Courier New',monospace\">┏━━━━━━━━━━━━━━━━━━━━━━━━━━━━━━━━━┳━━━━━━━━━━━━━━━━━━━━━━━━┳━━━━━━━━━━━━━━━┓\n",
       "┃<span style=\"font-weight: bold\"> Layer (type)                    </span>┃<span style=\"font-weight: bold\"> Output Shape           </span>┃<span style=\"font-weight: bold\">       Param # </span>┃\n",
       "┡━━━━━━━━━━━━━━━━━━━━━━━━━━━━━━━━━╇━━━━━━━━━━━━━━━━━━━━━━━━╇━━━━━━━━━━━━━━━┩\n",
       "│ conv1d_5 (<span style=\"color: #0087ff; text-decoration-color: #0087ff\">Conv1D</span>)               │ (<span style=\"color: #00d7ff; text-decoration-color: #00d7ff\">None</span>, <span style=\"color: #00af00; text-decoration-color: #00af00\">14</span>, <span style=\"color: #00af00; text-decoration-color: #00af00\">64</span>)         │         <span style=\"color: #00af00; text-decoration-color: #00af00\">1,216</span> │\n",
       "├─────────────────────────────────┼────────────────────────┼───────────────┤\n",
       "│ dense_10 (<span style=\"color: #0087ff; text-decoration-color: #0087ff\">Dense</span>)                │ (<span style=\"color: #00d7ff; text-decoration-color: #00d7ff\">None</span>, <span style=\"color: #00af00; text-decoration-color: #00af00\">14</span>, <span style=\"color: #00af00; text-decoration-color: #00af00\">16</span>)         │         <span style=\"color: #00af00; text-decoration-color: #00af00\">1,040</span> │\n",
       "├─────────────────────────────────┼────────────────────────┼───────────────┤\n",
       "│ max_pooling1d_5 (<span style=\"color: #0087ff; text-decoration-color: #0087ff\">MaxPooling1D</span>)  │ (<span style=\"color: #00d7ff; text-decoration-color: #00d7ff\">None</span>, <span style=\"color: #00af00; text-decoration-color: #00af00\">7</span>, <span style=\"color: #00af00; text-decoration-color: #00af00\">16</span>)          │             <span style=\"color: #00af00; text-decoration-color: #00af00\">0</span> │\n",
       "├─────────────────────────────────┼────────────────────────┼───────────────┤\n",
       "│ flatten_5 (<span style=\"color: #0087ff; text-decoration-color: #0087ff\">Flatten</span>)             │ (<span style=\"color: #00d7ff; text-decoration-color: #00d7ff\">None</span>, <span style=\"color: #00af00; text-decoration-color: #00af00\">112</span>)            │             <span style=\"color: #00af00; text-decoration-color: #00af00\">0</span> │\n",
       "├─────────────────────────────────┼────────────────────────┼───────────────┤\n",
       "│ dense_11 (<span style=\"color: #0087ff; text-decoration-color: #0087ff\">Dense</span>)                │ (<span style=\"color: #00d7ff; text-decoration-color: #00d7ff\">None</span>, <span style=\"color: #00af00; text-decoration-color: #00af00\">15</span>)             │         <span style=\"color: #00af00; text-decoration-color: #00af00\">1,695</span> │\n",
       "└─────────────────────────────────┴────────────────────────┴───────────────┘\n",
       "</pre>\n"
      ],
      "text/plain": [
       "┏━━━━━━━━━━━━━━━━━━━━━━━━━━━━━━━━━┳━━━━━━━━━━━━━━━━━━━━━━━━┳━━━━━━━━━━━━━━━┓\n",
       "┃\u001b[1m \u001b[0m\u001b[1mLayer (type)                   \u001b[0m\u001b[1m \u001b[0m┃\u001b[1m \u001b[0m\u001b[1mOutput Shape          \u001b[0m\u001b[1m \u001b[0m┃\u001b[1m \u001b[0m\u001b[1m      Param #\u001b[0m\u001b[1m \u001b[0m┃\n",
       "┡━━━━━━━━━━━━━━━━━━━━━━━━━━━━━━━━━╇━━━━━━━━━━━━━━━━━━━━━━━━╇━━━━━━━━━━━━━━━┩\n",
       "│ conv1d_5 (\u001b[38;5;33mConv1D\u001b[0m)               │ (\u001b[38;5;45mNone\u001b[0m, \u001b[38;5;34m14\u001b[0m, \u001b[38;5;34m64\u001b[0m)         │         \u001b[38;5;34m1,216\u001b[0m │\n",
       "├─────────────────────────────────┼────────────────────────┼───────────────┤\n",
       "│ dense_10 (\u001b[38;5;33mDense\u001b[0m)                │ (\u001b[38;5;45mNone\u001b[0m, \u001b[38;5;34m14\u001b[0m, \u001b[38;5;34m16\u001b[0m)         │         \u001b[38;5;34m1,040\u001b[0m │\n",
       "├─────────────────────────────────┼────────────────────────┼───────────────┤\n",
       "│ max_pooling1d_5 (\u001b[38;5;33mMaxPooling1D\u001b[0m)  │ (\u001b[38;5;45mNone\u001b[0m, \u001b[38;5;34m7\u001b[0m, \u001b[38;5;34m16\u001b[0m)          │             \u001b[38;5;34m0\u001b[0m │\n",
       "├─────────────────────────────────┼────────────────────────┼───────────────┤\n",
       "│ flatten_5 (\u001b[38;5;33mFlatten\u001b[0m)             │ (\u001b[38;5;45mNone\u001b[0m, \u001b[38;5;34m112\u001b[0m)            │             \u001b[38;5;34m0\u001b[0m │\n",
       "├─────────────────────────────────┼────────────────────────┼───────────────┤\n",
       "│ dense_11 (\u001b[38;5;33mDense\u001b[0m)                │ (\u001b[38;5;45mNone\u001b[0m, \u001b[38;5;34m15\u001b[0m)             │         \u001b[38;5;34m1,695\u001b[0m │\n",
       "└─────────────────────────────────┴────────────────────────┴───────────────┘\n"
      ]
     },
     "metadata": {},
     "output_type": "display_data"
    },
    {
     "data": {
      "text/html": [
       "<pre style=\"white-space:pre;overflow-x:auto;line-height:normal;font-family:Menlo,'DejaVu Sans Mono',consolas,'Courier New',monospace\"><span style=\"font-weight: bold\"> Total params: </span><span style=\"color: #00af00; text-decoration-color: #00af00\">3,951</span> (15.43 KB)\n",
       "</pre>\n"
      ],
      "text/plain": [
       "\u001b[1m Total params: \u001b[0m\u001b[38;5;34m3,951\u001b[0m (15.43 KB)\n"
      ]
     },
     "metadata": {},
     "output_type": "display_data"
    },
    {
     "data": {
      "text/html": [
       "<pre style=\"white-space:pre;overflow-x:auto;line-height:normal;font-family:Menlo,'DejaVu Sans Mono',consolas,'Courier New',monospace\"><span style=\"font-weight: bold\"> Trainable params: </span><span style=\"color: #00af00; text-decoration-color: #00af00\">3,951</span> (15.43 KB)\n",
       "</pre>\n"
      ],
      "text/plain": [
       "\u001b[1m Trainable params: \u001b[0m\u001b[38;5;34m3,951\u001b[0m (15.43 KB)\n"
      ]
     },
     "metadata": {},
     "output_type": "display_data"
    },
    {
     "data": {
      "text/html": [
       "<pre style=\"white-space:pre;overflow-x:auto;line-height:normal;font-family:Menlo,'DejaVu Sans Mono',consolas,'Courier New',monospace\"><span style=\"font-weight: bold\"> Non-trainable params: </span><span style=\"color: #00af00; text-decoration-color: #00af00\">0</span> (0.00 B)\n",
       "</pre>\n"
      ],
      "text/plain": [
       "\u001b[1m Non-trainable params: \u001b[0m\u001b[38;5;34m0\u001b[0m (0.00 B)\n"
      ]
     },
     "metadata": {},
     "output_type": "display_data"
    }
   ],
   "source": [
    "model.summary()"
   ]
  },
  {
   "cell_type": "code",
   "execution_count": 82,
   "id": "297bf044-a029-460d-952a-7124e774d4b3",
   "metadata": {},
   "outputs": [],
   "source": [
    "model.compile(loss='categorical_crossentropy', optimizer='adam', metrics=['accuracy'])"
   ]
  },
  {
   "cell_type": "code",
   "execution_count": 84,
   "id": "4755c1a9-1dec-42b9-96ac-ae1a0cd4c001",
   "metadata": {},
   "outputs": [
    {
     "name": "stdout",
     "output_type": "stream",
     "text": [
      "Epoch 1/30\n",
      "1076/1076 - 2s - 2ms/step - accuracy: 0.5690 - loss: 3804.8333\n",
      "Epoch 2/30\n",
      "1076/1076 - 2s - 1ms/step - accuracy: 0.6434 - loss: 37306.3398\n",
      "Epoch 3/30\n",
      "1076/1076 - 2s - 1ms/step - accuracy: 0.6439 - loss: 114980.4844\n",
      "Epoch 4/30\n",
      "1076/1076 - 2s - 1ms/step - accuracy: 0.6438 - loss: 239309.5000\n",
      "Epoch 5/30\n",
      "1076/1076 - 2s - 2ms/step - accuracy: 0.6439 - loss: 423855.7500\n",
      "Epoch 6/30\n",
      "1076/1076 - 2s - 2ms/step - accuracy: 0.6439 - loss: 637136.0625\n",
      "Epoch 7/30\n",
      "1076/1076 - 1s - 1ms/step - accuracy: 0.6439 - loss: 922681.8750\n",
      "Epoch 8/30\n",
      "1076/1076 - 2s - 1ms/step - accuracy: 0.6439 - loss: 1282413.0000\n",
      "Epoch 9/30\n",
      "1076/1076 - 2s - 2ms/step - accuracy: 0.6439 - loss: 1729257.8750\n",
      "Epoch 10/30\n",
      "1076/1076 - 2s - 2ms/step - accuracy: 0.6439 - loss: 2180966.5000\n",
      "Epoch 11/30\n",
      "1076/1076 - 2s - 2ms/step - accuracy: 0.6438 - loss: 2757055.7500\n",
      "Epoch 12/30\n",
      "1076/1076 - 2s - 1ms/step - accuracy: 0.6439 - loss: 3380462.7500\n",
      "Epoch 13/30\n",
      "1076/1076 - 1s - 1ms/step - accuracy: 0.6440 - loss: 4160569.2500\n",
      "Epoch 14/30\n",
      "1076/1076 - 2s - 1ms/step - accuracy: 0.6440 - loss: 5021996.0000\n",
      "Epoch 15/30\n",
      "1076/1076 - 2s - 2ms/step - accuracy: 0.6439 - loss: 5905232.0000\n",
      "Epoch 16/30\n",
      "1076/1076 - 2s - 1ms/step - accuracy: 0.6439 - loss: 6897725.0000\n",
      "Epoch 17/30\n",
      "1076/1076 - 1s - 1ms/step - accuracy: 0.6440 - loss: 8048054.5000\n",
      "Epoch 18/30\n",
      "1076/1076 - 1s - 1ms/step - accuracy: 0.6440 - loss: 9325995.0000\n",
      "Epoch 19/30\n",
      "1076/1076 - 2s - 2ms/step - accuracy: 0.6440 - loss: 10711190.0000\n",
      "Epoch 20/30\n",
      "1076/1076 - 2s - 2ms/step - accuracy: 0.6439 - loss: 12152956.0000\n",
      "Epoch 21/30\n",
      "1076/1076 - 2s - 1ms/step - accuracy: 0.6440 - loss: 13717424.0000\n",
      "Epoch 22/30\n",
      "1076/1076 - 2s - 2ms/step - accuracy: 0.6440 - loss: 15387821.0000\n",
      "Epoch 23/30\n",
      "1076/1076 - 2s - 1ms/step - accuracy: 0.6440 - loss: 17338230.0000\n",
      "Epoch 24/30\n",
      "1076/1076 - 2s - 1ms/step - accuracy: 0.6440 - loss: 19248448.0000\n",
      "Epoch 25/30\n",
      "1076/1076 - 2s - 1ms/step - accuracy: 0.6440 - loss: 21499594.0000\n",
      "Epoch 26/30\n",
      "1076/1076 - 2s - 1ms/step - accuracy: 0.6440 - loss: 23719360.0000\n",
      "Epoch 27/30\n",
      "1076/1076 - 2s - 1ms/step - accuracy: 0.6440 - loss: 26185898.0000\n",
      "Epoch 28/30\n",
      "1076/1076 - 2s - 1ms/step - accuracy: 0.6440 - loss: 28797376.0000\n",
      "Epoch 29/30\n",
      "1076/1076 - 2s - 2ms/step - accuracy: 0.6440 - loss: 31627166.0000\n",
      "Epoch 30/30\n",
      "1076/1076 - 2s - 2ms/step - accuracy: 0.6440 - loss: 34254360.0000\n"
     ]
    },
    {
     "data": {
      "text/plain": [
       "<keras.src.callbacks.history.History at 0x198dcd43ef0>"
      ]
     },
     "execution_count": 84,
     "metadata": {},
     "output_type": "execute_result"
    }
   ],
   "source": [
    "model.fit(x_train, y_train, batch_size=batch_size, epochs=epochs, verbose=2)"
   ]
  },
  {
   "cell_type": "code",
   "execution_count": 85,
   "id": "1859c7fe-121d-465f-9a8f-2684f2a7d7bc",
   "metadata": {},
   "outputs": [],
   "source": [
    "def confusion_matrix(y_true, y_pred):\n",
    "    y_true = pd.Series([stations[y] for y in np.argmax(y_true, axis=1)])\n",
    "    y_pred = pd.Series([stations[y] for y in np.argmax(y_pred, axis=1)])\n",
    "\n",
    "    return pd.crosstab(y_true, y_pred, rownames=['True'], colnames=['Pred'])"
   ]
  },
  {
   "cell_type": "code",
   "execution_count": 86,
   "id": "98e3b4d2-5496-49f9-9647-b09cbf6b919f",
   "metadata": {},
   "outputs": [
    {
     "name": "stdout",
     "output_type": "stream",
     "text": [
      "\u001b[1m180/180\u001b[0m \u001b[32m━━━━━━━━━━━━━━━━━━━━\u001b[0m\u001b[37m\u001b[0m \u001b[1m0s\u001b[0m 1ms/step  \n",
      "Pred        BASEL  BELGRADE\n",
      "True                       \n",
      "BASEL        3681         1\n",
      "BELGRADE     1092         0\n",
      "BUDAPEST      214         0\n",
      "DEBILT         82         0\n",
      "DUSSELDORF     29         0\n",
      "HEATHROW       82         0\n",
      "KASSEL         11         0\n",
      "LJUBLJANA      61         0\n",
      "MAASTRICHT      9         0\n",
      "MADRID        458         0\n",
      "MUNCHENB        8         0\n",
      "OSLO            5         0\n",
      "STOCKHOLM       4         0\n",
      "VALENTIA        1         0\n"
     ]
    }
   ],
   "source": [
    "# Evaluate\n",
    "\n",
    "print(confusion_matrix(y_test, model.predict(x_test)))"
   ]
  },
  {
   "cell_type": "markdown",
   "id": "9b1a4ec8-2f64-418e-be9e-684d99737a12",
   "metadata": {},
   "source": [
    "Not good loss and accuracy."
   ]
  },
  {
   "cell_type": "code",
   "execution_count": 87,
   "id": "ac555933-c7ee-45c9-af50-e622a28bb21a",
   "metadata": {},
   "outputs": [],
   "source": [
    "epochs = 15\n",
    "batch_size = 4\n",
    "n_hidden = 4\n",
    "\n",
    "timesteps = len(x_train[0])\n",
    "input_dim = len(x_train[0][0])\n",
    "n_classes = len(y_train[0])\n",
    "\n",
    "model = Sequential()\n",
    "model.add(Conv1D(n_hidden, kernel_size=2, activation='relu', input_shape=(timesteps, input_dim)))\n",
    "model.add(Dense(16, activation='relu'))\n",
    "model.add(MaxPooling1D())\n",
    "model.add(Flatten())\n",
    "model.add(Dense(n_classes, activation='relu')) # Options: sigmoid, tanh, softmax, relu"
   ]
  },
  {
   "cell_type": "code",
   "execution_count": 88,
   "id": "8cf71ba6-d335-450e-bb91-c742df30451a",
   "metadata": {},
   "outputs": [
    {
     "data": {
      "text/html": [
       "<pre style=\"white-space:pre;overflow-x:auto;line-height:normal;font-family:Menlo,'DejaVu Sans Mono',consolas,'Courier New',monospace\"><span style=\"font-weight: bold\">Model: \"sequential_6\"</span>\n",
       "</pre>\n"
      ],
      "text/plain": [
       "\u001b[1mModel: \"sequential_6\"\u001b[0m\n"
      ]
     },
     "metadata": {},
     "output_type": "display_data"
    },
    {
     "data": {
      "text/html": [
       "<pre style=\"white-space:pre;overflow-x:auto;line-height:normal;font-family:Menlo,'DejaVu Sans Mono',consolas,'Courier New',monospace\">┏━━━━━━━━━━━━━━━━━━━━━━━━━━━━━━━━━┳━━━━━━━━━━━━━━━━━━━━━━━━┳━━━━━━━━━━━━━━━┓\n",
       "┃<span style=\"font-weight: bold\"> Layer (type)                    </span>┃<span style=\"font-weight: bold\"> Output Shape           </span>┃<span style=\"font-weight: bold\">       Param # </span>┃\n",
       "┡━━━━━━━━━━━━━━━━━━━━━━━━━━━━━━━━━╇━━━━━━━━━━━━━━━━━━━━━━━━╇━━━━━━━━━━━━━━━┩\n",
       "│ conv1d_6 (<span style=\"color: #0087ff; text-decoration-color: #0087ff\">Conv1D</span>)               │ (<span style=\"color: #00d7ff; text-decoration-color: #00d7ff\">None</span>, <span style=\"color: #00af00; text-decoration-color: #00af00\">14</span>, <span style=\"color: #00af00; text-decoration-color: #00af00\">4</span>)          │            <span style=\"color: #00af00; text-decoration-color: #00af00\">76</span> │\n",
       "├─────────────────────────────────┼────────────────────────┼───────────────┤\n",
       "│ dense_12 (<span style=\"color: #0087ff; text-decoration-color: #0087ff\">Dense</span>)                │ (<span style=\"color: #00d7ff; text-decoration-color: #00d7ff\">None</span>, <span style=\"color: #00af00; text-decoration-color: #00af00\">14</span>, <span style=\"color: #00af00; text-decoration-color: #00af00\">16</span>)         │            <span style=\"color: #00af00; text-decoration-color: #00af00\">80</span> │\n",
       "├─────────────────────────────────┼────────────────────────┼───────────────┤\n",
       "│ max_pooling1d_6 (<span style=\"color: #0087ff; text-decoration-color: #0087ff\">MaxPooling1D</span>)  │ (<span style=\"color: #00d7ff; text-decoration-color: #00d7ff\">None</span>, <span style=\"color: #00af00; text-decoration-color: #00af00\">7</span>, <span style=\"color: #00af00; text-decoration-color: #00af00\">16</span>)          │             <span style=\"color: #00af00; text-decoration-color: #00af00\">0</span> │\n",
       "├─────────────────────────────────┼────────────────────────┼───────────────┤\n",
       "│ flatten_6 (<span style=\"color: #0087ff; text-decoration-color: #0087ff\">Flatten</span>)             │ (<span style=\"color: #00d7ff; text-decoration-color: #00d7ff\">None</span>, <span style=\"color: #00af00; text-decoration-color: #00af00\">112</span>)            │             <span style=\"color: #00af00; text-decoration-color: #00af00\">0</span> │\n",
       "├─────────────────────────────────┼────────────────────────┼───────────────┤\n",
       "│ dense_13 (<span style=\"color: #0087ff; text-decoration-color: #0087ff\">Dense</span>)                │ (<span style=\"color: #00d7ff; text-decoration-color: #00d7ff\">None</span>, <span style=\"color: #00af00; text-decoration-color: #00af00\">15</span>)             │         <span style=\"color: #00af00; text-decoration-color: #00af00\">1,695</span> │\n",
       "└─────────────────────────────────┴────────────────────────┴───────────────┘\n",
       "</pre>\n"
      ],
      "text/plain": [
       "┏━━━━━━━━━━━━━━━━━━━━━━━━━━━━━━━━━┳━━━━━━━━━━━━━━━━━━━━━━━━┳━━━━━━━━━━━━━━━┓\n",
       "┃\u001b[1m \u001b[0m\u001b[1mLayer (type)                   \u001b[0m\u001b[1m \u001b[0m┃\u001b[1m \u001b[0m\u001b[1mOutput Shape          \u001b[0m\u001b[1m \u001b[0m┃\u001b[1m \u001b[0m\u001b[1m      Param #\u001b[0m\u001b[1m \u001b[0m┃\n",
       "┡━━━━━━━━━━━━━━━━━━━━━━━━━━━━━━━━━╇━━━━━━━━━━━━━━━━━━━━━━━━╇━━━━━━━━━━━━━━━┩\n",
       "│ conv1d_6 (\u001b[38;5;33mConv1D\u001b[0m)               │ (\u001b[38;5;45mNone\u001b[0m, \u001b[38;5;34m14\u001b[0m, \u001b[38;5;34m4\u001b[0m)          │            \u001b[38;5;34m76\u001b[0m │\n",
       "├─────────────────────────────────┼────────────────────────┼───────────────┤\n",
       "│ dense_12 (\u001b[38;5;33mDense\u001b[0m)                │ (\u001b[38;5;45mNone\u001b[0m, \u001b[38;5;34m14\u001b[0m, \u001b[38;5;34m16\u001b[0m)         │            \u001b[38;5;34m80\u001b[0m │\n",
       "├─────────────────────────────────┼────────────────────────┼───────────────┤\n",
       "│ max_pooling1d_6 (\u001b[38;5;33mMaxPooling1D\u001b[0m)  │ (\u001b[38;5;45mNone\u001b[0m, \u001b[38;5;34m7\u001b[0m, \u001b[38;5;34m16\u001b[0m)          │             \u001b[38;5;34m0\u001b[0m │\n",
       "├─────────────────────────────────┼────────────────────────┼───────────────┤\n",
       "│ flatten_6 (\u001b[38;5;33mFlatten\u001b[0m)             │ (\u001b[38;5;45mNone\u001b[0m, \u001b[38;5;34m112\u001b[0m)            │             \u001b[38;5;34m0\u001b[0m │\n",
       "├─────────────────────────────────┼────────────────────────┼───────────────┤\n",
       "│ dense_13 (\u001b[38;5;33mDense\u001b[0m)                │ (\u001b[38;5;45mNone\u001b[0m, \u001b[38;5;34m15\u001b[0m)             │         \u001b[38;5;34m1,695\u001b[0m │\n",
       "└─────────────────────────────────┴────────────────────────┴───────────────┘\n"
      ]
     },
     "metadata": {},
     "output_type": "display_data"
    },
    {
     "data": {
      "text/html": [
       "<pre style=\"white-space:pre;overflow-x:auto;line-height:normal;font-family:Menlo,'DejaVu Sans Mono',consolas,'Courier New',monospace\"><span style=\"font-weight: bold\"> Total params: </span><span style=\"color: #00af00; text-decoration-color: #00af00\">1,851</span> (7.23 KB)\n",
       "</pre>\n"
      ],
      "text/plain": [
       "\u001b[1m Total params: \u001b[0m\u001b[38;5;34m1,851\u001b[0m (7.23 KB)\n"
      ]
     },
     "metadata": {},
     "output_type": "display_data"
    },
    {
     "data": {
      "text/html": [
       "<pre style=\"white-space:pre;overflow-x:auto;line-height:normal;font-family:Menlo,'DejaVu Sans Mono',consolas,'Courier New',monospace\"><span style=\"font-weight: bold\"> Trainable params: </span><span style=\"color: #00af00; text-decoration-color: #00af00\">1,851</span> (7.23 KB)\n",
       "</pre>\n"
      ],
      "text/plain": [
       "\u001b[1m Trainable params: \u001b[0m\u001b[38;5;34m1,851\u001b[0m (7.23 KB)\n"
      ]
     },
     "metadata": {},
     "output_type": "display_data"
    },
    {
     "data": {
      "text/html": [
       "<pre style=\"white-space:pre;overflow-x:auto;line-height:normal;font-family:Menlo,'DejaVu Sans Mono',consolas,'Courier New',monospace\"><span style=\"font-weight: bold\"> Non-trainable params: </span><span style=\"color: #00af00; text-decoration-color: #00af00\">0</span> (0.00 B)\n",
       "</pre>\n"
      ],
      "text/plain": [
       "\u001b[1m Non-trainable params: \u001b[0m\u001b[38;5;34m0\u001b[0m (0.00 B)\n"
      ]
     },
     "metadata": {},
     "output_type": "display_data"
    }
   ],
   "source": [
    "model.summary()"
   ]
  },
  {
   "cell_type": "code",
   "execution_count": 89,
   "id": "466fc9cf-02c0-4025-92e8-581ee6438c27",
   "metadata": {},
   "outputs": [],
   "source": [
    "model.compile(loss='categorical_crossentropy', optimizer='adam', metrics=['accuracy'])"
   ]
  },
  {
   "cell_type": "code",
   "execution_count": 91,
   "id": "273abf41-72e2-4a9c-84e6-a3fb4faa1777",
   "metadata": {},
   "outputs": [
    {
     "name": "stdout",
     "output_type": "stream",
     "text": [
      "Epoch 1/15\n",
      "4303/4303 - 7s - 2ms/step - accuracy: 0.0929 - loss: 9.4072\n",
      "Epoch 2/15\n",
      "4303/4303 - 5s - 1ms/step - accuracy: 0.1364 - loss: 7.9650\n",
      "Epoch 3/15\n",
      "4303/4303 - 5s - 1ms/step - accuracy: 0.1419 - loss: 7.8505\n",
      "Epoch 4/15\n",
      "4303/4303 - 6s - 1ms/step - accuracy: 0.5213 - loss: nan\n",
      "Epoch 5/15\n",
      "4303/4303 - 5s - 1ms/step - accuracy: 0.6440 - loss: nan\n",
      "Epoch 6/15\n",
      "4303/4303 - 5s - 1ms/step - accuracy: 0.6440 - loss: nan\n",
      "Epoch 7/15\n",
      "4303/4303 - 6s - 1ms/step - accuracy: 0.6440 - loss: nan\n",
      "Epoch 8/15\n",
      "4303/4303 - 5s - 1ms/step - accuracy: 0.6440 - loss: nan\n",
      "Epoch 9/15\n",
      "4303/4303 - 5s - 1ms/step - accuracy: 0.6440 - loss: nan\n",
      "Epoch 10/15\n",
      "4303/4303 - 6s - 1ms/step - accuracy: 0.6440 - loss: nan\n",
      "Epoch 11/15\n",
      "4303/4303 - 5s - 1ms/step - accuracy: 0.6440 - loss: nan\n",
      "Epoch 12/15\n",
      "4303/4303 - 5s - 1ms/step - accuracy: 0.6440 - loss: nan\n",
      "Epoch 13/15\n",
      "4303/4303 - 6s - 1ms/step - accuracy: 0.6440 - loss: nan\n",
      "Epoch 14/15\n",
      "4303/4303 - 5s - 1ms/step - accuracy: 0.6440 - loss: nan\n",
      "Epoch 15/15\n",
      "4303/4303 - 6s - 1ms/step - accuracy: 0.6440 - loss: nan\n"
     ]
    },
    {
     "data": {
      "text/plain": [
       "<keras.src.callbacks.history.History at 0x198da399190>"
      ]
     },
     "execution_count": 91,
     "metadata": {},
     "output_type": "execute_result"
    }
   ],
   "source": [
    "model.fit(x_train, y_train, batch_size=batch_size, epochs=epochs, verbose=2)"
   ]
  },
  {
   "cell_type": "code",
   "execution_count": 92,
   "id": "6c4c22ff-a8c8-482e-8f71-c1142bda0763",
   "metadata": {},
   "outputs": [],
   "source": [
    "def confusion_matrix(y_true, y_pred):\n",
    "    y_true = pd.Series([stations[y] for y in np.argmax(y_true, axis=1)])\n",
    "    y_pred = pd.Series([stations[y] for y in np.argmax(y_pred, axis=1)])\n",
    "\n",
    "    return pd.crosstab(y_true, y_pred, rownames=['True'], colnames=['Pred'])"
   ]
  },
  {
   "cell_type": "code",
   "execution_count": 94,
   "id": "bc087fe6-a302-464e-a65d-5cc2a48beb4a",
   "metadata": {},
   "outputs": [
    {
     "name": "stdout",
     "output_type": "stream",
     "text": [
      "\u001b[1m180/180\u001b[0m \u001b[32m━━━━━━━━━━━━━━━━━━━━\u001b[0m\u001b[37m\u001b[0m \u001b[1m0s\u001b[0m 925us/step\n",
      "Pred        BASEL\n",
      "True             \n",
      "BASEL        3682\n",
      "BELGRADE     1092\n",
      "BUDAPEST      214\n",
      "DEBILT         82\n",
      "DUSSELDORF     29\n",
      "HEATHROW       82\n",
      "KASSEL         11\n",
      "LJUBLJANA      61\n",
      "MAASTRICHT      9\n",
      "MADRID        458\n",
      "MUNCHENB        8\n",
      "OSLO            5\n",
      "STOCKHOLM       4\n",
      "VALENTIA        1\n"
     ]
    }
   ],
   "source": [
    "# Evaluate\n",
    "\n",
    "print(confusion_matrix(y_test, model.predict(x_test)))"
   ]
  },
  {
   "cell_type": "code",
   "execution_count": null,
   "id": "d4a50e74-5848-488b-8b31-c4fcfb3165aa",
   "metadata": {},
   "outputs": [],
   "source": []
  }
 ],
 "metadata": {
  "kernelspec": {
   "display_name": "Python 3 (ipykernel)",
   "language": "python",
   "name": "python3"
  },
  "language_info": {
   "codemirror_mode": {
    "name": "ipython",
    "version": 3
   },
   "file_extension": ".py",
   "mimetype": "text/x-python",
   "name": "python",
   "nbconvert_exporter": "python",
   "pygments_lexer": "ipython3",
   "version": "3.12.3"
  }
 },
 "nbformat": 4,
 "nbformat_minor": 5
}
