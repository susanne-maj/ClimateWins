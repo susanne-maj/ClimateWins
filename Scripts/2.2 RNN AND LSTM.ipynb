{
 "cells": [
  {
   "cell_type": "markdown",
   "id": "6f423826-22fb-4d57-bb8e-10c72a426687",
   "metadata": {},
   "source": [
    "# CLIMATE WINS WEATHER PREDICTION: KERAS LAYERED MODEL RNN/LSTM"
   ]
  },
  {
   "cell_type": "markdown",
   "id": "b89ee54c-30b2-4e22-8db8-93acd8225701",
   "metadata": {},
   "source": [
    "## CONTENTS:\n",
    "1. Import Libraries and Data¶\n",
    "2. Data Wrangling\n",
    "3. Data Splitting\n",
    "4. Keras Model Creation\n",
    "5. Compiling and Running Model\n",
    "6. Confusion Matrix Creation\n",
    "8. Keras Model Retrials (Until Convergence)"
   ]
  },
  {
   "cell_type": "markdown",
   "id": "fb82318e-fdb1-4ee3-b962-b5cddfc3ef60",
   "metadata": {},
   "source": [
    "### 1. IMPORT LIBRARIES AND DATA"
   ]
  },
  {
   "cell_type": "code",
   "execution_count": 2,
   "id": "8e4ff40e-04a9-4b6b-a7bf-abc2239314ba",
   "metadata": {},
   "outputs": [],
   "source": [
    "import pandas as pd\n",
    "import numpy as np\n",
    "import seaborn as sns\n",
    "import os\n",
    "import operator\n",
    "import matplotlib.pyplot as plt\n",
    "import tensorflow as tf\n",
    "from tensorflow import keras\n",
    "from numpy import unique\n",
    "from numpy import reshape\n",
    "from keras.models import Sequential\n",
    "from keras.layers import Conv1D, Conv2D, Dense, BatchNormalization, Flatten, MaxPooling1D, Dropout\n",
    "from keras.layers import LSTM\n",
    "from keras.utils import to_categorical\n",
    "from sklearn.model_selection import train_test_split\n",
    "from sklearn.preprocessing import LabelEncoder\n",
    "\n",
    "import warnings\n",
    "warnings.filterwarnings(\"ignore\")"
   ]
  },
  {
   "cell_type": "code",
   "execution_count": 3,
   "id": "22da91c1-d25e-469c-a4df-ebbfd7341544",
   "metadata": {},
   "outputs": [],
   "source": [
    "# Set display options to show all columns\n",
    "\n",
    "pd.set_option('display.max_columns', None)\n",
    "pd.set_option('display.max_rows', None)"
   ]
  },
  {
   "cell_type": "code",
   "execution_count": 5,
   "id": "b8744f9b-7f4e-4562-88e3-0bbd7fc6fa08",
   "metadata": {},
   "outputs": [],
   "source": [
    "# Define path for where data is stored\n",
    "path = r'C:\\Users\\Administrator\\Documents\\data analytics\\Machine Learning\\ClimateWins\\Data Sets'"
   ]
  },
  {
   "cell_type": "code",
   "execution_count": 8,
   "id": "ca0e506f-0b56-49d9-b4fc-28dba3157d34",
   "metadata": {},
   "outputs": [],
   "source": [
    "# Import the weather data that was already scaled. \n",
    "x = pd.read_csv(os.path.join(path, 'climate_clean.csv'))"
   ]
  },
  {
   "cell_type": "code",
   "execution_count": 10,
   "id": "aab79526-e033-4522-909b-4d2bf5284a1c",
   "metadata": {},
   "outputs": [],
   "source": [
    "# Read in the Answers data.\n",
    "answers = pd.read_csv(os.path.join(path, 'Dataset-Answers-Weather_Prediction_Pleasant_Weather.csv'))"
   ]
  },
  {
   "cell_type": "code",
   "execution_count": 11,
   "id": "46f550c3-1ec4-47a7-8360-ad928ad73907",
   "metadata": {},
   "outputs": [
    {
     "data": {
      "text/html": [
       "<div>\n",
       "<style scoped>\n",
       "    .dataframe tbody tr th:only-of-type {\n",
       "        vertical-align: middle;\n",
       "    }\n",
       "\n",
       "    .dataframe tbody tr th {\n",
       "        vertical-align: top;\n",
       "    }\n",
       "\n",
       "    .dataframe thead th {\n",
       "        text-align: right;\n",
       "    }\n",
       "</style>\n",
       "<table border=\"1\" class=\"dataframe\">\n",
       "  <thead>\n",
       "    <tr style=\"text-align: right;\">\n",
       "      <th></th>\n",
       "      <th>BASEL_cloud_cover</th>\n",
       "      <th>BASEL_humidity</th>\n",
       "      <th>BASEL_pressure</th>\n",
       "      <th>BASEL_global_radiation</th>\n",
       "      <th>BASEL_precipitation</th>\n",
       "      <th>BASEL_sunshine</th>\n",
       "      <th>BASEL_temp_mean</th>\n",
       "      <th>BASEL_temp_min</th>\n",
       "      <th>BASEL_temp_max</th>\n",
       "      <th>BELGRADE_cloud_cover</th>\n",
       "      <th>BELGRADE_humidity</th>\n",
       "      <th>BELGRADE_pressure</th>\n",
       "      <th>BELGRADE_global_radiation</th>\n",
       "      <th>BELGRADE_precipitation</th>\n",
       "      <th>BELGRADE_sunshine</th>\n",
       "      <th>BELGRADE_temp_mean</th>\n",
       "      <th>BELGRADE_temp_min</th>\n",
       "      <th>BELGRADE_temp_max</th>\n",
       "      <th>BUDAPEST_cloud_cover</th>\n",
       "      <th>BUDAPEST_humidity</th>\n",
       "      <th>BUDAPEST_pressure</th>\n",
       "      <th>BUDAPEST_global_radiation</th>\n",
       "      <th>BUDAPEST_precipitation</th>\n",
       "      <th>BUDAPEST_sunshine</th>\n",
       "      <th>BUDAPEST_temp_mean</th>\n",
       "      <th>BUDAPEST_temp_min</th>\n",
       "      <th>BUDAPEST_temp_max</th>\n",
       "      <th>DEBILT_cloud_cover</th>\n",
       "      <th>DEBILT_humidity</th>\n",
       "      <th>DEBILT_pressure</th>\n",
       "      <th>DEBILT_global_radiation</th>\n",
       "      <th>DEBILT_precipitation</th>\n",
       "      <th>DEBILT_sunshine</th>\n",
       "      <th>DEBILT_temp_mean</th>\n",
       "      <th>DEBILT_temp_min</th>\n",
       "      <th>DEBILT_temp_max</th>\n",
       "      <th>DUSSELDORF_cloud_cover</th>\n",
       "      <th>DUSSELDORF_humidity</th>\n",
       "      <th>DUSSELDORF_pressure</th>\n",
       "      <th>DUSSELDORF_global_radiation</th>\n",
       "      <th>DUSSELDORF_precipitation</th>\n",
       "      <th>DUSSELDORF_sunshine</th>\n",
       "      <th>DUSSELDORF_temp_mean</th>\n",
       "      <th>DUSSELDORF_temp_min</th>\n",
       "      <th>DUSSELDORF_temp_max</th>\n",
       "      <th>HEATHROW_cloud_cover</th>\n",
       "      <th>HEATHROW_humidity</th>\n",
       "      <th>HEATHROW_pressure</th>\n",
       "      <th>HEATHROW_global_radiation</th>\n",
       "      <th>HEATHROW_precipitation</th>\n",
       "      <th>HEATHROW_sunshine</th>\n",
       "      <th>HEATHROW_temp_mean</th>\n",
       "      <th>HEATHROW_temp_min</th>\n",
       "      <th>HEATHROW_temp_max</th>\n",
       "      <th>KASSEL_humidity</th>\n",
       "      <th>KASSEL_cloud_cover</th>\n",
       "      <th>KASSEL_pressure</th>\n",
       "      <th>KASSEL_global_radiation</th>\n",
       "      <th>KASSEL_precipitation</th>\n",
       "      <th>KASSEL_sunshine</th>\n",
       "      <th>KASSEL_temp_mean</th>\n",
       "      <th>KASSEL_temp_min</th>\n",
       "      <th>KASSEL_temp_max</th>\n",
       "      <th>LJUBLJANA_cloud_cover</th>\n",
       "      <th>LJUBLJANA_humidity</th>\n",
       "      <th>LJUBLJANA_pressure</th>\n",
       "      <th>LJUBLJANA_global_radiation</th>\n",
       "      <th>LJUBLJANA_precipitation</th>\n",
       "      <th>LJUBLJANA_sunshine</th>\n",
       "      <th>LJUBLJANA_temp_mean</th>\n",
       "      <th>LJUBLJANA_temp_min</th>\n",
       "      <th>LJUBLJANA_temp_max</th>\n",
       "      <th>MAASTRICHT_cloud_cover</th>\n",
       "      <th>MAASTRICHT_humidity</th>\n",
       "      <th>MAASTRICHT_pressure</th>\n",
       "      <th>MAASTRICHT_global_radiation</th>\n",
       "      <th>MAASTRICHT_precipitation</th>\n",
       "      <th>MAASTRICHT_sunshine</th>\n",
       "      <th>MAASTRICHT_temp_mean</th>\n",
       "      <th>MAASTRICHT_temp_min</th>\n",
       "      <th>MAASTRICHT_temp_max</th>\n",
       "      <th>MADRID_cloud_cover</th>\n",
       "      <th>MADRID_humidity</th>\n",
       "      <th>MADRID_pressure</th>\n",
       "      <th>MADRID_global_radiation</th>\n",
       "      <th>MADRID_precipitation</th>\n",
       "      <th>MADRID_sunshine</th>\n",
       "      <th>MADRID_temp_mean</th>\n",
       "      <th>MADRID_temp_min</th>\n",
       "      <th>MADRID_temp_max</th>\n",
       "      <th>MUNCHENB_cloud_cover</th>\n",
       "      <th>MUNCHENB_humidity</th>\n",
       "      <th>MUNCHENB_global_radiation</th>\n",
       "      <th>MUNCHENB_pressure</th>\n",
       "      <th>MUNCHENB_precipitation</th>\n",
       "      <th>MUNCHENB_sunshine</th>\n",
       "      <th>MUNCHENB_temp_mean</th>\n",
       "      <th>MUNCHENB_temp_min</th>\n",
       "      <th>MUNCHENB_temp_max</th>\n",
       "      <th>OSLO_cloud_cover</th>\n",
       "      <th>OSLO_humidity</th>\n",
       "      <th>OSLO_pressure</th>\n",
       "      <th>OSLO_global_radiation</th>\n",
       "      <th>OSLO_precipitation</th>\n",
       "      <th>OSLO_sunshine</th>\n",
       "      <th>OSLO_temp_mean</th>\n",
       "      <th>OSLO_temp_min</th>\n",
       "      <th>OSLO_temp_max</th>\n",
       "      <th>SONNBLICK_cloud_cover</th>\n",
       "      <th>SONNBLICK_humidity</th>\n",
       "      <th>SONNBLICK_pressure</th>\n",
       "      <th>SONNBLICK_global_radiation</th>\n",
       "      <th>SONNBLICK_precipitation</th>\n",
       "      <th>SONNBLICK_sunshine</th>\n",
       "      <th>SONNBLICK_temp_mean</th>\n",
       "      <th>SONNBLICK_temp_min</th>\n",
       "      <th>SONNBLICK_temp_max</th>\n",
       "      <th>STOCKHOLM_cloud_cover</th>\n",
       "      <th>STOCKHOLM_pressure</th>\n",
       "      <th>STOCKHOLM_humidity</th>\n",
       "      <th>STOCKHOLM_global_radiation</th>\n",
       "      <th>STOCKHOLM_precipitation</th>\n",
       "      <th>STOCKHOLM_sunshine</th>\n",
       "      <th>STOCKHOLM_temp_mean</th>\n",
       "      <th>STOCKHOLM_temp_min</th>\n",
       "      <th>STOCKHOLM_temp_max</th>\n",
       "      <th>VALENTIA_cloud_cover</th>\n",
       "      <th>VALENTIA_humidity</th>\n",
       "      <th>VALENTIA_pressure</th>\n",
       "      <th>VALENTIA_global_radiation</th>\n",
       "      <th>VALENTIA_precipitation</th>\n",
       "      <th>VALENTIA_sunshine</th>\n",
       "      <th>VALENTIA_temp_mean</th>\n",
       "      <th>VALENTIA_temp_min</th>\n",
       "      <th>VALENTIA_temp_max</th>\n",
       "    </tr>\n",
       "  </thead>\n",
       "  <tbody>\n",
       "    <tr>\n",
       "      <th>0</th>\n",
       "      <td>0.660514</td>\n",
       "      <td>0.826097</td>\n",
       "      <td>-0.001949</td>\n",
       "      <td>-1.101066</td>\n",
       "      <td>-0.265148</td>\n",
       "      <td>-0.902918</td>\n",
       "      <td>-0.528623</td>\n",
       "      <td>-0.845652</td>\n",
       "      <td>-0.478356</td>\n",
       "      <td>-1.206433</td>\n",
       "      <td>0.905270</td>\n",
       "      <td>0.321771</td>\n",
       "      <td>-0.743149</td>\n",
       "      <td>-0.371315</td>\n",
       "      <td>0.283983</td>\n",
       "      <td>-1.016876</td>\n",
       "      <td>-1.220210</td>\n",
       "      <td>-0.949203</td>\n",
       "      <td>-0.25524</td>\n",
       "      <td>-0.010098</td>\n",
       "      <td>-0.005876</td>\n",
       "      <td>-1.118537</td>\n",
       "      <td>-0.321868</td>\n",
       "      <td>-0.773378</td>\n",
       "      <td>-1.099163</td>\n",
       "      <td>-1.119431</td>\n",
       "      <td>-1.136839</td>\n",
       "      <td>0.713782</td>\n",
       "      <td>0.357839</td>\n",
       "      <td>-1.232471</td>\n",
       "      <td>-1.197013</td>\n",
       "      <td>0.049619</td>\n",
       "      <td>-1.077312</td>\n",
       "      <td>-0.114356</td>\n",
       "      <td>0.263326</td>\n",
       "      <td>-0.411047</td>\n",
       "      <td>1.232526</td>\n",
       "      <td>0.625746</td>\n",
       "      <td>-0.005606</td>\n",
       "      <td>-1.157575</td>\n",
       "      <td>-0.305938</td>\n",
       "      <td>-1.014908</td>\n",
       "      <td>-0.105836</td>\n",
       "      <td>0.060555</td>\n",
       "      <td>-0.410423</td>\n",
       "      <td>0.833387</td>\n",
       "      <td>1.332572</td>\n",
       "      <td>-1.376592</td>\n",
       "      <td>-1.187370</td>\n",
       "      <td>0.141032</td>\n",
       "      <td>-1.064721</td>\n",
       "      <td>-0.106469</td>\n",
       "      <td>0.393470</td>\n",
       "      <td>-1.038492</td>\n",
       "      <td>0.449867</td>\n",
       "      <td>1.232526</td>\n",
       "      <td>-0.801741</td>\n",
       "      <td>-1.069690</td>\n",
       "      <td>0.747355</td>\n",
       "      <td>-0.647708</td>\n",
       "      <td>-0.182904</td>\n",
       "      <td>-0.251893</td>\n",
       "      <td>-0.466503</td>\n",
       "      <td>1.205492</td>\n",
       "      <td>1.864672</td>\n",
       "      <td>-0.008724</td>\n",
       "      <td>-1.203514</td>\n",
       "      <td>-0.406430</td>\n",
       "      <td>-1.149211</td>\n",
       "      <td>-1.370824</td>\n",
       "      <td>-1.125110</td>\n",
       "      <td>-1.578385</td>\n",
       "      <td>0.703568</td>\n",
       "      <td>0.267752</td>\n",
       "      <td>-1.043873</td>\n",
       "      <td>-1.052433</td>\n",
       "      <td>0.252496</td>\n",
       "      <td>-0.810834</td>\n",
       "      <td>-0.097084</td>\n",
       "      <td>0.382899</td>\n",
       "      <td>-0.387967</td>\n",
       "      <td>0.855172</td>\n",
       "      <td>1.887115</td>\n",
       "      <td>1.149046</td>\n",
       "      <td>-1.423735</td>\n",
       "      <td>-0.315682</td>\n",
       "      <td>-1.521762</td>\n",
       "      <td>-0.98828</td>\n",
       "      <td>-0.877723</td>\n",
       "      <td>-1.044732</td>\n",
       "      <td>-0.093824</td>\n",
       "      <td>-0.746542</td>\n",
       "      <td>-1.244144</td>\n",
       "      <td>-0.001949</td>\n",
       "      <td>-0.282933</td>\n",
       "      <td>-1.098059</td>\n",
       "      <td>-0.265742</td>\n",
       "      <td>-0.505735</td>\n",
       "      <td>-0.350849</td>\n",
       "      <td>1.111743</td>\n",
       "      <td>1.544023</td>\n",
       "      <td>-1.142400</td>\n",
       "      <td>-1.06787</td>\n",
       "      <td>1.925426</td>\n",
       "      <td>-1.018677</td>\n",
       "      <td>-0.186575</td>\n",
       "      <td>0.094958</td>\n",
       "      <td>-0.474865</td>\n",
       "      <td>-0.428835</td>\n",
       "      <td>-0.629430</td>\n",
       "      <td>0.095234</td>\n",
       "      <td>-1.24444</td>\n",
       "      <td>-0.649856</td>\n",
       "      <td>-0.550327</td>\n",
       "      <td>-0.124331</td>\n",
       "      <td>-0.170125</td>\n",
       "      <td>-0.063322</td>\n",
       "      <td>-0.060102</td>\n",
       "      <td>-0.003465</td>\n",
       "      <td>1.544023</td>\n",
       "      <td>-1.079126</td>\n",
       "      <td>0.479131</td>\n",
       "      <td>-1.013295</td>\n",
       "      <td>-0.391072</td>\n",
       "      <td>-0.290439</td>\n",
       "      <td>-0.639538</td>\n",
       "      <td>-0.443701</td>\n",
       "      <td>0.761754</td>\n",
       "      <td>-1.299744</td>\n",
       "      <td>-0.806427</td>\n",
       "      <td>-0.088407</td>\n",
       "      <td>0.372147</td>\n",
       "      <td>-0.668215</td>\n",
       "      <td>-0.519743</td>\n",
       "      <td>-0.752237</td>\n",
       "    </tr>\n",
       "    <tr>\n",
       "      <th>1</th>\n",
       "      <td>0.244897</td>\n",
       "      <td>0.735760</td>\n",
       "      <td>-0.001949</td>\n",
       "      <td>-1.058108</td>\n",
       "      <td>1.658760</td>\n",
       "      <td>-0.810126</td>\n",
       "      <td>-0.582946</td>\n",
       "      <td>-0.462450</td>\n",
       "      <td>-0.569988</td>\n",
       "      <td>0.652846</td>\n",
       "      <td>1.119118</td>\n",
       "      <td>0.016838</td>\n",
       "      <td>-1.418387</td>\n",
       "      <td>-0.371315</td>\n",
       "      <td>-1.333204</td>\n",
       "      <td>-1.107669</td>\n",
       "      <td>-0.818702</td>\n",
       "      <td>-1.298119</td>\n",
       "      <td>-0.25524</td>\n",
       "      <td>-0.010098</td>\n",
       "      <td>-0.005876</td>\n",
       "      <td>-1.415938</td>\n",
       "      <td>0.371622</td>\n",
       "      <td>-1.344065</td>\n",
       "      <td>-1.110927</td>\n",
       "      <td>-0.878727</td>\n",
       "      <td>-1.341204</td>\n",
       "      <td>1.176060</td>\n",
       "      <td>0.866945</td>\n",
       "      <td>-0.987868</td>\n",
       "      <td>-1.118559</td>\n",
       "      <td>-0.367169</td>\n",
       "      <td>-1.052820</td>\n",
       "      <td>-0.367511</td>\n",
       "      <td>0.090631</td>\n",
       "      <td>-0.781002</td>\n",
       "      <td>1.232526</td>\n",
       "      <td>1.143615</td>\n",
       "      <td>-0.005606</td>\n",
       "      <td>-1.089208</td>\n",
       "      <td>1.084926</td>\n",
       "      <td>-0.893696</td>\n",
       "      <td>-0.370915</td>\n",
       "      <td>0.125463</td>\n",
       "      <td>-0.473486</td>\n",
       "      <td>0.833387</td>\n",
       "      <td>2.004870</td>\n",
       "      <td>-0.984359</td>\n",
       "      <td>-1.187370</td>\n",
       "      <td>0.167279</td>\n",
       "      <td>-1.064721</td>\n",
       "      <td>-0.892676</td>\n",
       "      <td>-0.639866</td>\n",
       "      <td>-0.687774</td>\n",
       "      <td>0.818506</td>\n",
       "      <td>1.232526</td>\n",
       "      <td>-0.897454</td>\n",
       "      <td>-1.267817</td>\n",
       "      <td>0.199693</td>\n",
       "      <td>-1.074723</td>\n",
       "      <td>-0.212437</td>\n",
       "      <td>0.231491</td>\n",
       "      <td>-0.504162</td>\n",
       "      <td>0.371461</td>\n",
       "      <td>1.399628</td>\n",
       "      <td>-0.008724</td>\n",
       "      <td>-0.828505</td>\n",
       "      <td>-0.266591</td>\n",
       "      <td>-0.420517</td>\n",
       "      <td>-1.043881</td>\n",
       "      <td>-1.043446</td>\n",
       "      <td>-1.056415</td>\n",
       "      <td>1.146094</td>\n",
       "      <td>1.072259</td>\n",
       "      <td>-1.054624</td>\n",
       "      <td>-1.107754</td>\n",
       "      <td>2.569483</td>\n",
       "      <td>-0.958969</td>\n",
       "      <td>-0.232112</td>\n",
       "      <td>0.216034</td>\n",
       "      <td>-0.542607</td>\n",
       "      <td>1.225610</td>\n",
       "      <td>1.548493</td>\n",
       "      <td>1.068070</td>\n",
       "      <td>-1.496755</td>\n",
       "      <td>-0.315682</td>\n",
       "      <td>-1.642337</td>\n",
       "      <td>-0.69174</td>\n",
       "      <td>-0.411866</td>\n",
       "      <td>-0.882444</td>\n",
       "      <td>0.318678</td>\n",
       "      <td>-0.344471</td>\n",
       "      <td>-0.809683</td>\n",
       "      <td>-0.001949</td>\n",
       "      <td>0.065552</td>\n",
       "      <td>0.043394</td>\n",
       "      <td>-0.353714</td>\n",
       "      <td>-0.076441</td>\n",
       "      <td>-0.372683</td>\n",
       "      <td>1.111743</td>\n",
       "      <td>-0.712374</td>\n",
       "      <td>0.190182</td>\n",
       "      <td>-1.06787</td>\n",
       "      <td>-0.455841</td>\n",
       "      <td>-1.018677</td>\n",
       "      <td>-0.368598</td>\n",
       "      <td>-0.033545</td>\n",
       "      <td>-0.582847</td>\n",
       "      <td>0.350125</td>\n",
       "      <td>0.727065</td>\n",
       "      <td>0.067319</td>\n",
       "      <td>-1.55317</td>\n",
       "      <td>0.186476</td>\n",
       "      <td>-1.073269</td>\n",
       "      <td>-0.650834</td>\n",
       "      <td>-0.456455</td>\n",
       "      <td>-0.839563</td>\n",
       "      <td>-0.060102</td>\n",
       "      <td>-0.003465</td>\n",
       "      <td>-0.712374</td>\n",
       "      <td>-1.079126</td>\n",
       "      <td>-0.251691</td>\n",
       "      <td>-1.013295</td>\n",
       "      <td>-0.415953</td>\n",
       "      <td>-0.183610</td>\n",
       "      <td>-0.628550</td>\n",
       "      <td>0.783085</td>\n",
       "      <td>1.183580</td>\n",
       "      <td>-1.262455</td>\n",
       "      <td>-1.042055</td>\n",
       "      <td>0.503361</td>\n",
       "      <td>-0.829285</td>\n",
       "      <td>-0.548046</td>\n",
       "      <td>-0.629054</td>\n",
       "      <td>-0.407141</td>\n",
       "    </tr>\n",
       "    <tr>\n",
       "      <th>2</th>\n",
       "      <td>1.076130</td>\n",
       "      <td>1.277781</td>\n",
       "      <td>-0.001949</td>\n",
       "      <td>-1.251420</td>\n",
       "      <td>0.155707</td>\n",
       "      <td>-1.065304</td>\n",
       "      <td>-0.257010</td>\n",
       "      <td>-0.186545</td>\n",
       "      <td>-0.592896</td>\n",
       "      <td>0.652846</td>\n",
       "      <td>0.620141</td>\n",
       "      <td>0.109644</td>\n",
       "      <td>-0.968228</td>\n",
       "      <td>-0.371315</td>\n",
       "      <td>-0.524611</td>\n",
       "      <td>-1.084971</td>\n",
       "      <td>-1.168403</td>\n",
       "      <td>-1.098738</td>\n",
       "      <td>-0.25524</td>\n",
       "      <td>-0.010098</td>\n",
       "      <td>-0.005876</td>\n",
       "      <td>-1.278676</td>\n",
       "      <td>-0.344984</td>\n",
       "      <td>-1.195190</td>\n",
       "      <td>-1.063873</td>\n",
       "      <td>-0.838610</td>\n",
       "      <td>-1.116403</td>\n",
       "      <td>0.251504</td>\n",
       "      <td>1.070588</td>\n",
       "      <td>0.123041</td>\n",
       "      <td>-0.961650</td>\n",
       "      <td>-0.476850</td>\n",
       "      <td>-0.342557</td>\n",
       "      <td>-0.509912</td>\n",
       "      <td>-0.220221</td>\n",
       "      <td>-0.561770</td>\n",
       "      <td>0.785670</td>\n",
       "      <td>1.661484</td>\n",
       "      <td>-0.005606</td>\n",
       "      <td>-1.157575</td>\n",
       "      <td>-0.329918</td>\n",
       "      <td>-1.014908</td>\n",
       "      <td>-0.532908</td>\n",
       "      <td>0.044328</td>\n",
       "      <td>-0.713127</td>\n",
       "      <td>1.324799</td>\n",
       "      <td>1.812785</td>\n",
       "      <td>0.115808</td>\n",
       "      <td>-1.164817</td>\n",
       "      <td>-0.252671</td>\n",
       "      <td>-1.039671</td>\n",
       "      <td>-0.490837</td>\n",
       "      <td>-0.226532</td>\n",
       "      <td>-0.443796</td>\n",
       "      <td>1.279304</td>\n",
       "      <td>0.785670</td>\n",
       "      <td>-0.382997</td>\n",
       "      <td>-1.267817</td>\n",
       "      <td>1.060304</td>\n",
       "      <td>-1.074723</td>\n",
       "      <td>-0.389635</td>\n",
       "      <td>0.098144</td>\n",
       "      <td>-0.642248</td>\n",
       "      <td>1.205492</td>\n",
       "      <td>1.554643</td>\n",
       "      <td>-0.008724</td>\n",
       "      <td>-1.203514</td>\n",
       "      <td>-0.277348</td>\n",
       "      <td>-1.149211</td>\n",
       "      <td>-0.741156</td>\n",
       "      <td>-0.744013</td>\n",
       "      <td>-0.972900</td>\n",
       "      <td>0.703568</td>\n",
       "      <td>1.519207</td>\n",
       "      <td>0.074279</td>\n",
       "      <td>-1.163075</td>\n",
       "      <td>0.570514</td>\n",
       "      <td>-1.057726</td>\n",
       "      <td>-0.487164</td>\n",
       "      <td>-0.117697</td>\n",
       "      <td>-0.542607</td>\n",
       "      <td>0.484733</td>\n",
       "      <td>1.774241</td>\n",
       "      <td>1.513435</td>\n",
       "      <td>-1.319420</td>\n",
       "      <td>-0.315682</td>\n",
       "      <td>-1.304726</td>\n",
       "      <td>-0.85349</td>\n",
       "      <td>-0.567152</td>\n",
       "      <td>-1.044732</td>\n",
       "      <td>0.318678</td>\n",
       "      <td>1.183399</td>\n",
       "      <td>-1.244144</td>\n",
       "      <td>-0.001949</td>\n",
       "      <td>0.065552</td>\n",
       "      <td>-1.098059</td>\n",
       "      <td>-0.403983</td>\n",
       "      <td>-0.104138</td>\n",
       "      <td>-0.612852</td>\n",
       "      <td>1.111743</td>\n",
       "      <td>-0.273630</td>\n",
       "      <td>0.976489</td>\n",
       "      <td>-1.06787</td>\n",
       "      <td>-0.288735</td>\n",
       "      <td>-1.018677</td>\n",
       "      <td>-0.550620</td>\n",
       "      <td>-0.316251</td>\n",
       "      <td>-0.777215</td>\n",
       "      <td>1.129085</td>\n",
       "      <td>0.500982</td>\n",
       "      <td>0.132454</td>\n",
       "      <td>-1.55317</td>\n",
       "      <td>3.796642</td>\n",
       "      <td>-1.073269</td>\n",
       "      <td>-0.650834</td>\n",
       "      <td>-0.384873</td>\n",
       "      <td>-0.898147</td>\n",
       "      <td>-0.060102</td>\n",
       "      <td>-0.003465</td>\n",
       "      <td>-0.273630</td>\n",
       "      <td>-1.079126</td>\n",
       "      <td>-0.364125</td>\n",
       "      <td>-1.013295</td>\n",
       "      <td>-0.615003</td>\n",
       "      <td>-0.410621</td>\n",
       "      <td>-0.727444</td>\n",
       "      <td>0.783085</td>\n",
       "      <td>1.183580</td>\n",
       "      <td>-0.432779</td>\n",
       "      <td>-1.136306</td>\n",
       "      <td>-0.396127</td>\n",
       "      <td>-1.009500</td>\n",
       "      <td>-0.067372</td>\n",
       "      <td>0.054135</td>\n",
       "      <td>-0.177078</td>\n",
       "    </tr>\n",
       "  </tbody>\n",
       "</table>\n",
       "</div>"
      ],
      "text/plain": [
       "   BASEL_cloud_cover  BASEL_humidity  BASEL_pressure  BASEL_global_radiation  \\\n",
       "0           0.660514        0.826097       -0.001949               -1.101066   \n",
       "1           0.244897        0.735760       -0.001949               -1.058108   \n",
       "2           1.076130        1.277781       -0.001949               -1.251420   \n",
       "\n",
       "   BASEL_precipitation  BASEL_sunshine  BASEL_temp_mean  BASEL_temp_min  \\\n",
       "0            -0.265148       -0.902918        -0.528623       -0.845652   \n",
       "1             1.658760       -0.810126        -0.582946       -0.462450   \n",
       "2             0.155707       -1.065304        -0.257010       -0.186545   \n",
       "\n",
       "   BASEL_temp_max  BELGRADE_cloud_cover  BELGRADE_humidity  BELGRADE_pressure  \\\n",
       "0       -0.478356             -1.206433           0.905270           0.321771   \n",
       "1       -0.569988              0.652846           1.119118           0.016838   \n",
       "2       -0.592896              0.652846           0.620141           0.109644   \n",
       "\n",
       "   BELGRADE_global_radiation  BELGRADE_precipitation  BELGRADE_sunshine  \\\n",
       "0                  -0.743149               -0.371315           0.283983   \n",
       "1                  -1.418387               -0.371315          -1.333204   \n",
       "2                  -0.968228               -0.371315          -0.524611   \n",
       "\n",
       "   BELGRADE_temp_mean  BELGRADE_temp_min  BELGRADE_temp_max  \\\n",
       "0           -1.016876          -1.220210          -0.949203   \n",
       "1           -1.107669          -0.818702          -1.298119   \n",
       "2           -1.084971          -1.168403          -1.098738   \n",
       "\n",
       "   BUDAPEST_cloud_cover  BUDAPEST_humidity  BUDAPEST_pressure  \\\n",
       "0              -0.25524          -0.010098          -0.005876   \n",
       "1              -0.25524          -0.010098          -0.005876   \n",
       "2              -0.25524          -0.010098          -0.005876   \n",
       "\n",
       "   BUDAPEST_global_radiation  BUDAPEST_precipitation  BUDAPEST_sunshine  \\\n",
       "0                  -1.118537               -0.321868          -0.773378   \n",
       "1                  -1.415938                0.371622          -1.344065   \n",
       "2                  -1.278676               -0.344984          -1.195190   \n",
       "\n",
       "   BUDAPEST_temp_mean  BUDAPEST_temp_min  BUDAPEST_temp_max  \\\n",
       "0           -1.099163          -1.119431          -1.136839   \n",
       "1           -1.110927          -0.878727          -1.341204   \n",
       "2           -1.063873          -0.838610          -1.116403   \n",
       "\n",
       "   DEBILT_cloud_cover  DEBILT_humidity  DEBILT_pressure  \\\n",
       "0            0.713782         0.357839        -1.232471   \n",
       "1            1.176060         0.866945        -0.987868   \n",
       "2            0.251504         1.070588         0.123041   \n",
       "\n",
       "   DEBILT_global_radiation  DEBILT_precipitation  DEBILT_sunshine  \\\n",
       "0                -1.197013              0.049619        -1.077312   \n",
       "1                -1.118559             -0.367169        -1.052820   \n",
       "2                -0.961650             -0.476850        -0.342557   \n",
       "\n",
       "   DEBILT_temp_mean  DEBILT_temp_min  DEBILT_temp_max  DUSSELDORF_cloud_cover  \\\n",
       "0         -0.114356         0.263326        -0.411047                1.232526   \n",
       "1         -0.367511         0.090631        -0.781002                1.232526   \n",
       "2         -0.509912        -0.220221        -0.561770                0.785670   \n",
       "\n",
       "   DUSSELDORF_humidity  DUSSELDORF_pressure  DUSSELDORF_global_radiation  \\\n",
       "0             0.625746            -0.005606                    -1.157575   \n",
       "1             1.143615            -0.005606                    -1.089208   \n",
       "2             1.661484            -0.005606                    -1.157575   \n",
       "\n",
       "   DUSSELDORF_precipitation  DUSSELDORF_sunshine  DUSSELDORF_temp_mean  \\\n",
       "0                 -0.305938            -1.014908             -0.105836   \n",
       "1                  1.084926            -0.893696             -0.370915   \n",
       "2                 -0.329918            -1.014908             -0.532908   \n",
       "\n",
       "   DUSSELDORF_temp_min  DUSSELDORF_temp_max  HEATHROW_cloud_cover  \\\n",
       "0             0.060555            -0.410423              0.833387   \n",
       "1             0.125463            -0.473486              0.833387   \n",
       "2             0.044328            -0.713127              1.324799   \n",
       "\n",
       "   HEATHROW_humidity  HEATHROW_pressure  HEATHROW_global_radiation  \\\n",
       "0           1.332572          -1.376592                  -1.187370   \n",
       "1           2.004870          -0.984359                  -1.187370   \n",
       "2           1.812785           0.115808                  -1.164817   \n",
       "\n",
       "   HEATHROW_precipitation  HEATHROW_sunshine  HEATHROW_temp_mean  \\\n",
       "0                0.141032          -1.064721           -0.106469   \n",
       "1                0.167279          -1.064721           -0.892676   \n",
       "2               -0.252671          -1.039671           -0.490837   \n",
       "\n",
       "   HEATHROW_temp_min  HEATHROW_temp_max  KASSEL_humidity  KASSEL_cloud_cover  \\\n",
       "0           0.393470          -1.038492         0.449867            1.232526   \n",
       "1          -0.639866          -0.687774         0.818506            1.232526   \n",
       "2          -0.226532          -0.443796         1.279304            0.785670   \n",
       "\n",
       "   KASSEL_pressure  KASSEL_global_radiation  KASSEL_precipitation  \\\n",
       "0        -0.801741                -1.069690              0.747355   \n",
       "1        -0.897454                -1.267817              0.199693   \n",
       "2        -0.382997                -1.267817              1.060304   \n",
       "\n",
       "   KASSEL_sunshine  KASSEL_temp_mean  KASSEL_temp_min  KASSEL_temp_max  \\\n",
       "0        -0.647708         -0.182904        -0.251893        -0.466503   \n",
       "1        -1.074723         -0.212437         0.231491        -0.504162   \n",
       "2        -1.074723         -0.389635         0.098144        -0.642248   \n",
       "\n",
       "   LJUBLJANA_cloud_cover  LJUBLJANA_humidity  LJUBLJANA_pressure  \\\n",
       "0               1.205492            1.864672           -0.008724   \n",
       "1               0.371461            1.399628           -0.008724   \n",
       "2               1.205492            1.554643           -0.008724   \n",
       "\n",
       "   LJUBLJANA_global_radiation  LJUBLJANA_precipitation  LJUBLJANA_sunshine  \\\n",
       "0                   -1.203514                -0.406430           -1.149211   \n",
       "1                   -0.828505                -0.266591           -0.420517   \n",
       "2                   -1.203514                -0.277348           -1.149211   \n",
       "\n",
       "   LJUBLJANA_temp_mean  LJUBLJANA_temp_min  LJUBLJANA_temp_max  \\\n",
       "0            -1.370824           -1.125110           -1.578385   \n",
       "1            -1.043881           -1.043446           -1.056415   \n",
       "2            -0.741156           -0.744013           -0.972900   \n",
       "\n",
       "   MAASTRICHT_cloud_cover  MAASTRICHT_humidity  MAASTRICHT_pressure  \\\n",
       "0                0.703568             0.267752            -1.043873   \n",
       "1                1.146094             1.072259            -1.054624   \n",
       "2                0.703568             1.519207             0.074279   \n",
       "\n",
       "   MAASTRICHT_global_radiation  MAASTRICHT_precipitation  MAASTRICHT_sunshine  \\\n",
       "0                    -1.052433                  0.252496            -0.810834   \n",
       "1                    -1.107754                  2.569483            -0.958969   \n",
       "2                    -1.163075                  0.570514            -1.057726   \n",
       "\n",
       "   MAASTRICHT_temp_mean  MAASTRICHT_temp_min  MAASTRICHT_temp_max  \\\n",
       "0             -0.097084             0.382899            -0.387967   \n",
       "1             -0.232112             0.216034            -0.542607   \n",
       "2             -0.487164            -0.117697            -0.542607   \n",
       "\n",
       "   MADRID_cloud_cover  MADRID_humidity  MADRID_pressure  \\\n",
       "0            0.855172         1.887115         1.149046   \n",
       "1            1.225610         1.548493         1.068070   \n",
       "2            0.484733         1.774241         1.513435   \n",
       "\n",
       "   MADRID_global_radiation  MADRID_precipitation  MADRID_sunshine  \\\n",
       "0                -1.423735             -0.315682        -1.521762   \n",
       "1                -1.496755             -0.315682        -1.642337   \n",
       "2                -1.319420             -0.315682        -1.304726   \n",
       "\n",
       "   MADRID_temp_mean  MADRID_temp_min  MADRID_temp_max  MUNCHENB_cloud_cover  \\\n",
       "0          -0.98828        -0.877723        -1.044732             -0.093824   \n",
       "1          -0.69174        -0.411866        -0.882444              0.318678   \n",
       "2          -0.85349        -0.567152        -1.044732              0.318678   \n",
       "\n",
       "   MUNCHENB_humidity  MUNCHENB_global_radiation  MUNCHENB_pressure  \\\n",
       "0          -0.746542                  -1.244144          -0.001949   \n",
       "1          -0.344471                  -0.809683          -0.001949   \n",
       "2           1.183399                  -1.244144          -0.001949   \n",
       "\n",
       "   MUNCHENB_precipitation  MUNCHENB_sunshine  MUNCHENB_temp_mean  \\\n",
       "0               -0.282933          -1.098059           -0.265742   \n",
       "1                0.065552           0.043394           -0.353714   \n",
       "2                0.065552          -1.098059           -0.403983   \n",
       "\n",
       "   MUNCHENB_temp_min  MUNCHENB_temp_max  OSLO_cloud_cover  OSLO_humidity  \\\n",
       "0          -0.505735          -0.350849          1.111743       1.544023   \n",
       "1          -0.076441          -0.372683          1.111743      -0.712374   \n",
       "2          -0.104138          -0.612852          1.111743      -0.273630   \n",
       "\n",
       "   OSLO_pressure  OSLO_global_radiation  OSLO_precipitation  OSLO_sunshine  \\\n",
       "0      -1.142400               -1.06787            1.925426      -1.018677   \n",
       "1       0.190182               -1.06787           -0.455841      -1.018677   \n",
       "2       0.976489               -1.06787           -0.288735      -1.018677   \n",
       "\n",
       "   OSLO_temp_mean  OSLO_temp_min  OSLO_temp_max  SONNBLICK_cloud_cover  \\\n",
       "0       -0.186575       0.094958      -0.474865              -0.428835   \n",
       "1       -0.368598      -0.033545      -0.582847               0.350125   \n",
       "2       -0.550620      -0.316251      -0.777215               1.129085   \n",
       "\n",
       "   SONNBLICK_humidity  SONNBLICK_pressure  SONNBLICK_global_radiation  \\\n",
       "0           -0.629430            0.095234                    -1.24444   \n",
       "1            0.727065            0.067319                    -1.55317   \n",
       "2            0.500982            0.132454                    -1.55317   \n",
       "\n",
       "   SONNBLICK_precipitation  SONNBLICK_sunshine  SONNBLICK_temp_mean  \\\n",
       "0                -0.649856           -0.550327            -0.124331   \n",
       "1                 0.186476           -1.073269            -0.650834   \n",
       "2                 3.796642           -1.073269            -0.650834   \n",
       "\n",
       "   SONNBLICK_temp_min  SONNBLICK_temp_max  STOCKHOLM_cloud_cover  \\\n",
       "0           -0.170125           -0.063322              -0.060102   \n",
       "1           -0.456455           -0.839563              -0.060102   \n",
       "2           -0.384873           -0.898147              -0.060102   \n",
       "\n",
       "   STOCKHOLM_pressure  STOCKHOLM_humidity  STOCKHOLM_global_radiation  \\\n",
       "0           -0.003465            1.544023                   -1.079126   \n",
       "1           -0.003465           -0.712374                   -1.079126   \n",
       "2           -0.003465           -0.273630                   -1.079126   \n",
       "\n",
       "   STOCKHOLM_precipitation  STOCKHOLM_sunshine  STOCKHOLM_temp_mean  \\\n",
       "0                 0.479131           -1.013295            -0.391072   \n",
       "1                -0.251691           -1.013295            -0.415953   \n",
       "2                -0.364125           -1.013295            -0.615003   \n",
       "\n",
       "   STOCKHOLM_temp_min  STOCKHOLM_temp_max  VALENTIA_cloud_cover  \\\n",
       "0           -0.290439           -0.639538             -0.443701   \n",
       "1           -0.183610           -0.628550              0.783085   \n",
       "2           -0.410621           -0.727444              0.783085   \n",
       "\n",
       "   VALENTIA_humidity  VALENTIA_pressure  VALENTIA_global_radiation  \\\n",
       "0           0.761754          -1.299744                  -0.806427   \n",
       "1           1.183580          -1.262455                  -1.042055   \n",
       "2           1.183580          -0.432779                  -1.136306   \n",
       "\n",
       "   VALENTIA_precipitation  VALENTIA_sunshine  VALENTIA_temp_mean  \\\n",
       "0               -0.088407           0.372147           -0.668215   \n",
       "1                0.503361          -0.829285           -0.548046   \n",
       "2               -0.396127          -1.009500           -0.067372   \n",
       "\n",
       "   VALENTIA_temp_min  VALENTIA_temp_max  \n",
       "0          -0.519743          -0.752237  \n",
       "1          -0.629054          -0.407141  \n",
       "2           0.054135          -0.177078  "
      ]
     },
     "execution_count": 11,
     "metadata": {},
     "output_type": "execute_result"
    }
   ],
   "source": [
    "x.head(3)"
   ]
  },
  {
   "cell_type": "code",
   "execution_count": 12,
   "id": "ec4083d5-6f4e-4b60-9476-5c0fa27f9988",
   "metadata": {},
   "outputs": [
    {
     "data": {
      "text/html": [
       "<div>\n",
       "<style scoped>\n",
       "    .dataframe tbody tr th:only-of-type {\n",
       "        vertical-align: middle;\n",
       "    }\n",
       "\n",
       "    .dataframe tbody tr th {\n",
       "        vertical-align: top;\n",
       "    }\n",
       "\n",
       "    .dataframe thead th {\n",
       "        text-align: right;\n",
       "    }\n",
       "</style>\n",
       "<table border=\"1\" class=\"dataframe\">\n",
       "  <thead>\n",
       "    <tr style=\"text-align: right;\">\n",
       "      <th></th>\n",
       "      <th>DATE</th>\n",
       "      <th>BASEL_pleasant_weather</th>\n",
       "      <th>BELGRADE_pleasant_weather</th>\n",
       "      <th>BUDAPEST_pleasant_weather</th>\n",
       "      <th>DEBILT_pleasant_weather</th>\n",
       "      <th>DUSSELDORF_pleasant_weather</th>\n",
       "      <th>HEATHROW_pleasant_weather</th>\n",
       "      <th>KASSEL_pleasant_weather</th>\n",
       "      <th>LJUBLJANA_pleasant_weather</th>\n",
       "      <th>MAASTRICHT_pleasant_weather</th>\n",
       "      <th>MADRID_pleasant_weather</th>\n",
       "      <th>MUNCHENB_pleasant_weather</th>\n",
       "      <th>OSLO_pleasant_weather</th>\n",
       "      <th>SONNBLICK_pleasant_weather</th>\n",
       "      <th>STOCKHOLM_pleasant_weather</th>\n",
       "      <th>VALENTIA_pleasant_weather</th>\n",
       "    </tr>\n",
       "  </thead>\n",
       "  <tbody>\n",
       "    <tr>\n",
       "      <th>0</th>\n",
       "      <td>19600101</td>\n",
       "      <td>0</td>\n",
       "      <td>0</td>\n",
       "      <td>0</td>\n",
       "      <td>0</td>\n",
       "      <td>0</td>\n",
       "      <td>0</td>\n",
       "      <td>0</td>\n",
       "      <td>0</td>\n",
       "      <td>0</td>\n",
       "      <td>0</td>\n",
       "      <td>0</td>\n",
       "      <td>0</td>\n",
       "      <td>0</td>\n",
       "      <td>0</td>\n",
       "      <td>0</td>\n",
       "    </tr>\n",
       "    <tr>\n",
       "      <th>1</th>\n",
       "      <td>19600102</td>\n",
       "      <td>0</td>\n",
       "      <td>0</td>\n",
       "      <td>0</td>\n",
       "      <td>0</td>\n",
       "      <td>0</td>\n",
       "      <td>0</td>\n",
       "      <td>0</td>\n",
       "      <td>0</td>\n",
       "      <td>0</td>\n",
       "      <td>0</td>\n",
       "      <td>0</td>\n",
       "      <td>0</td>\n",
       "      <td>0</td>\n",
       "      <td>0</td>\n",
       "      <td>0</td>\n",
       "    </tr>\n",
       "    <tr>\n",
       "      <th>2</th>\n",
       "      <td>19600103</td>\n",
       "      <td>0</td>\n",
       "      <td>0</td>\n",
       "      <td>0</td>\n",
       "      <td>0</td>\n",
       "      <td>0</td>\n",
       "      <td>0</td>\n",
       "      <td>0</td>\n",
       "      <td>0</td>\n",
       "      <td>0</td>\n",
       "      <td>0</td>\n",
       "      <td>0</td>\n",
       "      <td>0</td>\n",
       "      <td>0</td>\n",
       "      <td>0</td>\n",
       "      <td>0</td>\n",
       "    </tr>\n",
       "  </tbody>\n",
       "</table>\n",
       "</div>"
      ],
      "text/plain": [
       "       DATE  BASEL_pleasant_weather  BELGRADE_pleasant_weather  \\\n",
       "0  19600101                       0                          0   \n",
       "1  19600102                       0                          0   \n",
       "2  19600103                       0                          0   \n",
       "\n",
       "   BUDAPEST_pleasant_weather  DEBILT_pleasant_weather  \\\n",
       "0                          0                        0   \n",
       "1                          0                        0   \n",
       "2                          0                        0   \n",
       "\n",
       "   DUSSELDORF_pleasant_weather  HEATHROW_pleasant_weather  \\\n",
       "0                            0                          0   \n",
       "1                            0                          0   \n",
       "2                            0                          0   \n",
       "\n",
       "   KASSEL_pleasant_weather  LJUBLJANA_pleasant_weather  \\\n",
       "0                        0                           0   \n",
       "1                        0                           0   \n",
       "2                        0                           0   \n",
       "\n",
       "   MAASTRICHT_pleasant_weather  MADRID_pleasant_weather  \\\n",
       "0                            0                        0   \n",
       "1                            0                        0   \n",
       "2                            0                        0   \n",
       "\n",
       "   MUNCHENB_pleasant_weather  OSLO_pleasant_weather  \\\n",
       "0                          0                      0   \n",
       "1                          0                      0   \n",
       "2                          0                      0   \n",
       "\n",
       "   SONNBLICK_pleasant_weather  STOCKHOLM_pleasant_weather  \\\n",
       "0                           0                           0   \n",
       "1                           0                           0   \n",
       "2                           0                           0   \n",
       "\n",
       "   VALENTIA_pleasant_weather  \n",
       "0                          0  \n",
       "1                          0  \n",
       "2                          0  "
      ]
     },
     "execution_count": 12,
     "metadata": {},
     "output_type": "execute_result"
    }
   ],
   "source": [
    "answers.head(3)"
   ]
  },
  {
   "cell_type": "code",
   "execution_count": 13,
   "id": "1d661431-2522-441d-a83e-50b3ded9893c",
   "metadata": {},
   "outputs": [
    {
     "data": {
      "text/plain": [
       "(22950, 135)"
      ]
     },
     "execution_count": 13,
     "metadata": {},
     "output_type": "execute_result"
    }
   ],
   "source": [
    "x.shape"
   ]
  },
  {
   "cell_type": "code",
   "execution_count": 14,
   "id": "4a93c391-71ee-4a69-ae85-a9b8fbc1c118",
   "metadata": {},
   "outputs": [
    {
     "data": {
      "text/plain": [
       "(22950, 16)"
      ]
     },
     "execution_count": 14,
     "metadata": {},
     "output_type": "execute_result"
    }
   ],
   "source": [
    "answers.shape"
   ]
  },
  {
   "cell_type": "markdown",
   "id": "2009d9b9-0575-4a06-aeb0-152625598d7c",
   "metadata": {},
   "source": [
    "### 2. DATA WRANGLING"
   ]
  },
  {
   "cell_type": "code",
   "execution_count": 15,
   "id": "803c31a2-b41c-4543-a570-2a7fb64b0a6a",
   "metadata": {},
   "outputs": [],
   "source": [
    "# Drop DATE column from answers\n",
    "answers.drop(columns = 'DATE', inplace = True)"
   ]
  },
  {
   "cell_type": "code",
   "execution_count": 16,
   "id": "328c9067-b2ab-4600-8343-aa7849e8d81b",
   "metadata": {},
   "outputs": [
    {
     "data": {
      "text/plain": [
       "(22950, 15)"
      ]
     },
     "execution_count": 16,
     "metadata": {},
     "output_type": "execute_result"
    }
   ],
   "source": [
    "answers.shape"
   ]
  },
  {
   "cell_type": "code",
   "execution_count": 17,
   "id": "5f03594b-227e-4cea-8103-f06c49a80a20",
   "metadata": {},
   "outputs": [],
   "source": [
    "y=answers"
   ]
  },
  {
   "cell_type": "code",
   "execution_count": 19,
   "id": "71a65971-861e-4de8-b72e-d7703cfc81f1",
   "metadata": {},
   "outputs": [
    {
     "data": {
      "text/plain": [
       "array([[ 6.60513663e-01,  8.26096599e-01, -1.94863388e-03, ...,\n",
       "        -6.68214979e-01, -5.19743407e-01, -7.52236990e-01],\n",
       "       [ 2.44896945e-01,  7.35759689e-01, -1.94863388e-03, ...,\n",
       "        -5.48046319e-01, -6.29053523e-01, -4.07141387e-01],\n",
       "       [ 1.07613038e+00,  1.27778115e+00, -1.94863388e-03, ...,\n",
       "        -6.73716818e-02,  5.41347039e-02, -1.77077651e-01],\n",
       "       ...,\n",
       "       [-5.86336492e-01,  1.30644098e-02,  7.16401992e-01, ...,\n",
       "        -7.28735214e-03, -5.20354258e-04, -4.52984969e-03],\n",
       "       [-1.70719774e-01,  3.74412049e-01,  4.87141154e-01, ...,\n",
       "        -7.28735214e-03, -5.20354258e-04, -4.52984969e-03],\n",
       "       [-1.70719774e-01,  7.35759689e-01,  1.96744092e-01, ...,\n",
       "        -7.28735214e-03, -5.20354258e-04, -4.52984969e-03]])"
      ]
     },
     "execution_count": 19,
     "metadata": {},
     "output_type": "execute_result"
    }
   ],
   "source": [
    "# Turn X and y into arrays\n",
    "x = np.array(x)\n",
    "y = np.array(y)\n",
    "x"
   ]
  },
  {
   "cell_type": "code",
   "execution_count": 21,
   "id": "b0f1fbef-f3c7-4fbb-9274-f97e7de7cd0b",
   "metadata": {},
   "outputs": [],
   "source": [
    "x = x.reshape(-1,15,9)"
   ]
  },
  {
   "cell_type": "code",
   "execution_count": 22,
   "id": "7a559506-c499-4962-887f-754a3caffa60",
   "metadata": {},
   "outputs": [
    {
     "data": {
      "text/plain": [
       "(22950, 15, 9)"
      ]
     },
     "execution_count": 22,
     "metadata": {},
     "output_type": "execute_result"
    }
   ],
   "source": [
    "# Verify Shape\n",
    "x.shape"
   ]
  },
  {
   "cell_type": "code",
   "execution_count": 23,
   "id": "8a2942ba-fc24-40e6-8a95-f7e5d0d057e8",
   "metadata": {},
   "outputs": [
    {
     "data": {
      "text/plain": [
       "(22950, 15)"
      ]
     },
     "execution_count": 23,
     "metadata": {},
     "output_type": "execute_result"
    }
   ],
   "source": [
    "# Verify Shape\n",
    "y.shape"
   ]
  },
  {
   "cell_type": "code",
   "execution_count": 24,
   "id": "98aacba0-a5d5-44b8-a432-f0338c3389a2",
   "metadata": {},
   "outputs": [
    {
     "data": {
      "text/plain": [
       "array([[[ 6.60513663e-01,  8.26096599e-01, -1.94863388e-03, ...,\n",
       "         -5.28623012e-01, -8.45651922e-01, -4.78356271e-01],\n",
       "        [-1.20643263e+00,  9.05270489e-01,  3.21770762e-01, ...,\n",
       "         -1.01687613e+00, -1.22021042e+00, -9.49202784e-01],\n",
       "        [-2.55240242e-01, -1.00976762e-02, -5.87602906e-03, ...,\n",
       "         -1.09916317e+00, -1.11943125e+00, -1.13683915e+00],\n",
       "        ...,\n",
       "        [-4.28835402e-01, -6.29430381e-01,  9.52340493e-02, ...,\n",
       "         -1.24330511e-01, -1.70125111e-01, -6.33220094e-02],\n",
       "        [-6.01023076e-02, -3.46465175e-03,  1.54402321e+00, ...,\n",
       "         -3.91072163e-01, -2.90438548e-01, -6.39537957e-01],\n",
       "        [-4.43700743e-01,  7.61754381e-01, -1.29974368e+00, ...,\n",
       "         -6.68214979e-01, -5.19743407e-01, -7.52236990e-01]],\n",
       "\n",
       "       [[ 2.44896945e-01,  7.35759689e-01, -1.94863388e-03, ...,\n",
       "         -5.82945633e-01, -4.62450189e-01, -5.69988328e-01],\n",
       "        [ 6.52845676e-01,  1.11911758e+00,  1.68378867e-02, ...,\n",
       "         -1.10766931e+00, -8.18701592e-01, -1.29811882e+00],\n",
       "        [-2.55240242e-01, -1.00976762e-02, -5.87602906e-03, ...,\n",
       "         -1.11092657e+00, -8.78726929e-01, -1.34120429e+00],\n",
       "        ...,\n",
       "        [ 3.50124784e-01,  7.27064520e-01,  6.73187494e-02, ...,\n",
       "         -6.50833918e-01, -4.56455409e-01, -8.39562901e-01],\n",
       "        [-6.01023076e-02, -3.46465175e-03, -7.12373579e-01, ...,\n",
       "         -4.15953321e-01, -1.83609613e-01, -6.28549761e-01],\n",
       "        [ 7.83084638e-01,  1.18357955e+00, -1.26245490e+00, ...,\n",
       "         -5.48046319e-01, -6.29053523e-01, -4.07141387e-01]],\n",
       "\n",
       "       [[ 1.07613038e+00,  1.27778115e+00, -1.94863388e-03, ...,\n",
       "         -2.57009907e-01, -1.86544941e-01, -5.92896342e-01],\n",
       "        [ 6.52845676e-01,  6.20141034e-01,  1.09643544e-01, ...,\n",
       "         -1.08497101e+00, -1.16840283e+00, -1.09873823e+00],\n",
       "        [-2.55240242e-01, -1.00976762e-02, -5.87602906e-03, ...,\n",
       "         -1.06387296e+00, -8.38609542e-01, -1.11640264e+00],\n",
       "        ...,\n",
       "        [ 1.12908497e+00,  5.00982036e-01,  1.32454449e-01, ...,\n",
       "         -6.50833918e-01, -3.84872834e-01, -8.98147119e-01],\n",
       "        [-6.01023076e-02, -3.46465175e-03, -2.73629759e-01, ...,\n",
       "         -6.15002578e-01, -4.10621099e-01, -7.27443533e-01],\n",
       "        [ 7.83084638e-01,  1.18357955e+00, -4.32779415e-01, ...,\n",
       "         -6.73716818e-02,  5.41347039e-02, -1.77077651e-01]],\n",
       "\n",
       "       ...,\n",
       "\n",
       "       [[-5.86336492e-01,  1.30644098e-02,  7.16401992e-01, ...,\n",
       "          8.56603825e-01,  1.03970060e+00,  8.38854551e-01],\n",
       "        [-8.34576965e-01, -2.14002390e-02,  1.42218070e+00, ...,\n",
       "          8.39911037e-02,  1.02198657e-02,  7.76072667e-02],\n",
       "        [-2.55240242e-01, -1.00976762e-02, -5.87602906e-03, ...,\n",
       "         -5.16667121e-03, -9.51688132e-03, -2.61266797e-03],\n",
       "        ...,\n",
       "        [-8.18315494e-01, -7.70355129e-03, -1.43225559e-04, ...,\n",
       "          1.22117820e+00,  1.34742547e+00,  1.06442419e+00],\n",
       "        [-6.01023076e-02, -2.08051884e-01,  7.29213258e-01, ...,\n",
       "          7.16139333e-01,  1.03156952e+00,  4.04340749e-01],\n",
       "        [-4.43700743e-01, -8.18959634e-02, -3.95837927e-03, ...,\n",
       "         -7.28735214e-03, -5.20354258e-04, -4.52984969e-03]],\n",
       "\n",
       "       [[-1.70719774e-01,  3.74412049e-01,  4.87141154e-01, ...,\n",
       "          6.80055307e-01,  8.09779564e-01,  6.89952458e-01],\n",
       "        [-1.20643263e+00, -2.14002390e-02,  8.91862658e-01, ...,\n",
       "          2.65577452e-01,  7.49793545e-02,  3.46771067e-01],\n",
       "        [-2.55240242e-01, -1.00976762e-02, -5.87602906e-03, ...,\n",
       "         -5.16667121e-03, -9.51688132e-03, -2.61266797e-03],\n",
       "        ...,\n",
       "        [-8.18315494e-01, -7.70355129e-03, -1.43225559e-04, ...,\n",
       "          1.23580329e+00,  1.43332455e+00,  1.00583997e+00],\n",
       "        [-6.01023076e-02,  1.67644670e-01,  1.29331245e+00, ...,\n",
       "          1.94669307e-02,  9.68163404e-02,  1.84576811e-01],\n",
       "        [-4.43700743e-01, -8.18959634e-02, -3.95837927e-03, ...,\n",
       "         -7.28735214e-03, -5.20354258e-04, -4.52984969e-03]],\n",
       "\n",
       "       [[-1.70719774e-01,  7.35759689e-01,  1.96744092e-01, ...,\n",
       "          4.22022857e-01,  5.49202386e-01,  4.72326323e-01],\n",
       "        [-9.08656446e-02, -2.14002390e-02,  8.52088805e-01, ...,\n",
       "          1.97482571e-01,  2.43354025e-01,  9.75453259e-02],\n",
       "        [-2.55240242e-01, -1.00976762e-02, -5.87602906e-03, ...,\n",
       "         -5.16667121e-03, -9.51688132e-03, -2.61266797e-03],\n",
       "        ...,\n",
       "        [-4.28835402e-01, -7.70355129e-03, -1.43225559e-04, ...,\n",
       "          9.87176683e-01,  1.14699426e+00,  8.00795209e-01],\n",
       "        [-6.01023076e-02,  1.82523741e-01,  1.48134552e+00, ...,\n",
       "          2.93159660e-01,  8.34627236e-02,  2.06553205e-01],\n",
       "        [-4.43700743e-01, -8.18959634e-02, -3.95837927e-03, ...,\n",
       "         -7.28735214e-03, -5.20354258e-04, -4.52984969e-03]]])"
      ]
     },
     "execution_count": 24,
     "metadata": {},
     "output_type": "execute_result"
    }
   ],
   "source": [
    "x"
   ]
  },
  {
   "cell_type": "markdown",
   "id": "0bfdff63-3641-4abb-97c9-842116012f0b",
   "metadata": {},
   "source": [
    "### 3. DATA SPLITTING"
   ]
  },
  {
   "cell_type": "code",
   "execution_count": 26,
   "id": "3567f060-5b52-41c5-83c9-ffce392caafb",
   "metadata": {},
   "outputs": [],
   "source": [
    "# Split data into train and test sets\n",
    "\n",
    "x_train, x_test, y_train, y_test = train_test_split(x,y,random_state = 42)"
   ]
  },
  {
   "cell_type": "code",
   "execution_count": 27,
   "id": "11a06504-c78a-43b0-b111-aa795ee3edd3",
   "metadata": {},
   "outputs": [
    {
     "name": "stdout",
     "output_type": "stream",
     "text": [
      "(17212, 15, 9) (17212, 15)\n",
      "(5738, 15, 9) (5738, 15)\n"
     ]
    }
   ],
   "source": [
    "print(x_train.shape, y_train.shape)\n",
    "print(x_test.shape, y_test.shape)"
   ]
  },
  {
   "cell_type": "markdown",
   "id": "af8bedf4-eaaf-47b1-804d-034439ab78fa",
   "metadata": {},
   "source": [
    "### 4. KERAS MODEL CREATION"
   ]
  },
  {
   "cell_type": "code",
   "execution_count": 28,
   "id": "91db55ea-4976-4127-822a-a6e9b4c98aec",
   "metadata": {},
   "outputs": [],
   "source": [
    "epochs = 30\n",
    "batch_size = 16\n",
    "n_hidden = 64\n",
    "\n",
    "timesteps = len(x_train[0])\n",
    "input_dim = len(x_train[0][0])\n",
    "n_classes = len(y_train[0])\n",
    "\n",
    "model = Sequential()\n",
    "model.add(Conv1D(n_hidden, kernel_size=2, activation='relu', input_shape=(timesteps, input_dim)))\n",
    "model.add(MaxPooling1D())\n",
    "model.add(LSTM(n_hidden, input_shape=(timesteps, input_dim)))\n",
    "model.add(Dropout(0.5))\n",
    "model.add(Dense(n_classes, activation='tanh')) # Don't use relu here!"
   ]
  },
  {
   "cell_type": "code",
   "execution_count": 29,
   "id": "129f4bc5-4521-417d-ae96-a6337b3a8c1d",
   "metadata": {},
   "outputs": [
    {
     "data": {
      "text/html": [
       "<pre style=\"white-space:pre;overflow-x:auto;line-height:normal;font-family:Menlo,'DejaVu Sans Mono',consolas,'Courier New',monospace\"><span style=\"font-weight: bold\">Model: \"sequential\"</span>\n",
       "</pre>\n"
      ],
      "text/plain": [
       "\u001b[1mModel: \"sequential\"\u001b[0m\n"
      ]
     },
     "metadata": {},
     "output_type": "display_data"
    },
    {
     "data": {
      "text/html": [
       "<pre style=\"white-space:pre;overflow-x:auto;line-height:normal;font-family:Menlo,'DejaVu Sans Mono',consolas,'Courier New',monospace\">┏━━━━━━━━━━━━━━━━━━━━━━━━━━━━━━━━━┳━━━━━━━━━━━━━━━━━━━━━━━━┳━━━━━━━━━━━━━━━┓\n",
       "┃<span style=\"font-weight: bold\"> Layer (type)                    </span>┃<span style=\"font-weight: bold\"> Output Shape           </span>┃<span style=\"font-weight: bold\">       Param # </span>┃\n",
       "┡━━━━━━━━━━━━━━━━━━━━━━━━━━━━━━━━━╇━━━━━━━━━━━━━━━━━━━━━━━━╇━━━━━━━━━━━━━━━┩\n",
       "│ conv1d (<span style=\"color: #0087ff; text-decoration-color: #0087ff\">Conv1D</span>)                 │ (<span style=\"color: #00d7ff; text-decoration-color: #00d7ff\">None</span>, <span style=\"color: #00af00; text-decoration-color: #00af00\">14</span>, <span style=\"color: #00af00; text-decoration-color: #00af00\">64</span>)         │         <span style=\"color: #00af00; text-decoration-color: #00af00\">1,216</span> │\n",
       "├─────────────────────────────────┼────────────────────────┼───────────────┤\n",
       "│ max_pooling1d (<span style=\"color: #0087ff; text-decoration-color: #0087ff\">MaxPooling1D</span>)    │ (<span style=\"color: #00d7ff; text-decoration-color: #00d7ff\">None</span>, <span style=\"color: #00af00; text-decoration-color: #00af00\">7</span>, <span style=\"color: #00af00; text-decoration-color: #00af00\">64</span>)          │             <span style=\"color: #00af00; text-decoration-color: #00af00\">0</span> │\n",
       "├─────────────────────────────────┼────────────────────────┼───────────────┤\n",
       "│ lstm (<span style=\"color: #0087ff; text-decoration-color: #0087ff\">LSTM</span>)                     │ (<span style=\"color: #00d7ff; text-decoration-color: #00d7ff\">None</span>, <span style=\"color: #00af00; text-decoration-color: #00af00\">64</span>)             │        <span style=\"color: #00af00; text-decoration-color: #00af00\">33,024</span> │\n",
       "├─────────────────────────────────┼────────────────────────┼───────────────┤\n",
       "│ dropout (<span style=\"color: #0087ff; text-decoration-color: #0087ff\">Dropout</span>)               │ (<span style=\"color: #00d7ff; text-decoration-color: #00d7ff\">None</span>, <span style=\"color: #00af00; text-decoration-color: #00af00\">64</span>)             │             <span style=\"color: #00af00; text-decoration-color: #00af00\">0</span> │\n",
       "├─────────────────────────────────┼────────────────────────┼───────────────┤\n",
       "│ dense (<span style=\"color: #0087ff; text-decoration-color: #0087ff\">Dense</span>)                   │ (<span style=\"color: #00d7ff; text-decoration-color: #00d7ff\">None</span>, <span style=\"color: #00af00; text-decoration-color: #00af00\">15</span>)             │           <span style=\"color: #00af00; text-decoration-color: #00af00\">975</span> │\n",
       "└─────────────────────────────────┴────────────────────────┴───────────────┘\n",
       "</pre>\n"
      ],
      "text/plain": [
       "┏━━━━━━━━━━━━━━━━━━━━━━━━━━━━━━━━━┳━━━━━━━━━━━━━━━━━━━━━━━━┳━━━━━━━━━━━━━━━┓\n",
       "┃\u001b[1m \u001b[0m\u001b[1mLayer (type)                   \u001b[0m\u001b[1m \u001b[0m┃\u001b[1m \u001b[0m\u001b[1mOutput Shape          \u001b[0m\u001b[1m \u001b[0m┃\u001b[1m \u001b[0m\u001b[1m      Param #\u001b[0m\u001b[1m \u001b[0m┃\n",
       "┡━━━━━━━━━━━━━━━━━━━━━━━━━━━━━━━━━╇━━━━━━━━━━━━━━━━━━━━━━━━╇━━━━━━━━━━━━━━━┩\n",
       "│ conv1d (\u001b[38;5;33mConv1D\u001b[0m)                 │ (\u001b[38;5;45mNone\u001b[0m, \u001b[38;5;34m14\u001b[0m, \u001b[38;5;34m64\u001b[0m)         │         \u001b[38;5;34m1,216\u001b[0m │\n",
       "├─────────────────────────────────┼────────────────────────┼───────────────┤\n",
       "│ max_pooling1d (\u001b[38;5;33mMaxPooling1D\u001b[0m)    │ (\u001b[38;5;45mNone\u001b[0m, \u001b[38;5;34m7\u001b[0m, \u001b[38;5;34m64\u001b[0m)          │             \u001b[38;5;34m0\u001b[0m │\n",
       "├─────────────────────────────────┼────────────────────────┼───────────────┤\n",
       "│ lstm (\u001b[38;5;33mLSTM\u001b[0m)                     │ (\u001b[38;5;45mNone\u001b[0m, \u001b[38;5;34m64\u001b[0m)             │        \u001b[38;5;34m33,024\u001b[0m │\n",
       "├─────────────────────────────────┼────────────────────────┼───────────────┤\n",
       "│ dropout (\u001b[38;5;33mDropout\u001b[0m)               │ (\u001b[38;5;45mNone\u001b[0m, \u001b[38;5;34m64\u001b[0m)             │             \u001b[38;5;34m0\u001b[0m │\n",
       "├─────────────────────────────────┼────────────────────────┼───────────────┤\n",
       "│ dense (\u001b[38;5;33mDense\u001b[0m)                   │ (\u001b[38;5;45mNone\u001b[0m, \u001b[38;5;34m15\u001b[0m)             │           \u001b[38;5;34m975\u001b[0m │\n",
       "└─────────────────────────────────┴────────────────────────┴───────────────┘\n"
      ]
     },
     "metadata": {},
     "output_type": "display_data"
    },
    {
     "data": {
      "text/html": [
       "<pre style=\"white-space:pre;overflow-x:auto;line-height:normal;font-family:Menlo,'DejaVu Sans Mono',consolas,'Courier New',monospace\"><span style=\"font-weight: bold\"> Total params: </span><span style=\"color: #00af00; text-decoration-color: #00af00\">35,215</span> (137.56 KB)\n",
       "</pre>\n"
      ],
      "text/plain": [
       "\u001b[1m Total params: \u001b[0m\u001b[38;5;34m35,215\u001b[0m (137.56 KB)\n"
      ]
     },
     "metadata": {},
     "output_type": "display_data"
    },
    {
     "data": {
      "text/html": [
       "<pre style=\"white-space:pre;overflow-x:auto;line-height:normal;font-family:Menlo,'DejaVu Sans Mono',consolas,'Courier New',monospace\"><span style=\"font-weight: bold\"> Trainable params: </span><span style=\"color: #00af00; text-decoration-color: #00af00\">35,215</span> (137.56 KB)\n",
       "</pre>\n"
      ],
      "text/plain": [
       "\u001b[1m Trainable params: \u001b[0m\u001b[38;5;34m35,215\u001b[0m (137.56 KB)\n"
      ]
     },
     "metadata": {},
     "output_type": "display_data"
    },
    {
     "data": {
      "text/html": [
       "<pre style=\"white-space:pre;overflow-x:auto;line-height:normal;font-family:Menlo,'DejaVu Sans Mono',consolas,'Courier New',monospace\"><span style=\"font-weight: bold\"> Non-trainable params: </span><span style=\"color: #00af00; text-decoration-color: #00af00\">0</span> (0.00 B)\n",
       "</pre>\n"
      ],
      "text/plain": [
       "\u001b[1m Non-trainable params: \u001b[0m\u001b[38;5;34m0\u001b[0m (0.00 B)\n"
      ]
     },
     "metadata": {},
     "output_type": "display_data"
    }
   ],
   "source": [
    "model.summary()"
   ]
  },
  {
   "cell_type": "markdown",
   "id": "d6da21b0-20fe-4330-9a53-410e20609588",
   "metadata": {},
   "source": [
    "### 5. COMPILING RUNNING MODEL"
   ]
  },
  {
   "cell_type": "code",
   "execution_count": 31,
   "id": "2a161b08-52e7-4250-bc55-5e015be07b24",
   "metadata": {},
   "outputs": [],
   "source": [
    "model.compile(loss='categorical_crossentropy', optimizer='adam', metrics=['accuracy'])"
   ]
  },
  {
   "cell_type": "code",
   "execution_count": 34,
   "id": "be0810be-bcf0-4425-b436-6bc586a51ca2",
   "metadata": {},
   "outputs": [
    {
     "name": "stdout",
     "output_type": "stream",
     "text": [
      "Epoch 1/30\n",
      "1076/1076 - 5s - 4ms/step - accuracy: 0.1581 - loss: 24.8794\n",
      "Epoch 2/30\n",
      "1076/1076 - 3s - 3ms/step - accuracy: 0.1475 - loss: 24.9670\n",
      "Epoch 3/30\n",
      "1076/1076 - 3s - 3ms/step - accuracy: 0.0931 - loss: 24.7371\n",
      "Epoch 4/30\n",
      "1076/1076 - 3s - 3ms/step - accuracy: 0.0299 - loss: 25.0632\n",
      "Epoch 5/30\n",
      "1076/1076 - 3s - 3ms/step - accuracy: 0.0532 - loss: 24.4856\n",
      "Epoch 6/30\n",
      "1076/1076 - 3s - 3ms/step - accuracy: 0.0394 - loss: 24.7064\n",
      "Epoch 7/30\n",
      "1076/1076 - 3s - 3ms/step - accuracy: 0.0378 - loss: 24.8786\n",
      "Epoch 8/30\n",
      "1076/1076 - 3s - 3ms/step - accuracy: 0.0475 - loss: 24.4755\n",
      "Epoch 9/30\n",
      "1076/1076 - 3s - 3ms/step - accuracy: 0.0587 - loss: 23.5637\n",
      "Epoch 10/30\n",
      "1076/1076 - 3s - 3ms/step - accuracy: 0.0559 - loss: 24.3379\n",
      "Epoch 11/30\n",
      "1076/1076 - 3s - 3ms/step - accuracy: 0.0430 - loss: 24.0234\n",
      "Epoch 12/30\n",
      "1076/1076 - 3s - 3ms/step - accuracy: 0.0428 - loss: 24.4689\n",
      "Epoch 13/30\n",
      "1076/1076 - 3s - 3ms/step - accuracy: 0.0810 - loss: 24.9259\n",
      "Epoch 14/30\n",
      "1076/1076 - 3s - 3ms/step - accuracy: 0.0496 - loss: 24.6326\n",
      "Epoch 15/30\n",
      "1076/1076 - 3s - 3ms/step - accuracy: 0.0525 - loss: 24.5650\n",
      "Epoch 16/30\n",
      "1076/1076 - 3s - 3ms/step - accuracy: 0.0987 - loss: 24.6178\n",
      "Epoch 17/30\n",
      "1076/1076 - 3s - 3ms/step - accuracy: 0.1156 - loss: 24.4642\n",
      "Epoch 18/30\n",
      "1076/1076 - 3s - 3ms/step - accuracy: 0.0572 - loss: 24.9265\n",
      "Epoch 19/30\n",
      "1076/1076 - 3s - 3ms/step - accuracy: 0.0607 - loss: 24.6648\n",
      "Epoch 20/30\n",
      "1076/1076 - 3s - 3ms/step - accuracy: 0.0475 - loss: 24.3050\n",
      "Epoch 21/30\n",
      "1076/1076 - 3s - 3ms/step - accuracy: 0.0200 - loss: 24.6246\n",
      "Epoch 22/30\n",
      "1076/1076 - 3s - 3ms/step - accuracy: 0.0317 - loss: 24.3982\n",
      "Epoch 23/30\n",
      "1076/1076 - 3s - 3ms/step - accuracy: 0.0364 - loss: 24.4670\n",
      "Epoch 24/30\n",
      "1076/1076 - 3s - 3ms/step - accuracy: 0.0516 - loss: 24.5250\n",
      "Epoch 25/30\n",
      "1076/1076 - 3s - 3ms/step - accuracy: 0.0433 - loss: 24.6787\n",
      "Epoch 26/30\n",
      "1076/1076 - 3s - 3ms/step - accuracy: 0.0543 - loss: 24.6149\n",
      "Epoch 27/30\n",
      "1076/1076 - 3s - 3ms/step - accuracy: 0.0486 - loss: 24.3741\n",
      "Epoch 28/30\n",
      "1076/1076 - 3s - 3ms/step - accuracy: 0.0436 - loss: 24.3575\n",
      "Epoch 29/30\n",
      "1076/1076 - 3s - 3ms/step - accuracy: 0.0514 - loss: 24.4782\n",
      "Epoch 30/30\n",
      "1076/1076 - 3s - 3ms/step - accuracy: 0.0432 - loss: 24.4555\n"
     ]
    },
    {
     "data": {
      "text/plain": [
       "<keras.src.callbacks.history.History at 0x132363634d0>"
      ]
     },
     "execution_count": 34,
     "metadata": {},
     "output_type": "execute_result"
    }
   ],
   "source": [
    "model.fit(x_train, y_train, batch_size=batch_size, epochs=epochs, verbose=2)"
   ]
  },
  {
   "cell_type": "markdown",
   "id": "e2c3186a-2800-4240-91ec-b6cec914bd68",
   "metadata": {},
   "source": [
    "### 6. CONFUSION MATRIX CREATION"
   ]
  },
  {
   "cell_type": "code",
   "execution_count": 35,
   "id": "52099230-fc6b-4b49-bb54-6925020da1a2",
   "metadata": {},
   "outputs": [],
   "source": [
    "# Define list of stations names\n",
    "\n",
    "stations = {\n",
    "0: 'BASEL',\n",
    "1: 'BELGRADE',\n",
    "2: 'BUDAPEST',\n",
    "3: 'DEBILT',\n",
    "4: 'DUSSELDORF',\n",
    "5: 'HEATHROW',\n",
    "6: 'KASSEL',\n",
    "7: 'LJUBLJANA',\n",
    "8: 'MAASTRICHT',\n",
    "9: 'MADRID',\n",
    "10: 'MUNCHENB',\n",
    "11: 'OSLO',\n",
    "12: 'SONNBLICK',\n",
    "13: 'STOCKHOLM',\n",
    "14: 'VALENTIA'\n",
    "\n",
    "}"
   ]
  },
  {
   "cell_type": "code",
   "execution_count": 36,
   "id": "ca71b137-fed4-4173-8803-16e6fb2bfce8",
   "metadata": {},
   "outputs": [],
   "source": [
    "def confusion_matrix(y_true, y_pred):\n",
    "    y_true = pd.Series([stations[y] for y in np.argmax(y_true, axis=1)])\n",
    "    y_pred = pd.Series([stations[y] for y in np.argmax(y_pred, axis=1)])\n",
    "\n",
    "    return pd.crosstab(y_true, y_pred, rownames=['True'], colnames=['Pred'])"
   ]
  },
  {
   "cell_type": "code",
   "execution_count": 37,
   "id": "0f3db42e-7484-4171-9ade-47aedd042897",
   "metadata": {},
   "outputs": [
    {
     "name": "stdout",
     "output_type": "stream",
     "text": [
      "\u001b[1m180/180\u001b[0m \u001b[32m━━━━━━━━━━━━━━━━━━━━\u001b[0m\u001b[37m\u001b[0m \u001b[1m0s\u001b[0m 2ms/step\n",
      "Pred        LJUBLJANA  MADRID  STOCKHOLM  VALENTIA\n",
      "True                                              \n",
      "BASEL              49    1861       1681        91\n",
      "BELGRADE           13      42       1006        31\n",
      "BUDAPEST            1       2        211         0\n",
      "DEBILT              0       0         82         0\n",
      "DUSSELDORF          0       1         28         0\n",
      "HEATHROW            0       1         80         1\n",
      "KASSEL              0       0         11         0\n",
      "LJUBLJANA           0       0         59         2\n",
      "MAASTRICHT          0       0          8         1\n",
      "MADRID             15     104        325        14\n",
      "MUNCHENB            1       0          7         0\n",
      "OSLO                0       0          5         0\n",
      "STOCKHOLM           0       0          4         0\n",
      "VALENTIA            0       0          1         0\n"
     ]
    }
   ],
   "source": [
    "# Evaluate\n",
    "print(confusion_matrix(y_test, model.predict(x_test)))"
   ]
  },
  {
   "cell_type": "code",
   "execution_count": 38,
   "id": "b4135377-a598-4a31-abcf-d41e5a4d577d",
   "metadata": {},
   "outputs": [],
   "source": [
    "epochs = 30\n",
    "batch_size = 16\n",
    "n_hidden = 4\n",
    "\n",
    "timesteps = len(x_train[0])\n",
    "input_dim = len(x_train[0][0])\n",
    "n_classes = len(y_train[0])\n",
    "\n",
    "model = Sequential()\n",
    "model.add(Conv1D(n_hidden, kernel_size=2, activation='relu', input_shape=(timesteps, input_dim)))\n",
    "model.add(Dense(16, activation='relu'))\n",
    "model.add(MaxPooling1D())\n",
    "model.add(Flatten())\n",
    "model.add(Dense(n_classes, activation='softmax')) # Options: sigmoid, tanh, softmax, relu"
   ]
  },
  {
   "cell_type": "code",
   "execution_count": 39,
   "id": "863ddbce-ccc9-4ee0-8647-85c345ecf25d",
   "metadata": {},
   "outputs": [
    {
     "data": {
      "text/html": [
       "<pre style=\"white-space:pre;overflow-x:auto;line-height:normal;font-family:Menlo,'DejaVu Sans Mono',consolas,'Courier New',monospace\"><span style=\"font-weight: bold\">Model: \"sequential_1\"</span>\n",
       "</pre>\n"
      ],
      "text/plain": [
       "\u001b[1mModel: \"sequential_1\"\u001b[0m\n"
      ]
     },
     "metadata": {},
     "output_type": "display_data"
    },
    {
     "data": {
      "text/html": [
       "<pre style=\"white-space:pre;overflow-x:auto;line-height:normal;font-family:Menlo,'DejaVu Sans Mono',consolas,'Courier New',monospace\">┏━━━━━━━━━━━━━━━━━━━━━━━━━━━━━━━━━┳━━━━━━━━━━━━━━━━━━━━━━━━┳━━━━━━━━━━━━━━━┓\n",
       "┃<span style=\"font-weight: bold\"> Layer (type)                    </span>┃<span style=\"font-weight: bold\"> Output Shape           </span>┃<span style=\"font-weight: bold\">       Param # </span>┃\n",
       "┡━━━━━━━━━━━━━━━━━━━━━━━━━━━━━━━━━╇━━━━━━━━━━━━━━━━━━━━━━━━╇━━━━━━━━━━━━━━━┩\n",
       "│ conv1d_1 (<span style=\"color: #0087ff; text-decoration-color: #0087ff\">Conv1D</span>)               │ (<span style=\"color: #00d7ff; text-decoration-color: #00d7ff\">None</span>, <span style=\"color: #00af00; text-decoration-color: #00af00\">14</span>, <span style=\"color: #00af00; text-decoration-color: #00af00\">4</span>)          │            <span style=\"color: #00af00; text-decoration-color: #00af00\">76</span> │\n",
       "├─────────────────────────────────┼────────────────────────┼───────────────┤\n",
       "│ dense_1 (<span style=\"color: #0087ff; text-decoration-color: #0087ff\">Dense</span>)                 │ (<span style=\"color: #00d7ff; text-decoration-color: #00d7ff\">None</span>, <span style=\"color: #00af00; text-decoration-color: #00af00\">14</span>, <span style=\"color: #00af00; text-decoration-color: #00af00\">16</span>)         │            <span style=\"color: #00af00; text-decoration-color: #00af00\">80</span> │\n",
       "├─────────────────────────────────┼────────────────────────┼───────────────┤\n",
       "│ max_pooling1d_1 (<span style=\"color: #0087ff; text-decoration-color: #0087ff\">MaxPooling1D</span>)  │ (<span style=\"color: #00d7ff; text-decoration-color: #00d7ff\">None</span>, <span style=\"color: #00af00; text-decoration-color: #00af00\">7</span>, <span style=\"color: #00af00; text-decoration-color: #00af00\">16</span>)          │             <span style=\"color: #00af00; text-decoration-color: #00af00\">0</span> │\n",
       "├─────────────────────────────────┼────────────────────────┼───────────────┤\n",
       "│ flatten (<span style=\"color: #0087ff; text-decoration-color: #0087ff\">Flatten</span>)               │ (<span style=\"color: #00d7ff; text-decoration-color: #00d7ff\">None</span>, <span style=\"color: #00af00; text-decoration-color: #00af00\">112</span>)            │             <span style=\"color: #00af00; text-decoration-color: #00af00\">0</span> │\n",
       "├─────────────────────────────────┼────────────────────────┼───────────────┤\n",
       "│ dense_2 (<span style=\"color: #0087ff; text-decoration-color: #0087ff\">Dense</span>)                 │ (<span style=\"color: #00d7ff; text-decoration-color: #00d7ff\">None</span>, <span style=\"color: #00af00; text-decoration-color: #00af00\">15</span>)             │         <span style=\"color: #00af00; text-decoration-color: #00af00\">1,695</span> │\n",
       "└─────────────────────────────────┴────────────────────────┴───────────────┘\n",
       "</pre>\n"
      ],
      "text/plain": [
       "┏━━━━━━━━━━━━━━━━━━━━━━━━━━━━━━━━━┳━━━━━━━━━━━━━━━━━━━━━━━━┳━━━━━━━━━━━━━━━┓\n",
       "┃\u001b[1m \u001b[0m\u001b[1mLayer (type)                   \u001b[0m\u001b[1m \u001b[0m┃\u001b[1m \u001b[0m\u001b[1mOutput Shape          \u001b[0m\u001b[1m \u001b[0m┃\u001b[1m \u001b[0m\u001b[1m      Param #\u001b[0m\u001b[1m \u001b[0m┃\n",
       "┡━━━━━━━━━━━━━━━━━━━━━━━━━━━━━━━━━╇━━━━━━━━━━━━━━━━━━━━━━━━╇━━━━━━━━━━━━━━━┩\n",
       "│ conv1d_1 (\u001b[38;5;33mConv1D\u001b[0m)               │ (\u001b[38;5;45mNone\u001b[0m, \u001b[38;5;34m14\u001b[0m, \u001b[38;5;34m4\u001b[0m)          │            \u001b[38;5;34m76\u001b[0m │\n",
       "├─────────────────────────────────┼────────────────────────┼───────────────┤\n",
       "│ dense_1 (\u001b[38;5;33mDense\u001b[0m)                 │ (\u001b[38;5;45mNone\u001b[0m, \u001b[38;5;34m14\u001b[0m, \u001b[38;5;34m16\u001b[0m)         │            \u001b[38;5;34m80\u001b[0m │\n",
       "├─────────────────────────────────┼────────────────────────┼───────────────┤\n",
       "│ max_pooling1d_1 (\u001b[38;5;33mMaxPooling1D\u001b[0m)  │ (\u001b[38;5;45mNone\u001b[0m, \u001b[38;5;34m7\u001b[0m, \u001b[38;5;34m16\u001b[0m)          │             \u001b[38;5;34m0\u001b[0m │\n",
       "├─────────────────────────────────┼────────────────────────┼───────────────┤\n",
       "│ flatten (\u001b[38;5;33mFlatten\u001b[0m)               │ (\u001b[38;5;45mNone\u001b[0m, \u001b[38;5;34m112\u001b[0m)            │             \u001b[38;5;34m0\u001b[0m │\n",
       "├─────────────────────────────────┼────────────────────────┼───────────────┤\n",
       "│ dense_2 (\u001b[38;5;33mDense\u001b[0m)                 │ (\u001b[38;5;45mNone\u001b[0m, \u001b[38;5;34m15\u001b[0m)             │         \u001b[38;5;34m1,695\u001b[0m │\n",
       "└─────────────────────────────────┴────────────────────────┴───────────────┘\n"
      ]
     },
     "metadata": {},
     "output_type": "display_data"
    },
    {
     "data": {
      "text/html": [
       "<pre style=\"white-space:pre;overflow-x:auto;line-height:normal;font-family:Menlo,'DejaVu Sans Mono',consolas,'Courier New',monospace\"><span style=\"font-weight: bold\"> Total params: </span><span style=\"color: #00af00; text-decoration-color: #00af00\">1,851</span> (7.23 KB)\n",
       "</pre>\n"
      ],
      "text/plain": [
       "\u001b[1m Total params: \u001b[0m\u001b[38;5;34m1,851\u001b[0m (7.23 KB)\n"
      ]
     },
     "metadata": {},
     "output_type": "display_data"
    },
    {
     "data": {
      "text/html": [
       "<pre style=\"white-space:pre;overflow-x:auto;line-height:normal;font-family:Menlo,'DejaVu Sans Mono',consolas,'Courier New',monospace\"><span style=\"font-weight: bold\"> Trainable params: </span><span style=\"color: #00af00; text-decoration-color: #00af00\">1,851</span> (7.23 KB)\n",
       "</pre>\n"
      ],
      "text/plain": [
       "\u001b[1m Trainable params: \u001b[0m\u001b[38;5;34m1,851\u001b[0m (7.23 KB)\n"
      ]
     },
     "metadata": {},
     "output_type": "display_data"
    },
    {
     "data": {
      "text/html": [
       "<pre style=\"white-space:pre;overflow-x:auto;line-height:normal;font-family:Menlo,'DejaVu Sans Mono',consolas,'Courier New',monospace\"><span style=\"font-weight: bold\"> Non-trainable params: </span><span style=\"color: #00af00; text-decoration-color: #00af00\">0</span> (0.00 B)\n",
       "</pre>\n"
      ],
      "text/plain": [
       "\u001b[1m Non-trainable params: \u001b[0m\u001b[38;5;34m0\u001b[0m (0.00 B)\n"
      ]
     },
     "metadata": {},
     "output_type": "display_data"
    }
   ],
   "source": [
    "model.summary()"
   ]
  },
  {
   "cell_type": "code",
   "execution_count": 40,
   "id": "a2840e66-2068-4fc3-8862-5bb6c00bdae4",
   "metadata": {},
   "outputs": [],
   "source": [
    "model.compile(loss='categorical_crossentropy', optimizer='adam', metrics=['accuracy'])"
   ]
  },
  {
   "cell_type": "code",
   "execution_count": 41,
   "id": "c33d18e1-b874-43d1-9300-c708e7592785",
   "metadata": {},
   "outputs": [
    {
     "name": "stdout",
     "output_type": "stream",
     "text": [
      "Epoch 1/30\n",
      "1076/1076 - 2s - 2ms/step - accuracy: 0.1076 - loss: 270.8167\n",
      "Epoch 2/30\n",
      "1076/1076 - 2s - 2ms/step - accuracy: 0.1231 - loss: 2468.9407\n",
      "Epoch 3/30\n",
      "1076/1076 - 2s - 1ms/step - accuracy: 0.1024 - loss: 6253.7021\n",
      "Epoch 4/30\n",
      "1076/1076 - 2s - 1ms/step - accuracy: 0.1104 - loss: 13703.4463\n",
      "Epoch 5/30\n",
      "1076/1076 - 2s - 1ms/step - accuracy: 0.1156 - loss: 24925.6230\n",
      "Epoch 6/30\n",
      "1076/1076 - 2s - 2ms/step - accuracy: 0.1141 - loss: 39618.1406\n",
      "Epoch 7/30\n",
      "1076/1076 - 1s - 1ms/step - accuracy: 0.1230 - loss: 58611.3320\n",
      "Epoch 8/30\n",
      "1076/1076 - 2s - 1ms/step - accuracy: 0.1231 - loss: 83694.6719\n",
      "Epoch 9/30\n",
      "1076/1076 - 1s - 1ms/step - accuracy: 0.1291 - loss: 112116.0078\n",
      "Epoch 10/30\n",
      "1076/1076 - 1s - 1ms/step - accuracy: 0.1257 - loss: 146518.3906\n",
      "Epoch 11/30\n",
      "1076/1076 - 2s - 1ms/step - accuracy: 0.1289 - loss: 188041.1875\n",
      "Epoch 12/30\n",
      "1076/1076 - 2s - 2ms/step - accuracy: 0.1278 - loss: 233736.3438\n",
      "Epoch 13/30\n",
      "1076/1076 - 2s - 2ms/step - accuracy: 0.1357 - loss: 289077.4375\n",
      "Epoch 14/30\n",
      "1076/1076 - 2s - 1ms/step - accuracy: 0.1320 - loss: 351225.5938\n",
      "Epoch 15/30\n",
      "1076/1076 - 2s - 2ms/step - accuracy: 0.1364 - loss: 420305.9375\n",
      "Epoch 16/30\n",
      "1076/1076 - 2s - 1ms/step - accuracy: 0.1271 - loss: 497229.1250\n",
      "Epoch 17/30\n",
      "1076/1076 - 1s - 1ms/step - accuracy: 0.1334 - loss: 584813.7500\n",
      "Epoch 18/30\n",
      "1076/1076 - 2s - 1ms/step - accuracy: 0.1275 - loss: 675778.4375\n",
      "Epoch 19/30\n",
      "1076/1076 - 2s - 1ms/step - accuracy: 0.1303 - loss: 780958.8125\n",
      "Epoch 20/30\n",
      "1076/1076 - 1s - 1ms/step - accuracy: 0.1257 - loss: 895270.2500\n",
      "Epoch 21/30\n",
      "1076/1076 - 2s - 1ms/step - accuracy: 0.1366 - loss: 1022769.5625\n",
      "Epoch 22/30\n",
      "1076/1076 - 2s - 2ms/step - accuracy: 0.1255 - loss: 1152304.5000\n",
      "Epoch 23/30\n",
      "1076/1076 - 2s - 2ms/step - accuracy: 0.1343 - loss: 1296771.7500\n",
      "Epoch 24/30\n",
      "1076/1076 - 2s - 1ms/step - accuracy: 0.1351 - loss: 1449612.7500\n",
      "Epoch 25/30\n",
      "1076/1076 - 1s - 1ms/step - accuracy: 0.1404 - loss: 1629231.2500\n",
      "Epoch 26/30\n",
      "1076/1076 - 1s - 1ms/step - accuracy: 0.1382 - loss: 1797252.2500\n",
      "Epoch 27/30\n",
      "1076/1076 - 1s - 1ms/step - accuracy: 0.1419 - loss: 1979584.2500\n",
      "Epoch 28/30\n",
      "1076/1076 - 1s - 1ms/step - accuracy: 0.1423 - loss: 2206930.2500\n",
      "Epoch 29/30\n",
      "1076/1076 - 2s - 1ms/step - accuracy: 0.1477 - loss: 2424034.2500\n",
      "Epoch 30/30\n",
      "1076/1076 - 2s - 2ms/step - accuracy: 0.1379 - loss: 2663888.2500\n"
     ]
    },
    {
     "data": {
      "text/plain": [
       "<keras.src.callbacks.history.History at 0x132395c7170>"
      ]
     },
     "execution_count": 41,
     "metadata": {},
     "output_type": "execute_result"
    }
   ],
   "source": [
    "model.fit(x_train, y_train, batch_size=batch_size, epochs=epochs, verbose=2)"
   ]
  },
  {
   "cell_type": "code",
   "execution_count": 42,
   "id": "e952a706-8992-4417-b586-ac899a79e9d0",
   "metadata": {},
   "outputs": [],
   "source": [
    "def confusion_matrix(y_true, y_pred):\n",
    "    y_true = pd.Series([stations[y] for y in np.argmax(y_true, axis=1)])\n",
    "    y_pred = pd.Series([stations[y] for y in np.argmax(y_pred, axis=1)])\n",
    "\n",
    "    return pd.crosstab(y_true, y_pred, rownames=['True'], colnames=['Pred'])"
   ]
  },
  {
   "cell_type": "code",
   "execution_count": 43,
   "id": "d64cdb4a-bcdb-4783-aeb7-82277472e361",
   "metadata": {},
   "outputs": [
    {
     "name": "stdout",
     "output_type": "stream",
     "text": [
      "\u001b[1m180/180\u001b[0m \u001b[32m━━━━━━━━━━━━━━━━━━━━\u001b[0m\u001b[37m\u001b[0m \u001b[1m0s\u001b[0m 1ms/step  \n",
      "Pred        BELGRADE  BUDAPEST  DEBILT  DUSSELDORF  HEATHROW  KASSEL  \\\n",
      "True                                                                   \n",
      "BASEL            106       431     158         568        93      39   \n",
      "BELGRADE         121       436      20         206        24       3   \n",
      "BUDAPEST          12        38       9          42        16       0   \n",
      "DEBILT             0         1      12          24        11       1   \n",
      "DUSSELDORF         0         1       2           8         3       0   \n",
      "HEATHROW           1         2       7          14        20       0   \n",
      "KASSEL             0         2       0           5         1       0   \n",
      "LJUBLJANA          0         8       0           3         3       1   \n",
      "MAASTRICHT         0         0       3           1         0       0   \n",
      "MADRID            22        34      20          18        45       4   \n",
      "MUNCHENB           0         1       0           0         0       0   \n",
      "OSLO               0         1       1           0         1       0   \n",
      "STOCKHOLM          0         2       0           1         0       0   \n",
      "VALENTIA           0         0       0           0         0       1   \n",
      "\n",
      "Pred        LJUBLJANA  MAASTRICHT  MADRID  MUNCHENB  OSLO  STOCKHOLM  \n",
      "True                                                                  \n",
      "BASEL             111         135     208      1534   161        138  \n",
      "BELGRADE           45          42     110        74     7          4  \n",
      "BUDAPEST           12          23      46        10     5          1  \n",
      "DEBILT              2          18      11         1     0          1  \n",
      "DUSSELDORF          5           4       5         0     1          0  \n",
      "HEATHROW            3           8      20         1     5          1  \n",
      "KASSEL              0           3       0         0     0          0  \n",
      "LJUBLJANA          22           5      11         6     1          1  \n",
      "MAASTRICHT          0           3       1         1     0          0  \n",
      "MADRID             43          15     136        66    40         15  \n",
      "MUNCHENB            0           1       2         2     1          1  \n",
      "OSLO                0           1       0         1     0          0  \n",
      "STOCKHOLM           0           0       0         0     0          1  \n",
      "VALENTIA            0           0       0         0     0          0  \n"
     ]
    }
   ],
   "source": [
    "# Evaluate\n",
    "print(confusion_matrix(y_test, model.predict(x_test)))"
   ]
  },
  {
   "cell_type": "markdown",
   "id": "42ddc996-2196-48c8-bdb0-8bc735107d20",
   "metadata": {},
   "source": [
    "Softmax is not producing good results. Trial with tanh, sigmoid and relu."
   ]
  },
  {
   "cell_type": "markdown",
   "id": "28390940-1acb-487d-bb0e-02b1544abd68",
   "metadata": {},
   "source": [
    "### 7. KERAS MODEL RETRIALS"
   ]
  },
  {
   "cell_type": "code",
   "execution_count": 44,
   "id": "248a47e2-aca1-4bbd-91c3-b35bd8a1ce3d",
   "metadata": {},
   "outputs": [],
   "source": [
    "epochs = 30\n",
    "batch_size = 16\n",
    "n_hidden = 128\n",
    "\n",
    "timesteps = len(x_train[0])\n",
    "input_dim = len(x_train[0][0])\n",
    "n_classes = len(y_train[0])\n",
    "\n",
    "model = Sequential()\n",
    "model.add(Conv1D(n_hidden, kernel_size=2, activation='relu', input_shape=(timesteps, input_dim)))\n",
    "model.add(Dense(16, activation='relu'))\n",
    "model.add(MaxPooling1D())\n",
    "model.add(Flatten())\n",
    "model.add(Dense(n_classes, activation='tanh')) # Options: sigmoid, tanh, softmax, relu"
   ]
  },
  {
   "cell_type": "code",
   "execution_count": 45,
   "id": "d64e68d0-e224-4302-96ca-3d30763f34a5",
   "metadata": {},
   "outputs": [
    {
     "data": {
      "text/html": [
       "<pre style=\"white-space:pre;overflow-x:auto;line-height:normal;font-family:Menlo,'DejaVu Sans Mono',consolas,'Courier New',monospace\"><span style=\"font-weight: bold\">Model: \"sequential_2\"</span>\n",
       "</pre>\n"
      ],
      "text/plain": [
       "\u001b[1mModel: \"sequential_2\"\u001b[0m\n"
      ]
     },
     "metadata": {},
     "output_type": "display_data"
    },
    {
     "data": {
      "text/html": [
       "<pre style=\"white-space:pre;overflow-x:auto;line-height:normal;font-family:Menlo,'DejaVu Sans Mono',consolas,'Courier New',monospace\">┏━━━━━━━━━━━━━━━━━━━━━━━━━━━━━━━━━┳━━━━━━━━━━━━━━━━━━━━━━━━┳━━━━━━━━━━━━━━━┓\n",
       "┃<span style=\"font-weight: bold\"> Layer (type)                    </span>┃<span style=\"font-weight: bold\"> Output Shape           </span>┃<span style=\"font-weight: bold\">       Param # </span>┃\n",
       "┡━━━━━━━━━━━━━━━━━━━━━━━━━━━━━━━━━╇━━━━━━━━━━━━━━━━━━━━━━━━╇━━━━━━━━━━━━━━━┩\n",
       "│ conv1d_2 (<span style=\"color: #0087ff; text-decoration-color: #0087ff\">Conv1D</span>)               │ (<span style=\"color: #00d7ff; text-decoration-color: #00d7ff\">None</span>, <span style=\"color: #00af00; text-decoration-color: #00af00\">14</span>, <span style=\"color: #00af00; text-decoration-color: #00af00\">128</span>)        │         <span style=\"color: #00af00; text-decoration-color: #00af00\">2,432</span> │\n",
       "├─────────────────────────────────┼────────────────────────┼───────────────┤\n",
       "│ dense_3 (<span style=\"color: #0087ff; text-decoration-color: #0087ff\">Dense</span>)                 │ (<span style=\"color: #00d7ff; text-decoration-color: #00d7ff\">None</span>, <span style=\"color: #00af00; text-decoration-color: #00af00\">14</span>, <span style=\"color: #00af00; text-decoration-color: #00af00\">16</span>)         │         <span style=\"color: #00af00; text-decoration-color: #00af00\">2,064</span> │\n",
       "├─────────────────────────────────┼────────────────────────┼───────────────┤\n",
       "│ max_pooling1d_2 (<span style=\"color: #0087ff; text-decoration-color: #0087ff\">MaxPooling1D</span>)  │ (<span style=\"color: #00d7ff; text-decoration-color: #00d7ff\">None</span>, <span style=\"color: #00af00; text-decoration-color: #00af00\">7</span>, <span style=\"color: #00af00; text-decoration-color: #00af00\">16</span>)          │             <span style=\"color: #00af00; text-decoration-color: #00af00\">0</span> │\n",
       "├─────────────────────────────────┼────────────────────────┼───────────────┤\n",
       "│ flatten_1 (<span style=\"color: #0087ff; text-decoration-color: #0087ff\">Flatten</span>)             │ (<span style=\"color: #00d7ff; text-decoration-color: #00d7ff\">None</span>, <span style=\"color: #00af00; text-decoration-color: #00af00\">112</span>)            │             <span style=\"color: #00af00; text-decoration-color: #00af00\">0</span> │\n",
       "├─────────────────────────────────┼────────────────────────┼───────────────┤\n",
       "│ dense_4 (<span style=\"color: #0087ff; text-decoration-color: #0087ff\">Dense</span>)                 │ (<span style=\"color: #00d7ff; text-decoration-color: #00d7ff\">None</span>, <span style=\"color: #00af00; text-decoration-color: #00af00\">15</span>)             │         <span style=\"color: #00af00; text-decoration-color: #00af00\">1,695</span> │\n",
       "└─────────────────────────────────┴────────────────────────┴───────────────┘\n",
       "</pre>\n"
      ],
      "text/plain": [
       "┏━━━━━━━━━━━━━━━━━━━━━━━━━━━━━━━━━┳━━━━━━━━━━━━━━━━━━━━━━━━┳━━━━━━━━━━━━━━━┓\n",
       "┃\u001b[1m \u001b[0m\u001b[1mLayer (type)                   \u001b[0m\u001b[1m \u001b[0m┃\u001b[1m \u001b[0m\u001b[1mOutput Shape          \u001b[0m\u001b[1m \u001b[0m┃\u001b[1m \u001b[0m\u001b[1m      Param #\u001b[0m\u001b[1m \u001b[0m┃\n",
       "┡━━━━━━━━━━━━━━━━━━━━━━━━━━━━━━━━━╇━━━━━━━━━━━━━━━━━━━━━━━━╇━━━━━━━━━━━━━━━┩\n",
       "│ conv1d_2 (\u001b[38;5;33mConv1D\u001b[0m)               │ (\u001b[38;5;45mNone\u001b[0m, \u001b[38;5;34m14\u001b[0m, \u001b[38;5;34m128\u001b[0m)        │         \u001b[38;5;34m2,432\u001b[0m │\n",
       "├─────────────────────────────────┼────────────────────────┼───────────────┤\n",
       "│ dense_3 (\u001b[38;5;33mDense\u001b[0m)                 │ (\u001b[38;5;45mNone\u001b[0m, \u001b[38;5;34m14\u001b[0m, \u001b[38;5;34m16\u001b[0m)         │         \u001b[38;5;34m2,064\u001b[0m │\n",
       "├─────────────────────────────────┼────────────────────────┼───────────────┤\n",
       "│ max_pooling1d_2 (\u001b[38;5;33mMaxPooling1D\u001b[0m)  │ (\u001b[38;5;45mNone\u001b[0m, \u001b[38;5;34m7\u001b[0m, \u001b[38;5;34m16\u001b[0m)          │             \u001b[38;5;34m0\u001b[0m │\n",
       "├─────────────────────────────────┼────────────────────────┼───────────────┤\n",
       "│ flatten_1 (\u001b[38;5;33mFlatten\u001b[0m)             │ (\u001b[38;5;45mNone\u001b[0m, \u001b[38;5;34m112\u001b[0m)            │             \u001b[38;5;34m0\u001b[0m │\n",
       "├─────────────────────────────────┼────────────────────────┼───────────────┤\n",
       "│ dense_4 (\u001b[38;5;33mDense\u001b[0m)                 │ (\u001b[38;5;45mNone\u001b[0m, \u001b[38;5;34m15\u001b[0m)             │         \u001b[38;5;34m1,695\u001b[0m │\n",
       "└─────────────────────────────────┴────────────────────────┴───────────────┘\n"
      ]
     },
     "metadata": {},
     "output_type": "display_data"
    },
    {
     "data": {
      "text/html": [
       "<pre style=\"white-space:pre;overflow-x:auto;line-height:normal;font-family:Menlo,'DejaVu Sans Mono',consolas,'Courier New',monospace\"><span style=\"font-weight: bold\"> Total params: </span><span style=\"color: #00af00; text-decoration-color: #00af00\">6,191</span> (24.18 KB)\n",
       "</pre>\n"
      ],
      "text/plain": [
       "\u001b[1m Total params: \u001b[0m\u001b[38;5;34m6,191\u001b[0m (24.18 KB)\n"
      ]
     },
     "metadata": {},
     "output_type": "display_data"
    },
    {
     "data": {
      "text/html": [
       "<pre style=\"white-space:pre;overflow-x:auto;line-height:normal;font-family:Menlo,'DejaVu Sans Mono',consolas,'Courier New',monospace\"><span style=\"font-weight: bold\"> Trainable params: </span><span style=\"color: #00af00; text-decoration-color: #00af00\">6,191</span> (24.18 KB)\n",
       "</pre>\n"
      ],
      "text/plain": [
       "\u001b[1m Trainable params: \u001b[0m\u001b[38;5;34m6,191\u001b[0m (24.18 KB)\n"
      ]
     },
     "metadata": {},
     "output_type": "display_data"
    },
    {
     "data": {
      "text/html": [
       "<pre style=\"white-space:pre;overflow-x:auto;line-height:normal;font-family:Menlo,'DejaVu Sans Mono',consolas,'Courier New',monospace\"><span style=\"font-weight: bold\"> Non-trainable params: </span><span style=\"color: #00af00; text-decoration-color: #00af00\">0</span> (0.00 B)\n",
       "</pre>\n"
      ],
      "text/plain": [
       "\u001b[1m Non-trainable params: \u001b[0m\u001b[38;5;34m0\u001b[0m (0.00 B)\n"
      ]
     },
     "metadata": {},
     "output_type": "display_data"
    }
   ],
   "source": [
    "model.summary()"
   ]
  },
  {
   "cell_type": "code",
   "execution_count": 46,
   "id": "726950f6-f104-4295-a37b-589d71bb43dc",
   "metadata": {},
   "outputs": [],
   "source": [
    "model.compile(loss='categorical_crossentropy', optimizer='adam', metrics=['accuracy'])"
   ]
  },
  {
   "cell_type": "code",
   "execution_count": 48,
   "id": "38ff0396-6bff-4c3c-974f-a1f7cbf501a5",
   "metadata": {},
   "outputs": [
    {
     "name": "stdout",
     "output_type": "stream",
     "text": [
      "Epoch 1/30\n",
      "1076/1076 - 3s - 2ms/step - accuracy: 0.1217 - loss: 25.9693\n",
      "Epoch 2/30\n",
      "1076/1076 - 2s - 2ms/step - accuracy: 0.1974 - loss: 25.2063\n",
      "Epoch 3/30\n",
      "1076/1076 - 2s - 2ms/step - accuracy: 0.0365 - loss: 26.0193\n",
      "Epoch 4/30\n",
      "1076/1076 - 2s - 2ms/step - accuracy: 0.0967 - loss: 26.3806\n",
      "Epoch 5/30\n",
      "1076/1076 - 2s - 2ms/step - accuracy: 0.2752 - loss: 25.0034\n",
      "Epoch 6/30\n",
      "1076/1076 - 2s - 2ms/step - accuracy: 0.1297 - loss: 24.7150\n",
      "Epoch 7/30\n",
      "1076/1076 - 2s - 2ms/step - accuracy: 0.2554 - loss: 25.0015\n",
      "Epoch 8/30\n",
      "1076/1076 - 2s - 2ms/step - accuracy: 0.3538 - loss: 24.6357\n",
      "Epoch 9/30\n",
      "1076/1076 - 2s - 2ms/step - accuracy: 0.4736 - loss: 22.8191\n",
      "Epoch 10/30\n",
      "1076/1076 - 2s - 2ms/step - accuracy: 0.3988 - loss: 25.7580\n",
      "Epoch 11/30\n",
      "1076/1076 - 2s - 2ms/step - accuracy: 0.4459 - loss: 25.0125\n",
      "Epoch 12/30\n",
      "1076/1076 - 2s - 2ms/step - accuracy: 0.4665 - loss: 23.6903\n",
      "Epoch 13/30\n",
      "1076/1076 - 2s - 2ms/step - accuracy: 0.4298 - loss: 24.7425\n",
      "Epoch 14/30\n",
      "1076/1076 - 2s - 2ms/step - accuracy: 0.4871 - loss: 25.3784\n",
      "Epoch 15/30\n",
      "1076/1076 - 2s - 2ms/step - accuracy: 0.4814 - loss: 25.3572\n",
      "Epoch 16/30\n",
      "1076/1076 - 2s - 2ms/step - accuracy: 0.4624 - loss: 25.3797\n",
      "Epoch 17/30\n",
      "1076/1076 - 2s - 2ms/step - accuracy: 0.4596 - loss: 25.1761\n",
      "Epoch 18/30\n",
      "1076/1076 - 2s - 2ms/step - accuracy: 0.4936 - loss: 25.2932\n",
      "Epoch 19/30\n",
      "1076/1076 - 2s - 2ms/step - accuracy: 0.4278 - loss: 25.1883\n",
      "Epoch 20/30\n",
      "1076/1076 - 2s - 2ms/step - accuracy: 0.4657 - loss: 26.4785\n",
      "Epoch 21/30\n",
      "1076/1076 - 2s - 2ms/step - accuracy: 0.4682 - loss: 26.7580\n",
      "Epoch 22/30\n",
      "1076/1076 - 2s - 1ms/step - accuracy: 0.4684 - loss: 26.6364\n",
      "Epoch 23/30\n",
      "1076/1076 - 2s - 2ms/step - accuracy: 0.4668 - loss: 26.3993\n",
      "Epoch 24/30\n",
      "1076/1076 - 2s - 2ms/step - accuracy: 0.4664 - loss: 26.2148\n",
      "Epoch 25/30\n",
      "1076/1076 - 2s - 2ms/step - accuracy: 0.4683 - loss: 26.2710\n",
      "Epoch 26/30\n",
      "1076/1076 - 2s - 2ms/step - accuracy: 0.4579 - loss: 26.2991\n",
      "Epoch 27/30\n",
      "1076/1076 - 2s - 2ms/step - accuracy: 0.4533 - loss: 26.0435\n",
      "Epoch 28/30\n",
      "1076/1076 - 2s - 2ms/step - accuracy: 0.4471 - loss: 26.0041\n",
      "Epoch 29/30\n",
      "1076/1076 - 2s - 2ms/step - accuracy: 0.4265 - loss: 26.4461\n",
      "Epoch 30/30\n",
      "1076/1076 - 2s - 2ms/step - accuracy: 0.4449 - loss: 25.7166\n"
     ]
    },
    {
     "data": {
      "text/plain": [
       "<keras.src.callbacks.history.History at 0x1323d8db950>"
      ]
     },
     "execution_count": 48,
     "metadata": {},
     "output_type": "execute_result"
    }
   ],
   "source": [
    "model.fit(x_train, y_train, batch_size=batch_size, epochs=epochs, verbose=2)"
   ]
  },
  {
   "cell_type": "code",
   "execution_count": 50,
   "id": "d425f087-1cae-49bb-a0b0-51683b239158",
   "metadata": {},
   "outputs": [],
   "source": [
    "def confusion_matrix(y_true, y_pred):\n",
    "    y_true = pd.Series([stations[y] for y in np.argmax(y_true, axis=1)])\n",
    "    y_pred = pd.Series([stations[y] for y in np.argmax(y_pred, axis=1)])\n",
    "\n",
    "    return pd.crosstab(y_true, y_pred, rownames=['True'], colnames=['Pred'])"
   ]
  },
  {
   "cell_type": "code",
   "execution_count": 51,
   "id": "361a1868-364b-4461-9e24-a25baa1aae38",
   "metadata": {},
   "outputs": [
    {
     "name": "stdout",
     "output_type": "stream",
     "text": [
      "\u001b[1m180/180\u001b[0m \u001b[32m━━━━━━━━━━━━━━━━━━━━\u001b[0m\u001b[37m\u001b[0m \u001b[1m0s\u001b[0m 1ms/step\n",
      "Pred        BASEL  DEBILT  HEATHROW  LJUBLJANA  MUNCHENB  SONNBLICK  STOCKHOLM\n",
      "True                                                                          \n",
      "BASEL        3043      21        57         97       447          5         12\n",
      "BELGRADE     1029       4        25         10        17          1          6\n",
      "BUDAPEST      200       0         3          3         6          0          2\n",
      "DEBILT         82       0         0          0         0          0          0\n",
      "DUSSELDORF     28       0         0          0         0          0          1\n",
      "HEATHROW       74       4         1          0         2          0          1\n",
      "KASSEL         11       0         0          0         0          0          0\n",
      "LJUBLJANA      52       0         3          1         3          0          2\n",
      "MAASTRICHT      9       0         0          0         0          0          0\n",
      "MADRID        392       3        18          2        37          3          3\n",
      "MUNCHENB        8       0         0          0         0          0          0\n",
      "OSLO            5       0         0          0         0          0          0\n",
      "STOCKHOLM       4       0         0          0         0          0          0\n",
      "VALENTIA        1       0         0          0         0          0          0\n"
     ]
    }
   ],
   "source": [
    "# Evaluate\n",
    "print(confusion_matrix(y_test, model.predict(x_test)))"
   ]
  },
  {
   "cell_type": "markdown",
   "id": "51205915-8483-4926-928f-c34323a5ae6a",
   "metadata": {},
   "source": [
    "Better loss. Accuracy still low though. Try adjusting layers."
   ]
  },
  {
   "cell_type": "code",
   "execution_count": 52,
   "id": "42b9702a-a049-44dd-aa1c-d810f61b756e",
   "metadata": {},
   "outputs": [],
   "source": [
    "epochs = 30\n",
    "batch_size = 16\n",
    "n_hidden = 64\n",
    "\n",
    "timesteps = len(x_train[0])\n",
    "input_dim = len(x_train[0][0])\n",
    "n_classes = len(y_train[0])\n",
    "\n",
    "model = Sequential()\n",
    "model.add(Conv1D(n_hidden, kernel_size=2, activation='relu', input_shape=(timesteps, input_dim)))\n",
    "model.add(Dense(16, activation='relu'))\n",
    "model.add(MaxPooling1D())\n",
    "model.add(Flatten())\n",
    "model.add(Dense(n_classes, activation='tanh')) # Options: sigmoid, tanh, softmax, relu"
   ]
  },
  {
   "cell_type": "code",
   "execution_count": 53,
   "id": "b545502b-89d1-49c6-b371-7122b92f4fd6",
   "metadata": {},
   "outputs": [
    {
     "data": {
      "text/html": [
       "<pre style=\"white-space:pre;overflow-x:auto;line-height:normal;font-family:Menlo,'DejaVu Sans Mono',consolas,'Courier New',monospace\"><span style=\"font-weight: bold\">Model: \"sequential_3\"</span>\n",
       "</pre>\n"
      ],
      "text/plain": [
       "\u001b[1mModel: \"sequential_3\"\u001b[0m\n"
      ]
     },
     "metadata": {},
     "output_type": "display_data"
    },
    {
     "data": {
      "text/html": [
       "<pre style=\"white-space:pre;overflow-x:auto;line-height:normal;font-family:Menlo,'DejaVu Sans Mono',consolas,'Courier New',monospace\">┏━━━━━━━━━━━━━━━━━━━━━━━━━━━━━━━━━┳━━━━━━━━━━━━━━━━━━━━━━━━┳━━━━━━━━━━━━━━━┓\n",
       "┃<span style=\"font-weight: bold\"> Layer (type)                    </span>┃<span style=\"font-weight: bold\"> Output Shape           </span>┃<span style=\"font-weight: bold\">       Param # </span>┃\n",
       "┡━━━━━━━━━━━━━━━━━━━━━━━━━━━━━━━━━╇━━━━━━━━━━━━━━━━━━━━━━━━╇━━━━━━━━━━━━━━━┩\n",
       "│ conv1d_3 (<span style=\"color: #0087ff; text-decoration-color: #0087ff\">Conv1D</span>)               │ (<span style=\"color: #00d7ff; text-decoration-color: #00d7ff\">None</span>, <span style=\"color: #00af00; text-decoration-color: #00af00\">14</span>, <span style=\"color: #00af00; text-decoration-color: #00af00\">64</span>)         │         <span style=\"color: #00af00; text-decoration-color: #00af00\">1,216</span> │\n",
       "├─────────────────────────────────┼────────────────────────┼───────────────┤\n",
       "│ dense_5 (<span style=\"color: #0087ff; text-decoration-color: #0087ff\">Dense</span>)                 │ (<span style=\"color: #00d7ff; text-decoration-color: #00d7ff\">None</span>, <span style=\"color: #00af00; text-decoration-color: #00af00\">14</span>, <span style=\"color: #00af00; text-decoration-color: #00af00\">16</span>)         │         <span style=\"color: #00af00; text-decoration-color: #00af00\">1,040</span> │\n",
       "├─────────────────────────────────┼────────────────────────┼───────────────┤\n",
       "│ max_pooling1d_3 (<span style=\"color: #0087ff; text-decoration-color: #0087ff\">MaxPooling1D</span>)  │ (<span style=\"color: #00d7ff; text-decoration-color: #00d7ff\">None</span>, <span style=\"color: #00af00; text-decoration-color: #00af00\">7</span>, <span style=\"color: #00af00; text-decoration-color: #00af00\">16</span>)          │             <span style=\"color: #00af00; text-decoration-color: #00af00\">0</span> │\n",
       "├─────────────────────────────────┼────────────────────────┼───────────────┤\n",
       "│ flatten_2 (<span style=\"color: #0087ff; text-decoration-color: #0087ff\">Flatten</span>)             │ (<span style=\"color: #00d7ff; text-decoration-color: #00d7ff\">None</span>, <span style=\"color: #00af00; text-decoration-color: #00af00\">112</span>)            │             <span style=\"color: #00af00; text-decoration-color: #00af00\">0</span> │\n",
       "├─────────────────────────────────┼────────────────────────┼───────────────┤\n",
       "│ dense_6 (<span style=\"color: #0087ff; text-decoration-color: #0087ff\">Dense</span>)                 │ (<span style=\"color: #00d7ff; text-decoration-color: #00d7ff\">None</span>, <span style=\"color: #00af00; text-decoration-color: #00af00\">15</span>)             │         <span style=\"color: #00af00; text-decoration-color: #00af00\">1,695</span> │\n",
       "└─────────────────────────────────┴────────────────────────┴───────────────┘\n",
       "</pre>\n"
      ],
      "text/plain": [
       "┏━━━━━━━━━━━━━━━━━━━━━━━━━━━━━━━━━┳━━━━━━━━━━━━━━━━━━━━━━━━┳━━━━━━━━━━━━━━━┓\n",
       "┃\u001b[1m \u001b[0m\u001b[1mLayer (type)                   \u001b[0m\u001b[1m \u001b[0m┃\u001b[1m \u001b[0m\u001b[1mOutput Shape          \u001b[0m\u001b[1m \u001b[0m┃\u001b[1m \u001b[0m\u001b[1m      Param #\u001b[0m\u001b[1m \u001b[0m┃\n",
       "┡━━━━━━━━━━━━━━━━━━━━━━━━━━━━━━━━━╇━━━━━━━━━━━━━━━━━━━━━━━━╇━━━━━━━━━━━━━━━┩\n",
       "│ conv1d_3 (\u001b[38;5;33mConv1D\u001b[0m)               │ (\u001b[38;5;45mNone\u001b[0m, \u001b[38;5;34m14\u001b[0m, \u001b[38;5;34m64\u001b[0m)         │         \u001b[38;5;34m1,216\u001b[0m │\n",
       "├─────────────────────────────────┼────────────────────────┼───────────────┤\n",
       "│ dense_5 (\u001b[38;5;33mDense\u001b[0m)                 │ (\u001b[38;5;45mNone\u001b[0m, \u001b[38;5;34m14\u001b[0m, \u001b[38;5;34m16\u001b[0m)         │         \u001b[38;5;34m1,040\u001b[0m │\n",
       "├─────────────────────────────────┼────────────────────────┼───────────────┤\n",
       "│ max_pooling1d_3 (\u001b[38;5;33mMaxPooling1D\u001b[0m)  │ (\u001b[38;5;45mNone\u001b[0m, \u001b[38;5;34m7\u001b[0m, \u001b[38;5;34m16\u001b[0m)          │             \u001b[38;5;34m0\u001b[0m │\n",
       "├─────────────────────────────────┼────────────────────────┼───────────────┤\n",
       "│ flatten_2 (\u001b[38;5;33mFlatten\u001b[0m)             │ (\u001b[38;5;45mNone\u001b[0m, \u001b[38;5;34m112\u001b[0m)            │             \u001b[38;5;34m0\u001b[0m │\n",
       "├─────────────────────────────────┼────────────────────────┼───────────────┤\n",
       "│ dense_6 (\u001b[38;5;33mDense\u001b[0m)                 │ (\u001b[38;5;45mNone\u001b[0m, \u001b[38;5;34m15\u001b[0m)             │         \u001b[38;5;34m1,695\u001b[0m │\n",
       "└─────────────────────────────────┴────────────────────────┴───────────────┘\n"
      ]
     },
     "metadata": {},
     "output_type": "display_data"
    },
    {
     "data": {
      "text/html": [
       "<pre style=\"white-space:pre;overflow-x:auto;line-height:normal;font-family:Menlo,'DejaVu Sans Mono',consolas,'Courier New',monospace\"><span style=\"font-weight: bold\"> Total params: </span><span style=\"color: #00af00; text-decoration-color: #00af00\">3,951</span> (15.43 KB)\n",
       "</pre>\n"
      ],
      "text/plain": [
       "\u001b[1m Total params: \u001b[0m\u001b[38;5;34m3,951\u001b[0m (15.43 KB)\n"
      ]
     },
     "metadata": {},
     "output_type": "display_data"
    },
    {
     "data": {
      "text/html": [
       "<pre style=\"white-space:pre;overflow-x:auto;line-height:normal;font-family:Menlo,'DejaVu Sans Mono',consolas,'Courier New',monospace\"><span style=\"font-weight: bold\"> Trainable params: </span><span style=\"color: #00af00; text-decoration-color: #00af00\">3,951</span> (15.43 KB)\n",
       "</pre>\n"
      ],
      "text/plain": [
       "\u001b[1m Trainable params: \u001b[0m\u001b[38;5;34m3,951\u001b[0m (15.43 KB)\n"
      ]
     },
     "metadata": {},
     "output_type": "display_data"
    },
    {
     "data": {
      "text/html": [
       "<pre style=\"white-space:pre;overflow-x:auto;line-height:normal;font-family:Menlo,'DejaVu Sans Mono',consolas,'Courier New',monospace\"><span style=\"font-weight: bold\"> Non-trainable params: </span><span style=\"color: #00af00; text-decoration-color: #00af00\">0</span> (0.00 B)\n",
       "</pre>\n"
      ],
      "text/plain": [
       "\u001b[1m Non-trainable params: \u001b[0m\u001b[38;5;34m0\u001b[0m (0.00 B)\n"
      ]
     },
     "metadata": {},
     "output_type": "display_data"
    }
   ],
   "source": [
    "model.summary()"
   ]
  },
  {
   "cell_type": "code",
   "execution_count": 54,
   "id": "1f4caafb-8339-4d85-ad9d-b76a95ca6443",
   "metadata": {},
   "outputs": [],
   "source": [
    "model.compile(loss='categorical_crossentropy', optimizer='adam', metrics=['accuracy'])"
   ]
  },
  {
   "cell_type": "code",
   "execution_count": 55,
   "id": "df697c62-947b-4aeb-a826-b86872819980",
   "metadata": {},
   "outputs": [
    {
     "name": "stdout",
     "output_type": "stream",
     "text": [
      "Epoch 1/30\n",
      "1076/1076 - 3s - 2ms/step - accuracy: 0.0668 - loss: 25.8821\n",
      "Epoch 2/30\n",
      "1076/1076 - 2s - 2ms/step - accuracy: 0.0451 - loss: 25.3603\n",
      "Epoch 3/30\n",
      "1076/1076 - 2s - 2ms/step - accuracy: 0.0897 - loss: 25.2614\n",
      "Epoch 4/30\n",
      "1076/1076 - 2s - 2ms/step - accuracy: 0.0546 - loss: 26.4601\n",
      "Epoch 5/30\n",
      "1076/1076 - 2s - 2ms/step - accuracy: 0.0984 - loss: 25.6162\n",
      "Epoch 6/30\n",
      "1076/1076 - 2s - 2ms/step - accuracy: 0.1247 - loss: 25.1287\n",
      "Epoch 7/30\n",
      "1076/1076 - 2s - 2ms/step - accuracy: 0.2402 - loss: 25.0655\n",
      "Epoch 8/30\n",
      "1076/1076 - 2s - 2ms/step - accuracy: 0.2379 - loss: 23.9095\n",
      "Epoch 9/30\n",
      "1076/1076 - 2s - 2ms/step - accuracy: 0.3236 - loss: 24.1124\n",
      "Epoch 10/30\n",
      "1076/1076 - 2s - 2ms/step - accuracy: 0.2899 - loss: 23.4746\n",
      "Epoch 11/30\n",
      "1076/1076 - 2s - 2ms/step - accuracy: 0.1866 - loss: 23.9130\n",
      "Epoch 12/30\n",
      "1076/1076 - 2s - 2ms/step - accuracy: 0.2660 - loss: 25.2391\n",
      "Epoch 13/30\n",
      "1076/1076 - 2s - 2ms/step - accuracy: 0.1111 - loss: 25.7743\n",
      "Epoch 14/30\n",
      "1076/1076 - 2s - 1ms/step - accuracy: 0.0410 - loss: 24.8508\n",
      "Epoch 15/30\n",
      "1076/1076 - 2s - 2ms/step - accuracy: 0.0326 - loss: 24.5355\n",
      "Epoch 16/30\n",
      "1076/1076 - 2s - 1ms/step - accuracy: 0.0471 - loss: 25.9878\n",
      "Epoch 17/30\n",
      "1076/1076 - 2s - 2ms/step - accuracy: 0.0664 - loss: 27.3591\n",
      "Epoch 18/30\n",
      "1076/1076 - 2s - 2ms/step - accuracy: 0.0758 - loss: 23.6077\n",
      "Epoch 19/30\n",
      "1076/1076 - 2s - 2ms/step - accuracy: 0.0779 - loss: 22.7189\n",
      "Epoch 20/30\n",
      "1076/1076 - 2s - 1ms/step - accuracy: 0.0879 - loss: 21.5526\n",
      "Epoch 21/30\n",
      "1076/1076 - 2s - 2ms/step - accuracy: 0.0979 - loss: 19.0642\n",
      "Epoch 22/30\n",
      "1076/1076 - 2s - 1ms/step - accuracy: 0.1012 - loss: 18.9525\n",
      "Epoch 23/30\n",
      "1076/1076 - 2s - 2ms/step - accuracy: 0.1014 - loss: 18.9823\n",
      "Epoch 24/30\n",
      "1076/1076 - 2s - 2ms/step - accuracy: 0.1017 - loss: 18.8417\n",
      "Epoch 25/30\n",
      "1076/1076 - 2s - 2ms/step - accuracy: 0.1044 - loss: 18.7948\n",
      "Epoch 26/30\n",
      "1076/1076 - 2s - 1ms/step - accuracy: 0.1056 - loss: 18.8283\n",
      "Epoch 27/30\n",
      "1076/1076 - 2s - 2ms/step - accuracy: 0.0722 - loss: 19.4262\n",
      "Epoch 28/30\n",
      "1076/1076 - 2s - 1ms/step - accuracy: 0.0442 - loss: 20.0636\n",
      "Epoch 29/30\n",
      "1076/1076 - 2s - 2ms/step - accuracy: 0.0300 - loss: 20.4147\n",
      "Epoch 30/30\n",
      "1076/1076 - 2s - 2ms/step - accuracy: 0.0249 - loss: 20.3996\n"
     ]
    },
    {
     "data": {
      "text/plain": [
       "<keras.src.callbacks.history.History at 0x132405b4e30>"
      ]
     },
     "execution_count": 55,
     "metadata": {},
     "output_type": "execute_result"
    }
   ],
   "source": [
    "model.fit(x_train, y_train, batch_size=batch_size, epochs=epochs, verbose=2)"
   ]
  },
  {
   "cell_type": "code",
   "execution_count": 56,
   "id": "a382e511-29a3-484f-b91b-88a10765a867",
   "metadata": {},
   "outputs": [],
   "source": [
    "def confusion_matrix(y_true, y_pred):\n",
    "    y_true = pd.Series([stations[y] for y in np.argmax(y_true, axis=1)])\n",
    "    y_pred = pd.Series([stations[y] for y in np.argmax(y_pred, axis=1)])\n",
    "\n",
    "    return pd.crosstab(y_true, y_pred, rownames=['True'], colnames=['Pred'])"
   ]
  },
  {
   "cell_type": "code",
   "execution_count": 57,
   "id": "facdc82c-2721-4f69-9c04-46aa26a5834c",
   "metadata": {},
   "outputs": [
    {
     "name": "stdout",
     "output_type": "stream",
     "text": [
      "\u001b[1m180/180\u001b[0m \u001b[32m━━━━━━━━━━━━━━━━━━━━\u001b[0m\u001b[37m\u001b[0m \u001b[1m0s\u001b[0m 1ms/step  \n",
      "Pred        BELGRADE  DEBILT  DUSSELDORF  HEATHROW  KASSEL  LJUBLJANA  \\\n",
      "True                                                                    \n",
      "BASEL             60    2360         239       494     493         14   \n",
      "BELGRADE           6     824          45       102      74         19   \n",
      "BUDAPEST           2     156          13        20      17          0   \n",
      "DEBILT             0      78           1         0       2          1   \n",
      "DUSSELDORF         0      26           2         1       0          0   \n",
      "HEATHROW           0      49           6        12      13          1   \n",
      "KASSEL             0      11           0         0       0          0   \n",
      "LJUBLJANA          0      28           2        16      15          0   \n",
      "MAASTRICHT         0       6           1         1       1          0   \n",
      "MADRID             0     165          26       101     145          6   \n",
      "MUNCHENB           0       2           0         4       1          1   \n",
      "OSLO               0       4           0         1       0          0   \n",
      "STOCKHOLM          0       3           0         0       0          1   \n",
      "VALENTIA           0       1           0         0       0          0   \n",
      "\n",
      "Pred        MAASTRICHT  MADRID  \n",
      "True                            \n",
      "BASEL                7      15  \n",
      "BELGRADE             2      20  \n",
      "BUDAPEST             1       5  \n",
      "DEBILT               0       0  \n",
      "DUSSELDORF           0       0  \n",
      "HEATHROW             1       0  \n",
      "KASSEL               0       0  \n",
      "LJUBLJANA            0       0  \n",
      "MAASTRICHT           0       0  \n",
      "MADRID               2      13  \n",
      "MUNCHENB             0       0  \n",
      "OSLO                 0       0  \n",
      "STOCKHOLM            0       0  \n",
      "VALENTIA             0       0  \n"
     ]
    }
   ],
   "source": [
    "# Evaluate\n",
    "\n",
    "print(confusion_matrix(y_test, model.predict(x_test)))"
   ]
  },
  {
   "cell_type": "markdown",
   "id": "da9aad92-3fa6-43fb-9469-734dca5c6118",
   "metadata": {},
   "source": [
    "Loss is not is stable but not as low as I would like, however accuracy is much higher. Trial with sigmoid and relu¶"
   ]
  },
  {
   "cell_type": "code",
   "execution_count": 60,
   "id": "ed08fc38-99f6-4425-b42d-64d4e187638f",
   "metadata": {},
   "outputs": [],
   "source": [
    "epochs = 30\n",
    "batch_size = 16\n",
    "n_hidden = 64\n",
    "\n",
    "timesteps = len(x_train[0])\n",
    "input_dim = len(x_train[0][0])\n",
    "n_classes = len(y_train[0])\n",
    "\n",
    "model = Sequential()\n",
    "model.add(Conv1D(n_hidden, kernel_size=2, activation='relu', input_shape=(timesteps, input_dim)))\n",
    "model.add(Dense(16, activation='relu'))\n",
    "model.add(MaxPooling1D())\n",
    "model.add(Flatten())\n",
    "model.add(Dense(n_classes, activation='sigmoid')) # Options: sigmoid, tanh, softmax, relu"
   ]
  },
  {
   "cell_type": "code",
   "execution_count": 61,
   "id": "819c5a2a-6b18-4168-a0f4-43fef2752c67",
   "metadata": {},
   "outputs": [
    {
     "data": {
      "text/html": [
       "<pre style=\"white-space:pre;overflow-x:auto;line-height:normal;font-family:Menlo,'DejaVu Sans Mono',consolas,'Courier New',monospace\"><span style=\"font-weight: bold\">Model: \"sequential_4\"</span>\n",
       "</pre>\n"
      ],
      "text/plain": [
       "\u001b[1mModel: \"sequential_4\"\u001b[0m\n"
      ]
     },
     "metadata": {},
     "output_type": "display_data"
    },
    {
     "data": {
      "text/html": [
       "<pre style=\"white-space:pre;overflow-x:auto;line-height:normal;font-family:Menlo,'DejaVu Sans Mono',consolas,'Courier New',monospace\">┏━━━━━━━━━━━━━━━━━━━━━━━━━━━━━━━━━┳━━━━━━━━━━━━━━━━━━━━━━━━┳━━━━━━━━━━━━━━━┓\n",
       "┃<span style=\"font-weight: bold\"> Layer (type)                    </span>┃<span style=\"font-weight: bold\"> Output Shape           </span>┃<span style=\"font-weight: bold\">       Param # </span>┃\n",
       "┡━━━━━━━━━━━━━━━━━━━━━━━━━━━━━━━━━╇━━━━━━━━━━━━━━━━━━━━━━━━╇━━━━━━━━━━━━━━━┩\n",
       "│ conv1d_4 (<span style=\"color: #0087ff; text-decoration-color: #0087ff\">Conv1D</span>)               │ (<span style=\"color: #00d7ff; text-decoration-color: #00d7ff\">None</span>, <span style=\"color: #00af00; text-decoration-color: #00af00\">14</span>, <span style=\"color: #00af00; text-decoration-color: #00af00\">64</span>)         │         <span style=\"color: #00af00; text-decoration-color: #00af00\">1,216</span> │\n",
       "├─────────────────────────────────┼────────────────────────┼───────────────┤\n",
       "│ dense_7 (<span style=\"color: #0087ff; text-decoration-color: #0087ff\">Dense</span>)                 │ (<span style=\"color: #00d7ff; text-decoration-color: #00d7ff\">None</span>, <span style=\"color: #00af00; text-decoration-color: #00af00\">14</span>, <span style=\"color: #00af00; text-decoration-color: #00af00\">16</span>)         │         <span style=\"color: #00af00; text-decoration-color: #00af00\">1,040</span> │\n",
       "├─────────────────────────────────┼────────────────────────┼───────────────┤\n",
       "│ max_pooling1d_4 (<span style=\"color: #0087ff; text-decoration-color: #0087ff\">MaxPooling1D</span>)  │ (<span style=\"color: #00d7ff; text-decoration-color: #00d7ff\">None</span>, <span style=\"color: #00af00; text-decoration-color: #00af00\">7</span>, <span style=\"color: #00af00; text-decoration-color: #00af00\">16</span>)          │             <span style=\"color: #00af00; text-decoration-color: #00af00\">0</span> │\n",
       "├─────────────────────────────────┼────────────────────────┼───────────────┤\n",
       "│ flatten_3 (<span style=\"color: #0087ff; text-decoration-color: #0087ff\">Flatten</span>)             │ (<span style=\"color: #00d7ff; text-decoration-color: #00d7ff\">None</span>, <span style=\"color: #00af00; text-decoration-color: #00af00\">112</span>)            │             <span style=\"color: #00af00; text-decoration-color: #00af00\">0</span> │\n",
       "├─────────────────────────────────┼────────────────────────┼───────────────┤\n",
       "│ dense_8 (<span style=\"color: #0087ff; text-decoration-color: #0087ff\">Dense</span>)                 │ (<span style=\"color: #00d7ff; text-decoration-color: #00d7ff\">None</span>, <span style=\"color: #00af00; text-decoration-color: #00af00\">15</span>)             │         <span style=\"color: #00af00; text-decoration-color: #00af00\">1,695</span> │\n",
       "└─────────────────────────────────┴────────────────────────┴───────────────┘\n",
       "</pre>\n"
      ],
      "text/plain": [
       "┏━━━━━━━━━━━━━━━━━━━━━━━━━━━━━━━━━┳━━━━━━━━━━━━━━━━━━━━━━━━┳━━━━━━━━━━━━━━━┓\n",
       "┃\u001b[1m \u001b[0m\u001b[1mLayer (type)                   \u001b[0m\u001b[1m \u001b[0m┃\u001b[1m \u001b[0m\u001b[1mOutput Shape          \u001b[0m\u001b[1m \u001b[0m┃\u001b[1m \u001b[0m\u001b[1m      Param #\u001b[0m\u001b[1m \u001b[0m┃\n",
       "┡━━━━━━━━━━━━━━━━━━━━━━━━━━━━━━━━━╇━━━━━━━━━━━━━━━━━━━━━━━━╇━━━━━━━━━━━━━━━┩\n",
       "│ conv1d_4 (\u001b[38;5;33mConv1D\u001b[0m)               │ (\u001b[38;5;45mNone\u001b[0m, \u001b[38;5;34m14\u001b[0m, \u001b[38;5;34m64\u001b[0m)         │         \u001b[38;5;34m1,216\u001b[0m │\n",
       "├─────────────────────────────────┼────────────────────────┼───────────────┤\n",
       "│ dense_7 (\u001b[38;5;33mDense\u001b[0m)                 │ (\u001b[38;5;45mNone\u001b[0m, \u001b[38;5;34m14\u001b[0m, \u001b[38;5;34m16\u001b[0m)         │         \u001b[38;5;34m1,040\u001b[0m │\n",
       "├─────────────────────────────────┼────────────────────────┼───────────────┤\n",
       "│ max_pooling1d_4 (\u001b[38;5;33mMaxPooling1D\u001b[0m)  │ (\u001b[38;5;45mNone\u001b[0m, \u001b[38;5;34m7\u001b[0m, \u001b[38;5;34m16\u001b[0m)          │             \u001b[38;5;34m0\u001b[0m │\n",
       "├─────────────────────────────────┼────────────────────────┼───────────────┤\n",
       "│ flatten_3 (\u001b[38;5;33mFlatten\u001b[0m)             │ (\u001b[38;5;45mNone\u001b[0m, \u001b[38;5;34m112\u001b[0m)            │             \u001b[38;5;34m0\u001b[0m │\n",
       "├─────────────────────────────────┼────────────────────────┼───────────────┤\n",
       "│ dense_8 (\u001b[38;5;33mDense\u001b[0m)                 │ (\u001b[38;5;45mNone\u001b[0m, \u001b[38;5;34m15\u001b[0m)             │         \u001b[38;5;34m1,695\u001b[0m │\n",
       "└─────────────────────────────────┴────────────────────────┴───────────────┘\n"
      ]
     },
     "metadata": {},
     "output_type": "display_data"
    },
    {
     "data": {
      "text/html": [
       "<pre style=\"white-space:pre;overflow-x:auto;line-height:normal;font-family:Menlo,'DejaVu Sans Mono',consolas,'Courier New',monospace\"><span style=\"font-weight: bold\"> Total params: </span><span style=\"color: #00af00; text-decoration-color: #00af00\">3,951</span> (15.43 KB)\n",
       "</pre>\n"
      ],
      "text/plain": [
       "\u001b[1m Total params: \u001b[0m\u001b[38;5;34m3,951\u001b[0m (15.43 KB)\n"
      ]
     },
     "metadata": {},
     "output_type": "display_data"
    },
    {
     "data": {
      "text/html": [
       "<pre style=\"white-space:pre;overflow-x:auto;line-height:normal;font-family:Menlo,'DejaVu Sans Mono',consolas,'Courier New',monospace\"><span style=\"font-weight: bold\"> Trainable params: </span><span style=\"color: #00af00; text-decoration-color: #00af00\">3,951</span> (15.43 KB)\n",
       "</pre>\n"
      ],
      "text/plain": [
       "\u001b[1m Trainable params: \u001b[0m\u001b[38;5;34m3,951\u001b[0m (15.43 KB)\n"
      ]
     },
     "metadata": {},
     "output_type": "display_data"
    },
    {
     "data": {
      "text/html": [
       "<pre style=\"white-space:pre;overflow-x:auto;line-height:normal;font-family:Menlo,'DejaVu Sans Mono',consolas,'Courier New',monospace\"><span style=\"font-weight: bold\"> Non-trainable params: </span><span style=\"color: #00af00; text-decoration-color: #00af00\">0</span> (0.00 B)\n",
       "</pre>\n"
      ],
      "text/plain": [
       "\u001b[1m Non-trainable params: \u001b[0m\u001b[38;5;34m0\u001b[0m (0.00 B)\n"
      ]
     },
     "metadata": {},
     "output_type": "display_data"
    }
   ],
   "source": [
    "model.summary()"
   ]
  },
  {
   "cell_type": "code",
   "execution_count": 62,
   "id": "979108f9-8512-40f9-9602-1d55a91ada95",
   "metadata": {},
   "outputs": [],
   "source": [
    "model.compile(loss='categorical_crossentropy', optimizer='adam', metrics=['accuracy'])"
   ]
  },
  {
   "cell_type": "code",
   "execution_count": 63,
   "id": "3b99fd4f-914f-4635-baa7-0762f59e51be",
   "metadata": {},
   "outputs": [
    {
     "name": "stdout",
     "output_type": "stream",
     "text": [
      "Epoch 1/30\n",
      "1076/1076 - 2s - 2ms/step - accuracy: 0.5380 - loss: 2848.9819\n",
      "Epoch 2/30\n",
      "1076/1076 - 2s - 2ms/step - accuracy: 0.6437 - loss: 28089.4648\n",
      "Epoch 3/30\n",
      "1076/1076 - 2s - 2ms/step - accuracy: 0.6439 - loss: 89459.3828\n",
      "Epoch 4/30\n",
      "1076/1076 - 2s - 2ms/step - accuracy: 0.6438 - loss: 198870.9219\n",
      "Epoch 5/30\n",
      "1076/1076 - 2s - 1ms/step - accuracy: 0.6439 - loss: 360844.6875\n",
      "Epoch 6/30\n",
      "1076/1076 - 1s - 1ms/step - accuracy: 0.6440 - loss: 583629.3125\n",
      "Epoch 7/30\n",
      "1076/1076 - 1s - 1ms/step - accuracy: 0.6439 - loss: 880736.3125\n",
      "Epoch 8/30\n",
      "1076/1076 - 1s - 1ms/step - accuracy: 0.6439 - loss: 1222669.6250\n",
      "Epoch 9/30\n",
      "1076/1076 - 1s - 1ms/step - accuracy: 0.6440 - loss: 1636484.2500\n",
      "Epoch 10/30\n",
      "1076/1076 - 1s - 1ms/step - accuracy: 0.6439 - loss: 2168347.5000\n",
      "Epoch 11/30\n",
      "1076/1076 - 1s - 1ms/step - accuracy: 0.6440 - loss: 2734612.2500\n",
      "Epoch 12/30\n",
      "1076/1076 - 1s - 1ms/step - accuracy: 0.6439 - loss: 3436290.7500\n",
      "Epoch 13/30\n",
      "1076/1076 - 1s - 1ms/step - accuracy: 0.6440 - loss: 4152364.0000\n",
      "Epoch 14/30\n",
      "1076/1076 - 2s - 2ms/step - accuracy: 0.6439 - loss: 5015548.0000\n",
      "Epoch 15/30\n",
      "1076/1076 - 1s - 1ms/step - accuracy: 0.6439 - loss: 5983899.0000\n",
      "Epoch 16/30\n",
      "1076/1076 - 2s - 1ms/step - accuracy: 0.6439 - loss: 7073042.5000\n",
      "Epoch 17/30\n",
      "1076/1076 - 2s - 1ms/step - accuracy: 0.6439 - loss: 8228904.0000\n",
      "Epoch 18/30\n",
      "1076/1076 - 2s - 1ms/step - accuracy: 0.6440 - loss: 9531605.0000\n",
      "Epoch 19/30\n",
      "1076/1076 - 1s - 1ms/step - accuracy: 0.6440 - loss: 11009840.0000\n",
      "Epoch 20/30\n",
      "1076/1076 - 1s - 1ms/step - accuracy: 0.6439 - loss: 12526095.0000\n",
      "Epoch 21/30\n",
      "1076/1076 - 1s - 1ms/step - accuracy: 0.6439 - loss: 14241400.0000\n",
      "Epoch 22/30\n",
      "1076/1076 - 2s - 2ms/step - accuracy: 0.6440 - loss: 16075266.0000\n",
      "Epoch 23/30\n",
      "1076/1076 - 2s - 1ms/step - accuracy: 0.6439 - loss: 18135604.0000\n",
      "Epoch 24/30\n",
      "1076/1076 - 2s - 2ms/step - accuracy: 0.6440 - loss: 20234944.0000\n",
      "Epoch 25/30\n",
      "1076/1076 - 2s - 2ms/step - accuracy: 0.6440 - loss: 22530434.0000\n",
      "Epoch 26/30\n",
      "1076/1076 - 2s - 1ms/step - accuracy: 0.6440 - loss: 24963240.0000\n",
      "Epoch 27/30\n",
      "1076/1076 - 1s - 1ms/step - accuracy: 0.6440 - loss: 27601728.0000\n",
      "Epoch 28/30\n",
      "1076/1076 - 1s - 1ms/step - accuracy: 0.6440 - loss: 30474332.0000\n",
      "Epoch 29/30\n",
      "1076/1076 - 1s - 1ms/step - accuracy: 0.6440 - loss: 33571444.0000\n",
      "Epoch 30/30\n",
      "1076/1076 - 1s - 1ms/step - accuracy: 0.6440 - loss: 36695924.0000\n"
     ]
    },
    {
     "data": {
      "text/plain": [
       "<keras.src.callbacks.history.History at 0x13240617680>"
      ]
     },
     "execution_count": 63,
     "metadata": {},
     "output_type": "execute_result"
    }
   ],
   "source": [
    "model.fit(x_train, y_train, batch_size=batch_size, epochs=epochs, verbose=2)"
   ]
  },
  {
   "cell_type": "code",
   "execution_count": 66,
   "id": "407c06e2-a459-4a79-a05a-58e64455cb9a",
   "metadata": {},
   "outputs": [],
   "source": [
    "def confusion_matrix(y_true, y_pred):\n",
    "    y_true = pd.Series([stations[y] for y in np.argmax(y_true, axis=1)])\n",
    "    y_pred = pd.Series([stations[y] for y in np.argmax(y_pred, axis=1)])\n",
    "\n",
    "    return pd.crosstab(y_true, y_pred, rownames=['True'], colnames=['Pred'])"
   ]
  },
  {
   "cell_type": "code",
   "execution_count": 67,
   "id": "7cab0b7c-3b81-40c9-84e0-e1c362ea437f",
   "metadata": {},
   "outputs": [
    {
     "name": "stdout",
     "output_type": "stream",
     "text": [
      "\u001b[1m180/180\u001b[0m \u001b[32m━━━━━━━━━━━━━━━━━━━━\u001b[0m\u001b[37m\u001b[0m \u001b[1m0s\u001b[0m 985us/step\n",
      "Pred        BASEL\n",
      "True             \n",
      "BASEL        3682\n",
      "BELGRADE     1092\n",
      "BUDAPEST      214\n",
      "DEBILT         82\n",
      "DUSSELDORF     29\n",
      "HEATHROW       82\n",
      "KASSEL         11\n",
      "LJUBLJANA      61\n",
      "MAASTRICHT      9\n",
      "MADRID        458\n",
      "MUNCHENB        8\n",
      "OSLO            5\n",
      "STOCKHOLM       4\n",
      "VALENTIA        1\n"
     ]
    }
   ],
   "source": [
    "# Evaluate\n",
    "\n",
    "print(confusion_matrix(y_test, model.predict(x_test)))"
   ]
  },
  {
   "cell_type": "code",
   "execution_count": null,
   "id": "298754c5-f0bd-41c2-98a3-72e5d6cb8155",
   "metadata": {},
   "outputs": [],
   "source": []
  }
 ],
 "metadata": {
  "kernelspec": {
   "display_name": "Python 3 (ipykernel)",
   "language": "python",
   "name": "python3"
  },
  "language_info": {
   "codemirror_mode": {
    "name": "ipython",
    "version": 3
   },
   "file_extension": ".py",
   "mimetype": "text/x-python",
   "name": "python",
   "nbconvert_exporter": "python",
   "pygments_lexer": "ipython3",
   "version": "3.12.3"
  }
 },
 "nbformat": 4,
 "nbformat_minor": 5
}
